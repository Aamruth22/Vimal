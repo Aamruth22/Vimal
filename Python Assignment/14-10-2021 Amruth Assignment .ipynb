{
 "cells": [
  {
   "cell_type": "markdown",
   "id": "9b0755d5",
   "metadata": {},
   "source": [
    "# 1: Float Number"
   ]
  },
  {
   "cell_type": "code",
   "execution_count": 1,
   "id": "707e1ec3",
   "metadata": {},
   "outputs": [],
   "source": [
    "import re\n",
    "pattern=\"^[+-]?\\d*\\.{1}\\d+$\""
   ]
  },
  {
   "cell_type": "code",
   "execution_count": 14,
   "id": "2a97662d",
   "metadata": {},
   "outputs": [
    {
     "data": {
      "text/plain": [
       "True"
      ]
     },
     "execution_count": 14,
     "metadata": {},
     "output_type": "execute_result"
    }
   ],
   "source": [
    "bool(re.match(pattern,\"12.12\"))"
   ]
  },
  {
   "cell_type": "code",
   "execution_count": 15,
   "id": "5e16c03f",
   "metadata": {},
   "outputs": [
    {
     "data": {
      "text/plain": [
       "False"
      ]
     },
     "execution_count": 15,
     "metadata": {},
     "output_type": "execute_result"
    }
   ],
   "source": [
    "bool(re.match(pattern, \"12.\"))"
   ]
  },
  {
   "cell_type": "code",
   "execution_count": 16,
   "id": "96543679",
   "metadata": {},
   "outputs": [
    {
     "data": {
      "text/plain": [
       "True"
      ]
     },
     "execution_count": 16,
     "metadata": {},
     "output_type": "execute_result"
    }
   ],
   "source": [
    "bool(re.match(pattern, \".1\"))"
   ]
  },
  {
   "cell_type": "code",
   "execution_count": 17,
   "id": "56d0da59",
   "metadata": {},
   "outputs": [
    {
     "data": {
      "text/plain": [
       "True"
      ]
     },
     "execution_count": 17,
     "metadata": {},
     "output_type": "execute_result"
    }
   ],
   "source": [
    "bool(re.match(pattern, \"-.1\"))"
   ]
  },
  {
   "cell_type": "code",
   "execution_count": 18,
   "id": "fde52344",
   "metadata": {},
   "outputs": [
    {
     "data": {
      "text/plain": [
       "True"
      ]
     },
     "execution_count": 18,
     "metadata": {},
     "output_type": "execute_result"
    }
   ],
   "source": [
    "bool(re.match(pattern, \"+4.4\"))"
   ]
  },
  {
   "cell_type": "code",
   "execution_count": 19,
   "id": "1496d0af",
   "metadata": {},
   "outputs": [
    {
     "data": {
      "text/plain": [
       "False"
      ]
     },
     "execution_count": 19,
     "metadata": {},
     "output_type": "execute_result"
    }
   ],
   "source": [
    "bool(re.match(pattern, \"+4\"))"
   ]
  },
  {
   "cell_type": "code",
   "execution_count": 20,
   "id": "544d3c07",
   "metadata": {},
   "outputs": [
    {
     "data": {
      "text/plain": [
       "False"
      ]
     },
     "execution_count": 20,
     "metadata": {},
     "output_type": "execute_result"
    }
   ],
   "source": [
    "bool(re.match(pattern, \"+4.4av\"))"
   ]
  },
  {
   "cell_type": "markdown",
   "id": "9c9f7d4a",
   "metadata": {},
   "source": [
    "# Existentialism"
   ]
  },
  {
   "cell_type": "code",
   "execution_count": 21,
   "id": "6c366cb9",
   "metadata": {},
   "outputs": [],
   "source": [
    "import re\n",
    "txt1 = \"\"\n",
    "txt2 = \"This is not an empty string.\"\n",
    "nothing = '^$'\n",
    "anything = '^$|.+'\n",
    "something = r'.+'"
   ]
  },
  {
   "cell_type": "code",
   "execution_count": 22,
   "id": "fe828665",
   "metadata": {},
   "outputs": [
    {
     "data": {
      "text/plain": [
       "True"
      ]
     },
     "execution_count": 22,
     "metadata": {},
     "output_type": "execute_result"
    }
   ],
   "source": [
    "bool(re.match(nothing, txt1))"
   ]
  },
  {
   "cell_type": "code",
   "execution_count": 23,
   "id": "46d775cd",
   "metadata": {},
   "outputs": [
    {
     "data": {
      "text/plain": [
       "False"
      ]
     },
     "execution_count": 23,
     "metadata": {},
     "output_type": "execute_result"
    }
   ],
   "source": [
    "bool(re.match(nothing, txt2))"
   ]
  },
  {
   "cell_type": "code",
   "execution_count": 24,
   "id": "78e3642b",
   "metadata": {},
   "outputs": [
    {
     "data": {
      "text/plain": [
       "['']"
      ]
     },
     "execution_count": 24,
     "metadata": {},
     "output_type": "execute_result"
    }
   ],
   "source": [
    "re.findall(nothing, txt1)"
   ]
  },
  {
   "cell_type": "code",
   "execution_count": 25,
   "id": "36b618bb",
   "metadata": {},
   "outputs": [
    {
     "data": {
      "text/plain": [
       "[]"
      ]
     },
     "execution_count": 25,
     "metadata": {},
     "output_type": "execute_result"
    }
   ],
   "source": [
    "re.findall(nothing, txt2)"
   ]
  },
  {
   "cell_type": "code",
   "execution_count": 26,
   "id": "75ff46c4",
   "metadata": {},
   "outputs": [
    {
     "data": {
      "text/plain": [
       "True"
      ]
     },
     "execution_count": 26,
     "metadata": {},
     "output_type": "execute_result"
    }
   ],
   "source": [
    "bool(re.match(anything, txt1))"
   ]
  },
  {
   "cell_type": "code",
   "execution_count": 27,
   "id": "b80fe659",
   "metadata": {},
   "outputs": [
    {
     "data": {
      "text/plain": [
       "True"
      ]
     },
     "execution_count": 27,
     "metadata": {},
     "output_type": "execute_result"
    }
   ],
   "source": [
    "bool(re.match(anything, txt2))"
   ]
  },
  {
   "cell_type": "code",
   "execution_count": 28,
   "id": "2e6f7e69",
   "metadata": {},
   "outputs": [
    {
     "data": {
      "text/plain": [
       "['']"
      ]
     },
     "execution_count": 28,
     "metadata": {},
     "output_type": "execute_result"
    }
   ],
   "source": [
    "re.findall(anything, txt1)"
   ]
  },
  {
   "cell_type": "code",
   "execution_count": 29,
   "id": "30a1aad5",
   "metadata": {},
   "outputs": [
    {
     "data": {
      "text/plain": [
       "['This is not an empty string.']"
      ]
     },
     "execution_count": 29,
     "metadata": {},
     "output_type": "execute_result"
    }
   ],
   "source": [
    "re.findall(anything, txt2)"
   ]
  },
  {
   "cell_type": "code",
   "execution_count": 30,
   "id": "d701a36d",
   "metadata": {},
   "outputs": [
    {
     "data": {
      "text/plain": [
       "False"
      ]
     },
     "execution_count": 30,
     "metadata": {},
     "output_type": "execute_result"
    }
   ],
   "source": [
    "bool(re.match(something, txt1))"
   ]
  },
  {
   "cell_type": "code",
   "execution_count": 31,
   "id": "f1378945",
   "metadata": {},
   "outputs": [
    {
     "data": {
      "text/plain": [
       "True"
      ]
     },
     "execution_count": 31,
     "metadata": {},
     "output_type": "execute_result"
    }
   ],
   "source": [
    "bool(re.match(something, txt2))"
   ]
  },
  {
   "cell_type": "code",
   "execution_count": 32,
   "id": "a512b6d2",
   "metadata": {},
   "outputs": [
    {
     "data": {
      "text/plain": [
       "[]"
      ]
     },
     "execution_count": 32,
     "metadata": {},
     "output_type": "execute_result"
    }
   ],
   "source": [
    "re.findall(something, txt1)"
   ]
  },
  {
   "cell_type": "code",
   "execution_count": 33,
   "id": "261d89da",
   "metadata": {},
   "outputs": [
    {
     "data": {
      "text/plain": [
       "['This is not an empty string.']"
      ]
     },
     "execution_count": 33,
     "metadata": {},
     "output_type": "execute_result"
    }
   ],
   "source": [
    "re.findall(something, txt2)"
   ]
  },
  {
   "cell_type": "markdown",
   "id": "1e3f8918",
   "metadata": {},
   "source": [
    "# Find the Numbers"
   ]
  },
  {
   "cell_type": "code",
   "execution_count": 34,
   "id": "144e6b8b",
   "metadata": {},
   "outputs": [],
   "source": [
    "import re\n",
    "txt = \" 123.456 2 +7 -88 -.25 9.10.11 -4. +-34 -0.6 --5 \"\n",
    "integers = r'(?<=\\s)[+-]{,1}\\d+(?=\\s)'\n",
    "floats = r'(?<=\\s)[+-]{,1}\\d*\\.\\d+(?=\\s)'\n",
    "positive = r'(?<=\\s)\\+{,1}\\d*\\.*\\d+(?=\\s)'\n",
    "negative = r'(?<=\\s)\\-\\d*\\.*\\d+(?=\\s)'\n",
    "numbers = r'(?<=\\s)[+-]{,1}\\d*\\.*\\d+(?=\\s)'"
   ]
  },
  {
   "cell_type": "code",
   "execution_count": 35,
   "id": "6d4d7070",
   "metadata": {},
   "outputs": [
    {
     "data": {
      "text/plain": [
       "['2', '+7', '-88']"
      ]
     },
     "execution_count": 35,
     "metadata": {},
     "output_type": "execute_result"
    }
   ],
   "source": [
    "re.findall(integers, txt)"
   ]
  },
  {
   "cell_type": "code",
   "execution_count": 36,
   "id": "f1c5ce64",
   "metadata": {},
   "outputs": [
    {
     "data": {
      "text/plain": [
       "['123.456', '-.25', '-0.6']"
      ]
     },
     "execution_count": 36,
     "metadata": {},
     "output_type": "execute_result"
    }
   ],
   "source": [
    "re.findall(floats, txt) "
   ]
  },
  {
   "cell_type": "code",
   "execution_count": 37,
   "id": "1cc384cd",
   "metadata": {},
   "outputs": [
    {
     "data": {
      "text/plain": [
       "['123.456', '2', '+7']"
      ]
     },
     "execution_count": 37,
     "metadata": {},
     "output_type": "execute_result"
    }
   ],
   "source": [
    "re.findall(positive, txt)"
   ]
  },
  {
   "cell_type": "code",
   "execution_count": 38,
   "id": "1b4cbcb3",
   "metadata": {},
   "outputs": [
    {
     "data": {
      "text/plain": [
       "['-88', '-.25', '-0.6']"
      ]
     },
     "execution_count": 38,
     "metadata": {},
     "output_type": "execute_result"
    }
   ],
   "source": [
    "re.findall(negative, txt)"
   ]
  },
  {
   "cell_type": "code",
   "execution_count": 40,
   "id": "5b612ec1",
   "metadata": {},
   "outputs": [
    {
     "data": {
      "text/plain": [
       "['123.456', '2', '+7', '-88', '-.25', '-0.6']"
      ]
     },
     "execution_count": 40,
     "metadata": {},
     "output_type": "execute_result"
    }
   ],
   "source": [
    "re.findall(numbers, txt)"
   ]
  },
  {
   "cell_type": "markdown",
   "id": "0bb7d88d",
   "metadata": {},
   "source": [
    "# 4: Find the Times"
   ]
  },
  {
   "cell_type": "code",
   "execution_count": 8,
   "id": "04f377e4",
   "metadata": {},
   "outputs": [],
   "source": [
    "import re\n",
    "txt1 = \"Breakfast at 09:00 in the room 123:456.\"\n",
    "txt2 = \"The incident took place last Wednesday at 00:56:41.\"\n",
    "txt3 = \"We will have two meetings: from 10:30 to 11:00 and from 11:45 to 11:75.\"\n",
    "#pattern = r\"\\s([0-2][0-9](?:\\:[0-5][0-9]){1,2})\\b(?!\\:)\""
   ]
  },
  {
   "cell_type": "code",
   "execution_count": 15,
   "id": "2919296b",
   "metadata": {},
   "outputs": [],
   "source": [
    "pattern = r\"\\s([0-2]\\d(?:\\:[0-5]\\d){1,2})\\b(?!\\:)\""
   ]
  },
  {
   "cell_type": "code",
   "execution_count": 16,
   "id": "e2903cf6",
   "metadata": {},
   "outputs": [
    {
     "data": {
      "text/plain": [
       "['09:00']"
      ]
     },
     "execution_count": 16,
     "metadata": {},
     "output_type": "execute_result"
    }
   ],
   "source": [
    "re.findall(pattern, txt1)"
   ]
  },
  {
   "cell_type": "code",
   "execution_count": 17,
   "id": "8de54cd9",
   "metadata": {},
   "outputs": [
    {
     "data": {
      "text/plain": [
       "['00:56:41']"
      ]
     },
     "execution_count": 17,
     "metadata": {},
     "output_type": "execute_result"
    }
   ],
   "source": [
    "re.findall(pattern, txt2)"
   ]
  },
  {
   "cell_type": "code",
   "execution_count": 18,
   "id": "a31a011d",
   "metadata": {},
   "outputs": [
    {
     "data": {
      "text/plain": [
       "['10:30', '11:00', '11:45']"
      ]
     },
     "execution_count": 18,
     "metadata": {},
     "output_type": "execute_result"
    }
   ],
   "source": [
    "re.findall(pattern, txt3)"
   ]
  },
  {
   "cell_type": "markdown",
   "id": "f811b3a1",
   "metadata": {},
   "source": [
    "# 5: Distinct Digits"
   ]
  },
  {
   "cell_type": "code",
   "execution_count": 1,
   "id": "5e6915c2",
   "metadata": {},
   "outputs": [],
   "source": [
    "import re\n",
    "pattern = r'^(?!.*(.).*\\1)\\d*$'"
   ]
  },
  {
   "cell_type": "code",
   "execution_count": 5,
   "id": "7303e002",
   "metadata": {},
   "outputs": [
    {
     "data": {
      "text/plain": [
       "True"
      ]
     },
     "execution_count": 5,
     "metadata": {},
     "output_type": "execute_result"
    }
   ],
   "source": [
    "bool(re.match(pattern, \"123\"))"
   ]
  },
  {
   "cell_type": "code",
   "execution_count": 3,
   "id": "cab62d03",
   "metadata": {},
   "outputs": [
    {
     "data": {
      "text/plain": [
       "False"
      ]
     },
     "execution_count": 3,
     "metadata": {},
     "output_type": "execute_result"
    }
   ],
   "source": [
    "bool(re.match(pattern, \"4112233\")) "
   ]
  },
  {
   "cell_type": "code",
   "execution_count": 59,
   "id": "5a7fb468",
   "metadata": {},
   "outputs": [
    {
     "data": {
      "text/plain": [
       "True"
      ]
     },
     "execution_count": 59,
     "metadata": {},
     "output_type": "execute_result"
    }
   ],
   "source": [
    "bool(re.match(pattern, \"1025\"))"
   ]
  },
  {
   "cell_type": "code",
   "execution_count": null,
   "id": "3019dab2",
   "metadata": {},
   "outputs": [],
   "source": []
  }
 ],
 "metadata": {
  "kernelspec": {
   "display_name": "Python 3 (ipykernel)",
   "language": "python",
   "name": "python3"
  },
  "language_info": {
   "codemirror_mode": {
    "name": "ipython",
    "version": 3
   },
   "file_extension": ".py",
   "mimetype": "text/x-python",
   "name": "python",
   "nbconvert_exporter": "python",
   "pygments_lexer": "ipython3",
   "version": "3.8.10"
  }
 },
 "nbformat": 4,
 "nbformat_minor": 5
}
