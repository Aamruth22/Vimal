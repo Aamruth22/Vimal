{
 "cells": [
  {
   "cell_type": "code",
   "execution_count": 1,
   "id": "vocal-discovery",
   "metadata": {},
   "outputs": [],
   "source": [
    "from PIL import Image \n",
    "from PIL import ImageFilter \n",
    "import os \n",
    "  "
   ]
  },
  {
   "cell_type": "code",
   "execution_count": 23,
   "id": "tender-priest",
   "metadata": {},
   "outputs": [],
   "source": [
    "from PIL import Image\n",
    "img = Image.open(\"/home/vimal/Documents/table_detection/tif/0100477000.tif\")\n",
    "img.seek(1)\n",
    "img.save(\"/home/vimal/Documents/table_detection/jpeg/0100477000.jpeg\", quality=100)\n"
   ]
  },
  {
   "cell_type": "code",
   "execution_count": 1,
   "id": "fatal-stylus",
   "metadata": {},
   "outputs": [],
   "source": [
    "from PIL import Image\n",
    "img = Image.open(\"/home/vimal/Documents/table_detection/tif/0298801000.tif\")\n",
    "img.seek(1)\n",
    "img.save(\"/home/vimal/Documents/table_detection/jpeg/0298801000.jpeg\", quality=100)\n"
   ]
  },
  {
   "cell_type": "code",
   "execution_count": 3,
   "id": "decent-component",
   "metadata": {},
   "outputs": [],
   "source": [
    "from PIL import Image\n",
    "img = Image.open(\"/home/vimal/Documents/table_detection/tif/0158173000.tif\")\n",
    "img.seek(1)\n",
    "img.save(\"/home/vimal/Documents/table_detection/jpeg/0158173000.jpeg\", quality=100)\n"
   ]
  },
  {
   "cell_type": "code",
   "execution_count": 2,
   "id": "collected-result",
   "metadata": {},
   "outputs": [],
   "source": [
    "from PIL import Image\n",
    "img = Image.open(\"/home/vimal/Documents/table_detection/tif/0782492000.tif\")\n",
    "img.seek(1)\n",
    "img.save(\"/home/vimal/Documents/table_detection/jpeg/0782492000.jpeg\", quality=100)\n"
   ]
  },
  {
   "cell_type": "code",
   "execution_count": 3,
   "id": "corresponding-damages",
   "metadata": {},
   "outputs": [],
   "source": [
    "from PIL import Image\n",
    "img = Image.open(\"/home/vimal/Documents/table_detection/tif/0682296000.tif\")\n",
    "img.seek(1)\n",
    "img.save(\"/home/vimal/Documents/table_detection/jpeg/0682296000.jpeg\", quality=100)\n"
   ]
  },
  {
   "cell_type": "code",
   "execution_count": 4,
   "id": "certified-negative",
   "metadata": {},
   "outputs": [],
   "source": [
    "from PIL import Image\n",
    "img = Image.open(\"/home/vimal/Documents/table_detection/tif/0134407000.tif\")\n",
    "img.seek(2)\n",
    "img.save(\"/home/vimal/Documents/table_detection/jpeg/0134407000.jpeg\", quality=100)\n"
   ]
  },
  {
   "cell_type": "code",
   "execution_count": 5,
   "id": "bibliographic-point",
   "metadata": {},
   "outputs": [],
   "source": [
    "from PIL import Image\n",
    "img = Image.open(\"/home/vimal/Documents/table_detection/tif/0384265000.tif\")\n",
    "img.seek(0)\n",
    "img.save(\"/home/vimal/Documents/table_detection/jpeg/0384265000.jpeg\", quality=100)\n"
   ]
  },
  {
   "cell_type": "code",
   "execution_count": 1,
   "id": "controlled-romantic",
   "metadata": {},
   "outputs": [],
   "source": [
    "from PIL import Image\n",
    "img = Image.open(\"/home/vimal/Downloads/Weekly-Sales-Activity-Report-Template.jpg\")\n",
    "#img.seek(0)\n",
    "img.save(\"/home/vimal/Downloads/images/Weekly-Sales-Activity-Report-Template.jpeg\")\n"
   ]
  },
  {
   "cell_type": "code",
   "execution_count": null,
   "id": "listed-contamination",
   "metadata": {},
   "outputs": [],
   "source": [
    "0100477000.jpeg"
   ]
  }
 ],
 "metadata": {
  "kernelspec": {
   "display_name": "Python 3",
   "language": "python",
   "name": "python3"
  },
  "language_info": {
   "codemirror_mode": {
    "name": "ipython",
    "version": 3
   },
   "file_extension": ".py",
   "mimetype": "text/x-python",
   "name": "python",
   "nbconvert_exporter": "python",
   "pygments_lexer": "ipython3",
   "version": "3.8.5"
  }
 },
 "nbformat": 4,
 "nbformat_minor": 5
}
