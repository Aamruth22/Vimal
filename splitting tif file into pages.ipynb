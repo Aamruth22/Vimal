{
 "cells": [
  {
   "cell_type": "code",
   "execution_count": 2,
   "id": "15f43173",
   "metadata": {},
   "outputs": [
    {
     "name": "stdout",
     "output_type": "stream",
     "text": [
      "0497543000.tif\n",
      "0497543000\n",
      "0507340000.tif\n",
      "0507340000\n",
      "0508212000.tif\n",
      "0508212000\n",
      "0496838000.tif\n",
      "0496838000\n",
      "0516551000.tif\n",
      "0516551000\n",
      "0502506000.tif\n",
      "0502506000\n",
      "0502696000.tif\n",
      "0502696000\n"
     ]
    }
   ],
   "source": [
    "from PIL import Image        \n",
    "import os \n",
    "import cv2\n",
    "  \n",
    "directory = r\"/home/vimalkumar/Documents/Back up/Backup images/1/Vimal/Handwritten\"\n",
    " \n",
    "for filename in os.listdir(directory):\n",
    "    print(filename)\n",
    "    b = os.path.splitext(filename)[0]\n",
    "    print(b)\n",
    "    in_file = os.path.join(directory, filename)\n",
    "\n",
    "    img = Image.open(in_file)\n",
    "    no_of_pages = img.n_frames\n",
    "    #print(no_of_pages)\n",
    "    for i in range(no_of_pages+1):\n",
    "\n",
    "        try:\n",
    "            img.seek(i)\n",
    "            img.save(os.path.join('/home/vimalkumar/Documents/images/image tif to jpeg/HW',os.path.splitext(filename)[0]+'_%s.jpeg' % (i,)))\n",
    "            \n",
    "\n",
    "        except EOFError:\n",
    "            break\n",
    "\n",
    "  \n"
   ]
  },
  {
   "cell_type": "code",
   "execution_count": null,
   "id": "12d2301c",
   "metadata": {},
   "outputs": [],
   "source": [
    "from PIL import Image\n",
    "import os\n",
    "path = '/home/vimalkumar.s/Documents/100 files/Bad doc'\n",
    "for i in os.listdir(path):\n",
    "    #print(i)\n",
    "    #c = os.path.splitext(i)[0]\n",
    "    #print(c)\n",
    "    img = Image.open(os.path.join(path,i))\n",
    "    img.seek(0)\n",
    "    img.save(os.path.join('/home/vimalkumar.s/Documents/extraction/header/total wages paid/table-ocr_input',os.path.splitext(i)[0]+'.jpeg'))"
   ]
  },
  {
   "cell_type": "markdown",
   "id": "adc635a7",
   "metadata": {},
   "source": [
    "## only getting 1st page from pdf's"
   ]
  },
  {
   "cell_type": "code",
   "execution_count": 2,
   "id": "a830bb74",
   "metadata": {},
   "outputs": [],
   "source": [
    "from pdf2image import convert_from_path\n",
    "import os"
   ]
  },
  {
   "cell_type": "code",
   "execution_count": 1,
   "id": "482ce4d7",
   "metadata": {},
   "outputs": [
    {
     "ename": "NameError",
     "evalue": "name 'os' is not defined",
     "output_type": "error",
     "traceback": [
      "\u001b[0;31m---------------------------------------------------------------------------\u001b[0m",
      "\u001b[0;31mNameError\u001b[0m                                 Traceback (most recent call last)",
      "\u001b[0;32m/tmp/ipykernel_21868/258745413.py\u001b[0m in \u001b[0;36m<module>\u001b[0;34m\u001b[0m\n\u001b[1;32m      2\u001b[0m \u001b[0mout_path\u001b[0m \u001b[0;34m=\u001b[0m \u001b[0;34m'/home/vimalkumar/Documents/File Samples/tif to jpeg/output'\u001b[0m\u001b[0;34m\u001b[0m\u001b[0;34m\u001b[0m\u001b[0m\n\u001b[1;32m      3\u001b[0m \u001b[0;34m\u001b[0m\u001b[0m\n\u001b[0;32m----> 4\u001b[0;31m \u001b[0;32mfor\u001b[0m \u001b[0mi\u001b[0m \u001b[0;32min\u001b[0m \u001b[0mos\u001b[0m\u001b[0;34m.\u001b[0m\u001b[0mlistdir\u001b[0m\u001b[0;34m(\u001b[0m\u001b[0mpath_\u001b[0m\u001b[0;34m)\u001b[0m\u001b[0;34m:\u001b[0m\u001b[0;34m\u001b[0m\u001b[0;34m\u001b[0m\u001b[0m\n\u001b[0m\u001b[1;32m      5\u001b[0m     \u001b[0mprint\u001b[0m\u001b[0;34m(\u001b[0m\u001b[0mi\u001b[0m\u001b[0;34m)\u001b[0m\u001b[0;34m\u001b[0m\u001b[0;34m\u001b[0m\u001b[0m\n\u001b[1;32m      6\u001b[0m     \u001b[0mfile_name\u001b[0m \u001b[0;34m=\u001b[0m \u001b[0mos\u001b[0m\u001b[0;34m.\u001b[0m\u001b[0mpath\u001b[0m\u001b[0;34m.\u001b[0m\u001b[0msplitext\u001b[0m\u001b[0;34m(\u001b[0m\u001b[0mi\u001b[0m\u001b[0;34m)\u001b[0m\u001b[0;34m[\u001b[0m\u001b[0;36m0\u001b[0m\u001b[0;34m]\u001b[0m\u001b[0;34m\u001b[0m\u001b[0;34m\u001b[0m\u001b[0m\n",
      "\u001b[0;31mNameError\u001b[0m: name 'os' is not defined"
     ]
    }
   ],
   "source": [
    "path_ = '/home/vimalkumar/Documents/File Samples/tif to jpeg/input'\n",
    "out_path = '/home/vimalkumar/Documents/File Samples/tif to jpeg/output'\n",
    "\n",
    "for i in os.listdir(path_):\n",
    "    print(i)\n",
    "    file_name = os.path.splitext(i)[0]\n",
    "    print(file_name)\n",
    "    pages = convert_from_path(os.path.join(path_,i), 500)\n",
    "    pages[0].save(os.path.join(out_path,file_name + '.jpeg'))\n",
    "    #print(pages[0])\n",
    "    \n",
    "    #print(type(pages))"
   ]
  },
  {
   "cell_type": "code",
   "execution_count": 5,
   "id": "586d6fac",
   "metadata": {},
   "outputs": [
    {
     "name": "stdout",
     "output_type": "stream",
     "text": [
      "Pan\n"
     ]
    }
   ],
   "source": [
    "path_ = '/home/vimalkumar/Downloads/pan_pdf/in'\n",
    "out_path = '/home/vimalkumar/Downloads/pan_pdf/out'\n",
    "sum = 0\n",
    "for i in os.listdir(path_):\n",
    "    #print(i)\n",
    "    file_name = os.path.splitext(i)[0]\n",
    "    print(file_name)\n",
    "    pages = convert_from_path(os.path.join(path_,i), 500)\n",
    "    x = []\n",
    "    for page in pages:\n",
    "        #page.save('out.jpg', 'JPEG')\n",
    "        x.append(page)\n",
    "    x[sum].save(os.path.join(out_path,file_name + '.jpeg'))\n",
    "    sum=sum+1\n",
    "\n",
    "\n"
   ]
  },
  {
   "cell_type": "code",
   "execution_count": null,
   "id": "02dd5ff2",
   "metadata": {},
   "outputs": [],
   "source": []
  },
  {
   "cell_type": "markdown",
   "id": "a16fe455",
   "metadata": {},
   "source": [
    "# !st page from any format of images"
   ]
  },
  {
   "cell_type": "markdown",
   "id": "cc85def6",
   "metadata": {},
   "source": [
    "# Updated"
   ]
  },
  {
   "cell_type": "code",
   "execution_count": 2,
   "id": "8ab62a2d",
   "metadata": {},
   "outputs": [
    {
     "name": "stdout",
     "output_type": "stream",
     "text": [
      "1649656998.4779336\n",
      "ICA_104_42960012_1.jpeg\n",
      "ICA_104_42950010_1.jpeg\n",
      "ICA_104_42930022_1.jpeg\n",
      "ICA_104_43300002_1.jpeg\n",
      "ICA_104_42940002_1.jpeg\n",
      "ICA_104_42940023_1.jpeg\n",
      "ICA_104_42930018_1.jpeg\n",
      "ICA_104_43300021_1.jpeg\n",
      "ICA_104_42990006_1.jpeg\n",
      "ICA_104_43300026_1.jpeg\n",
      "ICA_104_42940040_1.jpeg\n",
      "ICA_104_42940038_1.jpeg\n"
     ]
    },
    {
     "ename": "KeyboardInterrupt",
     "evalue": "",
     "output_type": "error",
     "traceback": [
      "\u001b[0;31m---------------------------------------------------------------------------\u001b[0m",
      "\u001b[0;31mKeyboardInterrupt\u001b[0m                         Traceback (most recent call last)",
      "\u001b[0;32m/tmp/ipykernel_16345/541967709.py\u001b[0m in \u001b[0;36m<module>\u001b[0;34m\u001b[0m\n\u001b[1;32m     23\u001b[0m         \u001b[0;32mif\u001b[0m \u001b[0mimg\u001b[0m\u001b[0;34m.\u001b[0m\u001b[0mmode\u001b[0m \u001b[0;34m!=\u001b[0m \u001b[0;34m'RGB'\u001b[0m\u001b[0;34m:\u001b[0m\u001b[0;34m\u001b[0m\u001b[0;34m\u001b[0m\u001b[0m\n\u001b[1;32m     24\u001b[0m             \u001b[0mimg\u001b[0m \u001b[0;34m=\u001b[0m \u001b[0mimg\u001b[0m\u001b[0;34m.\u001b[0m\u001b[0mconvert\u001b[0m\u001b[0;34m(\u001b[0m\u001b[0;34m'RGB'\u001b[0m\u001b[0;34m)\u001b[0m\u001b[0;34m\u001b[0m\u001b[0;34m\u001b[0m\u001b[0m\n\u001b[0;32m---> 25\u001b[0;31m         \u001b[0mimg\u001b[0m\u001b[0;34m.\u001b[0m\u001b[0msave\u001b[0m\u001b[0;34m(\u001b[0m\u001b[0mos\u001b[0m\u001b[0;34m.\u001b[0m\u001b[0mpath\u001b[0m\u001b[0;34m.\u001b[0m\u001b[0mjoin\u001b[0m\u001b[0;34m(\u001b[0m\u001b[0mout_path\u001b[0m\u001b[0;34m,\u001b[0m\u001b[0mfile_name\u001b[0m \u001b[0;34m+\u001b[0m\u001b[0;34m'_1.png'\u001b[0m\u001b[0;34m)\u001b[0m\u001b[0;34m,\u001b[0m\u001b[0mquality\u001b[0m \u001b[0;34m=\u001b[0m \u001b[0;36m80\u001b[0m\u001b[0;34m)\u001b[0m\u001b[0;34m\u001b[0m\u001b[0;34m\u001b[0m\u001b[0m\n\u001b[0m\u001b[1;32m     26\u001b[0m \u001b[0;34m\u001b[0m\u001b[0m\n\u001b[1;32m     27\u001b[0m     \u001b[0;32mif\u001b[0m \u001b[0mfile\u001b[0m\u001b[0;34m.\u001b[0m\u001b[0mendswith\u001b[0m\u001b[0;34m(\u001b[0m\u001b[0;34m'.pdf'\u001b[0m\u001b[0;34m)\u001b[0m \u001b[0;32mor\u001b[0m \u001b[0mfile\u001b[0m\u001b[0;34m.\u001b[0m\u001b[0mendswith\u001b[0m\u001b[0;34m(\u001b[0m\u001b[0;34m'.PDF'\u001b[0m\u001b[0;34m)\u001b[0m\u001b[0;34m:\u001b[0m\u001b[0;34m\u001b[0m\u001b[0;34m\u001b[0m\u001b[0m\n",
      "\u001b[0;32m~/Documents/Python_new_1/cde_venv/lib/python3.8/site-packages/PIL/Image.py\u001b[0m in \u001b[0;36msave\u001b[0;34m(self, fp, format, **params)\u001b[0m\n\u001b[1;32m   2136\u001b[0m \u001b[0;34m\u001b[0m\u001b[0m\n\u001b[1;32m   2137\u001b[0m         \u001b[0;31m# may mutate self!\u001b[0m\u001b[0;34m\u001b[0m\u001b[0;34m\u001b[0m\u001b[0;34m\u001b[0m\u001b[0m\n\u001b[0;32m-> 2138\u001b[0;31m         \u001b[0mself\u001b[0m\u001b[0;34m.\u001b[0m\u001b[0m_ensure_mutable\u001b[0m\u001b[0;34m(\u001b[0m\u001b[0;34m)\u001b[0m\u001b[0;34m\u001b[0m\u001b[0;34m\u001b[0m\u001b[0m\n\u001b[0m\u001b[1;32m   2139\u001b[0m \u001b[0;34m\u001b[0m\u001b[0m\n\u001b[1;32m   2140\u001b[0m         \u001b[0msave_all\u001b[0m \u001b[0;34m=\u001b[0m \u001b[0mparams\u001b[0m\u001b[0;34m.\u001b[0m\u001b[0mpop\u001b[0m\u001b[0;34m(\u001b[0m\u001b[0;34m\"save_all\"\u001b[0m\u001b[0;34m,\u001b[0m \u001b[0;32mFalse\u001b[0m\u001b[0;34m)\u001b[0m\u001b[0;34m\u001b[0m\u001b[0;34m\u001b[0m\u001b[0m\n",
      "\u001b[0;32m~/Documents/Python_new_1/cde_venv/lib/python3.8/site-packages/PIL/Image.py\u001b[0m in \u001b[0;36m_ensure_mutable\u001b[0;34m(self)\u001b[0m\n\u001b[1;32m    617\u001b[0m     \u001b[0;32mdef\u001b[0m \u001b[0m_ensure_mutable\u001b[0m\u001b[0;34m(\u001b[0m\u001b[0mself\u001b[0m\u001b[0;34m)\u001b[0m\u001b[0;34m:\u001b[0m\u001b[0;34m\u001b[0m\u001b[0;34m\u001b[0m\u001b[0m\n\u001b[1;32m    618\u001b[0m         \u001b[0;32mif\u001b[0m \u001b[0mself\u001b[0m\u001b[0;34m.\u001b[0m\u001b[0mreadonly\u001b[0m\u001b[0;34m:\u001b[0m\u001b[0;34m\u001b[0m\u001b[0;34m\u001b[0m\u001b[0m\n\u001b[0;32m--> 619\u001b[0;31m             \u001b[0mself\u001b[0m\u001b[0;34m.\u001b[0m\u001b[0m_copy\u001b[0m\u001b[0;34m(\u001b[0m\u001b[0;34m)\u001b[0m\u001b[0;34m\u001b[0m\u001b[0;34m\u001b[0m\u001b[0m\n\u001b[0m\u001b[1;32m    620\u001b[0m         \u001b[0;32melse\u001b[0m\u001b[0;34m:\u001b[0m\u001b[0;34m\u001b[0m\u001b[0;34m\u001b[0m\u001b[0m\n\u001b[1;32m    621\u001b[0m             \u001b[0mself\u001b[0m\u001b[0;34m.\u001b[0m\u001b[0mload\u001b[0m\u001b[0;34m(\u001b[0m\u001b[0;34m)\u001b[0m\u001b[0;34m\u001b[0m\u001b[0;34m\u001b[0m\u001b[0m\n",
      "\u001b[0;32m~/Documents/Python_new_1/cde_venv/lib/python3.8/site-packages/PIL/Image.py\u001b[0m in \u001b[0;36m_copy\u001b[0;34m(self)\u001b[0m\n\u001b[1;32m    610\u001b[0m \u001b[0;34m\u001b[0m\u001b[0m\n\u001b[1;32m    611\u001b[0m     \u001b[0;32mdef\u001b[0m \u001b[0m_copy\u001b[0m\u001b[0;34m(\u001b[0m\u001b[0mself\u001b[0m\u001b[0;34m)\u001b[0m\u001b[0;34m:\u001b[0m\u001b[0;34m\u001b[0m\u001b[0;34m\u001b[0m\u001b[0m\n\u001b[0;32m--> 612\u001b[0;31m         \u001b[0mself\u001b[0m\u001b[0;34m.\u001b[0m\u001b[0mload\u001b[0m\u001b[0;34m(\u001b[0m\u001b[0;34m)\u001b[0m\u001b[0;34m\u001b[0m\u001b[0;34m\u001b[0m\u001b[0m\n\u001b[0m\u001b[1;32m    613\u001b[0m         \u001b[0mself\u001b[0m\u001b[0;34m.\u001b[0m\u001b[0mim\u001b[0m \u001b[0;34m=\u001b[0m \u001b[0mself\u001b[0m\u001b[0;34m.\u001b[0m\u001b[0mim\u001b[0m\u001b[0;34m.\u001b[0m\u001b[0mcopy\u001b[0m\u001b[0;34m(\u001b[0m\u001b[0;34m)\u001b[0m\u001b[0;34m\u001b[0m\u001b[0;34m\u001b[0m\u001b[0m\n\u001b[1;32m    614\u001b[0m         \u001b[0mself\u001b[0m\u001b[0;34m.\u001b[0m\u001b[0mpyaccess\u001b[0m \u001b[0;34m=\u001b[0m \u001b[0;32mNone\u001b[0m\u001b[0;34m\u001b[0m\u001b[0;34m\u001b[0m\u001b[0m\n",
      "\u001b[0;32m~/Documents/Python_new_1/cde_venv/lib/python3.8/site-packages/PIL/ImageFile.py\u001b[0m in \u001b[0;36mload\u001b[0;34m(self)\u001b[0m\n\u001b[1;32m    253\u001b[0m \u001b[0;34m\u001b[0m\u001b[0m\n\u001b[1;32m    254\u001b[0m                             \u001b[0mb\u001b[0m \u001b[0;34m=\u001b[0m \u001b[0mb\u001b[0m \u001b[0;34m+\u001b[0m \u001b[0ms\u001b[0m\u001b[0;34m\u001b[0m\u001b[0;34m\u001b[0m\u001b[0m\n\u001b[0;32m--> 255\u001b[0;31m                             \u001b[0mn\u001b[0m\u001b[0;34m,\u001b[0m \u001b[0merr_code\u001b[0m \u001b[0;34m=\u001b[0m \u001b[0mdecoder\u001b[0m\u001b[0;34m.\u001b[0m\u001b[0mdecode\u001b[0m\u001b[0;34m(\u001b[0m\u001b[0mb\u001b[0m\u001b[0;34m)\u001b[0m\u001b[0;34m\u001b[0m\u001b[0;34m\u001b[0m\u001b[0m\n\u001b[0m\u001b[1;32m    256\u001b[0m                             \u001b[0;32mif\u001b[0m \u001b[0mn\u001b[0m \u001b[0;34m<\u001b[0m \u001b[0;36m0\u001b[0m\u001b[0;34m:\u001b[0m\u001b[0;34m\u001b[0m\u001b[0;34m\u001b[0m\u001b[0m\n\u001b[1;32m    257\u001b[0m                                 \u001b[0;32mbreak\u001b[0m\u001b[0;34m\u001b[0m\u001b[0;34m\u001b[0m\u001b[0m\n",
      "\u001b[0;31mKeyboardInterrupt\u001b[0m: "
     ]
    }
   ],
   "source": [
    "from PIL import Image\n",
    "import matplotlib.pyplot as plt\n",
    "import time\n",
    "import cv2\n",
    "import fitz\n",
    "import os\n",
    "import warnings\n",
    "warnings.filterwarnings(\"ignore\", category=FutureWarning)\n",
    "\n",
    "start = time.time()\n",
    "print(start)\n",
    "\n",
    "in_path = '/home/vimalkumar/Documents/CDE_Product/CNN/ICA_1/train'\n",
    "out_path = '/home/vimalkumar/Documents/CDE_Product/CNN/ICA_1/images'\n",
    "for file in os.listdir(in_path):\n",
    "    #print(file)\n",
    "    file_name = os.path.splitext(file)[0]\n",
    "    if file.endswith('.tif') or file.endswith('.TIF') or file.endswith('.jpeg') or file.endswith('.png') or file.endswith('.gif') or file.endswith('.jpg') or file.endswith('.JPG')or file.endswith('.webp'):\n",
    "        #print(file)\n",
    "        #print(file_name)\n",
    "        img = Image.open(os.path.join(in_path,file))\n",
    "        img.seek(0)\n",
    "        if img.mode != 'RGB':\n",
    "            img = img.convert('RGB')\n",
    "        img.save(os.path.join(out_path,file_name +'_1.png'))\n",
    "        \n",
    "    if file.endswith('.pdf') or file.endswith('.PDF'):\n",
    "        #print(file)\n",
    "        doc = fitz.open(os.path.join(in_path,file))\n",
    "        #print(len(doc))\n",
    "        mat = fitz.Matrix(150 / 72, 150 / 72)\n",
    "        page = doc.load_page(0)  # number of page\n",
    "        pix = page.get_pixmap(matrix=mat)\n",
    "        #print(type(pix))\n",
    "        #plt.imshow(pix)\n",
    "        \n",
    "        pix.pil_save(os.path.join(out_path,file_name+'.jpeg'),format=\"JPEG\", dpi=(150,150))\n",
    "\n",
    "\n",
    "        \n",
    "end = time.time()\n",
    "print(f\"Runtime of the program is {end - start}\")\n",
    "        "
   ]
  },
  {
   "cell_type": "markdown",
   "id": "1a49161c",
   "metadata": {},
   "source": [
    "# 2nd page"
   ]
  },
  {
   "cell_type": "code",
   "execution_count": 4,
   "id": "89be7812",
   "metadata": {},
   "outputs": [
    {
     "name": "stdout",
     "output_type": "stream",
     "text": [
      "Runtime of the program is 2.186720848083496\n"
     ]
    }
   ],
   "source": [
    "from PIL import Image\n",
    "import matplotlib.pyplot as plt\n",
    "import time\n",
    "import cv2\n",
    "import fitz\n",
    "import os\n",
    "import warnings\n",
    "warnings.filterwarnings(\"ignore\", category=FutureWarning)\n",
    "\n",
    "start = time.time()\n",
    "\n",
    "in_path = '/home/vimalkumar/Documents/CDE_Product/CNN/Wage_Entry/tables images/second_page'\n",
    "out_path = '/home/vimalkumar/Documents/CDE_Product/CNN/Wage_Entry/tables images/second_page/2nd page'\n",
    "\n",
    "for file in os.listdir(in_path):\n",
    "    #print(file)\n",
    "    file_name = os.path.splitext(file)[0]\n",
    "    if file.endswith('.tif') or file.endswith('.jpeg') or file.endswith('.png') or file.endswith('.gif') or file.endswith('.jpg') or file.endswith('.webp'):\n",
    "        #print(file)\n",
    "        #print(file_name)\n",
    "        img = Image.open(os.path.join(in_path,file))\n",
    "        img.seek(1)\n",
    "        if img.mode != 'RGB':\n",
    "            img = img.convert('RGB')\n",
    "        img.save(os.path.join(out_path,file_name +'.jpeg'))\n",
    "        \n",
    "    if file.endswith('.pdf') or file.endswith('.PDF'):\n",
    "        #print(file)\n",
    "        doc = fitz.open(os.path.join(in_path,file))\n",
    "        #print(len(doc))\n",
    "        if len(doc)>1:\n",
    "            mat = fitz.Matrix(300 / 72, 300 / 72)\n",
    "            page = doc.load_page(1)  # number of page\n",
    "            pix = page.get_pixmap(matrix=mat)\n",
    "            #print(type(pix))\n",
    "            #plt.imshow(pix)\n",
    "\n",
    "            pix.pil_save(os.path.join(out_path,file_name+'.jpeg'),format=\"JPEG\", dpi=(300,300))\n",
    "\n",
    "\n",
    "        \n",
    "end = time.time()\n",
    "print(f\"Runtime of the program is {end - start}\")\n",
    "        "
   ]
  },
  {
   "cell_type": "markdown",
   "id": "2f66559a",
   "metadata": {},
   "source": [
    "# OLD"
   ]
  },
  {
   "cell_type": "code",
   "execution_count": 3,
   "id": "a4e18441",
   "metadata": {},
   "outputs": [],
   "source": [
    "from PIL import Image\n",
    "\n",
    "import fitz\n",
    "import os\n",
    "import warnings\n",
    "warnings.filterwarnings(\"ignore\", category=FutureWarning)\n",
    "\n",
    "in_path = '/home/vimalkumar/Documents/Marion Clark/1-100_Image'\n",
    "out_path = '/home/vimalkumar/Documents/Marion Clark/images'\n",
    "\n",
    "for file in os.listdir(in_path):\n",
    "    #print(file)\n",
    "    file_name = os.path.splitext(file)[0]\n",
    "    if file.endswith('.tif') or file.endswith('.jpeg') or file.endswith('.png') or file.endswith('.gif') or file.endswith('.jpg') or file.endswith('.webp'):\n",
    "        #print(file)\n",
    "        #print(file_name)\n",
    "        img = Image.open(os.path.join(in_path,file))\n",
    "        img.seek(0)\n",
    "        if img.mode != 'RGB':\n",
    "            img = img.convert('RGB')\n",
    "        img.save(os.path.join(out_path,file_name +'.jpeg'))\n",
    "        \n",
    "    if file.endswith('.pdf') or file.endswith('.PDF'):\n",
    "        #print(file)\n",
    "        doc = fitz.open(os.path.join(in_path,file))\n",
    "        page = doc.load_page(0)  # number of page\n",
    "        pix = page.get_pixmap(matrix=fitz.Matrix(300/72,300/72))# for 150dpi\n",
    "        \n",
    "        pix.pil_save(os.path.join(out_path,file_name+'.jpeg'))\n",
    "\n",
    "        "
   ]
  },
  {
   "cell_type": "code",
   "execution_count": null,
   "id": "c394c19c",
   "metadata": {},
   "outputs": [],
   "source": []
  },
  {
   "cell_type": "code",
   "execution_count": null,
   "id": "49e94dc9",
   "metadata": {},
   "outputs": [],
   "source": []
  },
  {
   "cell_type": "markdown",
   "id": "4f11930c",
   "metadata": {},
   "source": [
    "# Saving all the pages from Documents individually"
   ]
  },
  {
   "cell_type": "code",
   "execution_count": 2,
   "id": "078cb635",
   "metadata": {},
   "outputs": [
    {
     "name": "stdout",
     "output_type": "stream",
     "text": [
      "0110486000.tif\n",
      "0110486000_0.tif\n",
      "0103278000.tif\n",
      "0103278000_0.tif\n",
      "0110559000.tif\n",
      "0110559000_0.tif\n",
      "0122252000.tif\n",
      "0122252000_0.tif\n",
      "0123117000.tif\n",
      "0123117000_0.tif\n",
      "0123117000_1.tif\n",
      "0119284000.tif\n",
      "0119284000_0.tif\n",
      "0119771000.tif\n",
      "0119771000_0.tif\n",
      "0119771000_1.tif\n",
      "0108367000.tif\n",
      "0108367000_0.tif\n",
      "0115872000.tif\n",
      "0115872000_0.tif\n",
      "0113457000.tif\n",
      "0113457000_0.tif\n",
      "0100900000.tif\n",
      "0100900000_0.tif\n",
      "0100900000_1.tif\n",
      "0100900000_2.tif\n",
      "0115557000.tif\n",
      "0115557000_0.tif\n",
      "0105190000.tif\n",
      "0105190000_0.tif\n",
      "0112871000.tif\n",
      "0112871000_0.tif\n",
      "0112871000_1.tif\n",
      "0112871000_2.tif\n",
      "0112871000_3.tif\n",
      "0112871000_4.tif\n",
      "0112871000_5.tif\n",
      "0112871000_6.tif\n",
      "0112871000_7.tif\n",
      "0112871000_8.tif\n",
      "0122180000.tif\n",
      "0122180000_0.tif\n",
      "0122180000_1.tif\n",
      "0122180000_2.tif\n",
      "0122180000_3.tif\n",
      "0122180000_4.tif\n",
      "0106830000.tif\n",
      "0106830000_0.tif\n",
      "0106830000_1.tif\n",
      "0106830000_2.tif\n",
      "0106830000_3.tif\n",
      "0106830000_4.tif\n",
      "0106830000_5.tif\n",
      "0121367000.tif\n",
      "0121367000_0.tif\n",
      "0102204000.tif\n",
      "0102204000_0.tif\n",
      "0102204000_1.tif\n",
      "0102204000_2.tif\n",
      "0120130000.tif\n",
      "0120130000_0.tif\n",
      "0103657000.tif\n",
      "0103657000_0.tif\n",
      "0120271000.tif\n",
      "0120271000_0.tif\n",
      "0100187000.tif\n",
      "0100187000_0.tif\n",
      "0117958000.tif\n",
      "0117958000_0.tif\n",
      "0104671000.tif\n",
      "0104671000_0.tif\n",
      "0110878000.tif\n",
      "0110878000_0.tif\n",
      "0115227000.tif\n",
      "0115227000_0.tif\n",
      "0124025000.tif\n",
      "0124025000_0.tif\n",
      "0124025000_1.tif\n",
      "0118290000.tif\n",
      "0118290000_0.tif\n",
      "0118290000_1.tif\n",
      "0118290000_2.tif\n",
      "0118290000_3.tif\n",
      "0118290000_4.tif\n",
      "0118290000_5.tif\n",
      "0118290000_6.tif\n",
      "0105919000.tif\n",
      "0105919000_0.tif\n",
      "0118119000.tif\n",
      "0118119000_0.tif\n",
      "0125144000.tif\n",
      "0125144000_0.tif\n",
      "0109881000.tif\n",
      "0109881000_0.tif\n",
      "0109881000_1.tif\n",
      "0102702000.tif\n",
      "0102702000_0.tif\n",
      "0102702000_1.tif\n"
     ]
    }
   ],
   "source": [
    "import cv2\n",
    "import os\n",
    "path = '/home/vimalkumar/Documents/File Samples/28.10.2021/test'\n",
    "outpath = '/home/vimalkumar/Documents/File Samples/28.10.2021/output'\n",
    "\n",
    "\n",
    "for i in os.listdir(path):\n",
    "    im = cv2.imreadmulti(os.path.join(path,i))\n",
    "    #print(type(im))\n",
    "    print(i)\n",
    "    num_pages = len(im[1])\n",
    "    #print(num_pages)\n",
    "    for j in range(0,num_pages):\n",
    "        #print(j)\n",
    "        ext = os.path.splitext(i)[0]+'_'+str(j)+'.tif'\n",
    "        print(ext)\n",
    "        cv2.imwrite(os.path.join(outpath,ext),im[1][j])\n",
    "        #cv2.imwrite(os.path.splitext[0]+j+'.jpeg',im[1][j])"
   ]
  },
  {
   "cell_type": "code",
   "execution_count": null,
   "id": "dd9764cf",
   "metadata": {},
   "outputs": [],
   "source": []
  },
  {
   "cell_type": "code",
   "execution_count": 12,
   "id": "61064ead",
   "metadata": {},
   "outputs": [
    {
     "name": "stdout",
     "output_type": "stream",
     "text": [
      "1649658413.2627869\n",
      "Runtime of the program is 0.28658533096313477\n"
     ]
    }
   ],
   "source": [
    "from PIL import Image\n",
    "import matplotlib.pyplot as plt\n",
    "import time\n",
    "import cv2\n",
    "import fitz\n",
    "import os\n",
    "import warnings\n",
    "warnings.filterwarnings(\"ignore\", category=FutureWarning)\n",
    "\n",
    "start = time.time()\n",
    "print(start)\n",
    "\n",
    "in_path = '/home/vimalkumar/Documents/CDE_Product/CNN/ICA_1/images/pdf'\n",
    "out_path = '/home/vimalkumar/Documents/CDE_Product/CNN/ICA_1/images'\n",
    "for file in os.listdir(in_path):\n",
    "    #print(file)\n",
    "    file_name = os.path.splitext(file)[0]\n",
    "    if file.endswith('.tif') or file.endswith('.TIF') or file.endswith('.jpeg') or file.endswith('.png') or file.endswith('.gif') or file.endswith('.jpg') or file.endswith('.JPG')or file.endswith('.webp'):\n",
    "        #print(file)\n",
    "        #print(file_name)\n",
    "        img = Image.open(os.path.join(in_path,file))\n",
    "        img.seek(0)\n",
    "        if img.mode != 'RGB':\n",
    "            img = img.convert('RGB')\n",
    "        img.save(os.path.join(out_path,file_name +'_1.jpeg'),optimize=True,quality = 25)\n",
    "        \n",
    "    if file.endswith('.pdf') or file.endswith('.PDF'):\n",
    "        #print(file)\n",
    "        doc = fitz.open(os.path.join(in_path,file))\n",
    "        #print(len(doc))\n",
    "        mat = fitz.Matrix(150 / 72, 150 / 72)\n",
    "        page = doc.load_page(0)  # number of page\n",
    "        pix = page.get_pixmap(matrix=mat)\n",
    "        #print(type(pix))\n",
    "        #plt.imshow(pix)\n",
    "        \n",
    "        pix.pil_save(os.path.join(out_path,file_name+'.jpeg'),format=\"JPEG\", dpi=(150,150))\n",
    "\n",
    "\n",
    "        \n",
    "end = time.time()\n",
    "print(f\"Runtime of the program is {end - start}\")\n",
    "        "
   ]
  },
  {
   "cell_type": "code",
   "execution_count": null,
   "id": "a59253c9",
   "metadata": {},
   "outputs": [],
   "source": []
  },
  {
   "cell_type": "code",
   "execution_count": 5,
   "id": "5abf64bc",
   "metadata": {},
   "outputs": [],
   "source": [
    "from PIL import Image\n",
    "import math\n",
    "\n",
    "foo = Image.open(\"/home/vimalkumar/Documents/CDE_Product/CNN/ICA_1/images/sample.jpeg\")\n",
    "x, y = foo.size\n",
    "x2, y2 = math.floor(x-100), math.floor(y-100)\n",
    "foo = foo.resize((x2,y2),Image.ANTIALIAS)\n",
    "foo.save(\"/home/vimalkumar/Documents/CDE_Product/CNN/ICA_1/images/sample_result.jpg\",quality=95)"
   ]
  },
  {
   "cell_type": "code",
   "execution_count": 7,
   "id": "5c6c7dc4",
   "metadata": {},
   "outputs": [],
   "source": [
    "from PIL import Image\n",
    "size = 2000, 5000\n",
    "im = Image.open(\"/home/vimalkumar/Documents/CDE_Product/CNN/ICA_1/images/sample.jpeg\")\n",
    "im_resized = im.resize(size, Image.ANTIALIAS)\n",
    "im_resized.save(\"/home/vimalkumar/Documents/CDE_Product/CNN/ICA_1/images/sample_result.png\", \"PNG\")"
   ]
  },
  {
   "cell_type": "code",
   "execution_count": null,
   "id": "0ddcb6d4",
   "metadata": {},
   "outputs": [],
   "source": []
  },
  {
   "cell_type": "code",
   "execution_count": null,
   "id": "018731e2",
   "metadata": {},
   "outputs": [],
   "source": []
  }
 ],
 "metadata": {
  "kernelspec": {
   "display_name": "Python 3 (ipykernel)",
   "language": "python",
   "name": "python3"
  },
  "language_info": {
   "codemirror_mode": {
    "name": "ipython",
    "version": 3
   },
   "file_extension": ".py",
   "mimetype": "text/x-python",
   "name": "python",
   "nbconvert_exporter": "python",
   "pygments_lexer": "ipython3",
   "version": "3.8.10"
  }
 },
 "nbformat": 4,
 "nbformat_minor": 5
}
