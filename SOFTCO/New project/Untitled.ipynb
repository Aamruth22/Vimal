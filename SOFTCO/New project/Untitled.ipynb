{
 "cells": [
  {
   "cell_type": "code",
   "execution_count": 1,
   "id": "745819f0",
   "metadata": {},
   "outputs": [
    {
     "name": "stderr",
     "output_type": "stream",
     "text": [
      "2022-03-23 19:17:50.562195: W tensorflow/stream_executor/platform/default/dso_loader.cc:64] Could not load dynamic library 'libcudart.so.11.0'; dlerror: libcudart.so.11.0: cannot open shared object file: No such file or directory\n",
      "2022-03-23 19:17:50.562223: I tensorflow/stream_executor/cuda/cudart_stub.cc:29] Ignore above cudart dlerror if you do not have a GPU set up on your machine.\n"
     ]
    }
   ],
   "source": [
    "from tensorflow.keras.layers import Input, Lambda, Dense, Flatten\n",
    "from tensorflow.keras.models import Model\n",
    "#from tensorflow.keras.applications.inception_resnet_v2 import InceptionResnetV2\n",
    "from keras.applications.vgg19 import VGG19\n",
    "# from tensorflow.keras.applications.inception_v3 import preprocess_input\n",
    "#from keras.applications.resnet import ResNet50\n",
    "from keras.applications.vgg19 import preprocess_input\n",
    "from tensorflow.keras.preprocessing import image\n",
    "from tensorflow.keras.preprocessing.image import ImageDataGenerator,load_img\n",
    "from tensorflow.keras.models import Sequential\n",
    "import numpy as np\n",
    "from glob import glob\n",
    "#import matplotlib.pyplot as plt"
   ]
  },
  {
   "cell_type": "code",
   "execution_count": 2,
   "id": "8fe7f3c4",
   "metadata": {},
   "outputs": [],
   "source": [
    "# re-size all the images to this\n",
    "IMAGE_SIZE = [224, 224]\n",
    "\n",
    "train_path = '/home/vimalkumar/Documents/Stewart/CNN/Angle_cnn/train'\n",
    "#valid_path = '/home/vimalkumar/Documents/softco/CNN/CNN/test'"
   ]
  },
  {
   "cell_type": "code",
   "execution_count": 3,
   "id": "820bc06f",
   "metadata": {},
   "outputs": [
    {
     "name": "stderr",
     "output_type": "stream",
     "text": [
      "2022-03-23 19:18:44.447510: W tensorflow/stream_executor/platform/default/dso_loader.cc:64] Could not load dynamic library 'libcuda.so.1'; dlerror: libcuda.so.1: cannot open shared object file: No such file or directory\n",
      "2022-03-23 19:18:44.447553: W tensorflow/stream_executor/cuda/cuda_driver.cc:269] failed call to cuInit: UNKNOWN ERROR (303)\n",
      "2022-03-23 19:18:44.447573: I tensorflow/stream_executor/cuda/cuda_diagnostics.cc:156] kernel driver does not appear to be running on this host (IG154): /proc/driver/nvidia/version does not exist\n",
      "2022-03-23 19:18:44.447895: I tensorflow/core/platform/cpu_feature_guard.cc:142] This TensorFlow binary is optimized with oneAPI Deep Neural Network Library (oneDNN) to use the following CPU instructions in performance-critical operations:  AVX2 AVX512F FMA\n",
      "To enable them in other operations, rebuild TensorFlow with the appropriate compiler flags.\n"
     ]
    }
   ],
   "source": [
    "vgg19_model = VGG19(input_shape=IMAGE_SIZE + [3], weights='imagenet', include_top=False)\n"
   ]
  },
  {
   "cell_type": "code",
   "execution_count": 4,
   "id": "542da18f",
   "metadata": {},
   "outputs": [],
   "source": [
    "# don't train existing weights\n",
    "for layer in vgg19_model.layers:\n",
    "    layer.trainable = False"
   ]
  },
  {
   "cell_type": "code",
   "execution_count": 5,
   "id": "8c66b7bf",
   "metadata": {},
   "outputs": [],
   "source": [
    "folders = glob('/home/vimalkumar/Documents/Stewart/CNN/Angle_cnn/train/*')\n"
   ]
  },
  {
   "cell_type": "code",
   "execution_count": 6,
   "id": "d4225f2a",
   "metadata": {},
   "outputs": [],
   "source": [
    "x = Flatten()(vgg19_model.output)\n"
   ]
  },
  {
   "cell_type": "code",
   "execution_count": 7,
   "id": "d1265315",
   "metadata": {},
   "outputs": [],
   "source": [
    "prediction = Dense(len(folders), activation='softmax')(x)\n",
    "\n",
    "# create a model object\n",
    "model = Model(inputs=vgg19_model.input, outputs=prediction)"
   ]
  },
  {
   "cell_type": "code",
   "execution_count": 8,
   "id": "9a8815c8",
   "metadata": {},
   "outputs": [],
   "source": [
    "# tell the model what cost and optimization method to use\n",
    "model.compile(\n",
    "  loss='categorical_crossentropy',\n",
    "  optimizer='adam',\n",
    "  metrics=['accuracy']\n",
    ")"
   ]
  },
  {
   "cell_type": "code",
   "execution_count": 9,
   "id": "9e10c55b",
   "metadata": {},
   "outputs": [],
   "source": [
    "# Use the Image Data Generator to import the images from the dataset\n",
    "from tensorflow.keras.preprocessing.image import ImageDataGenerator\n",
    "\n",
    "train_datagen = ImageDataGenerator(rescale = 1./255,\n",
    "                                   \n",
    "                                  validation_split=0.15)\n",
    "\n",
    "#test_datagen = ImageDataGenerator(rescale = 1./255)"
   ]
  },
  {
   "cell_type": "code",
   "execution_count": 10,
   "id": "e7c7776a",
   "metadata": {},
   "outputs": [
    {
     "name": "stdout",
     "output_type": "stream",
     "text": [
      "Found 1175 images belonging to 4 classes.\n",
      "Found 204 images belonging to 4 classes.\n"
     ]
    }
   ],
   "source": [
    "# Make sure you provide the same target size as initialied for the image size\n",
    "training_set = train_datagen.flow_from_directory(train_path,\n",
    "                                                 target_size = (224, 224),\n",
    "                                                 batch_size = 2,\n",
    "                                                 class_mode = 'categorical',\n",
    "                                                subset = 'training',\n",
    "                                                 shuffle=True)\n",
    "\n",
    "test_set = train_datagen.flow_from_directory(train_path,\n",
    "                                            target_size = (224, 224),\n",
    "                                            batch_size = 2,\n",
    "                                            class_mode = 'categorical',\n",
    "                                           subset = 'validation')"
   ]
  },
  {
   "cell_type": "code",
   "execution_count": 11,
   "id": "74492dab",
   "metadata": {},
   "outputs": [
    {
     "name": "stderr",
     "output_type": "stream",
     "text": [
      "/home/vimalkumar/Documents/Python_new_1/cde_venv/lib/python3.8/site-packages/keras/engine/training.py:1972: UserWarning: `Model.fit_generator` is deprecated and will be removed in a future version. Please use `Model.fit`, which supports generators.\n",
      "  warnings.warn('`Model.fit_generator` is deprecated and '\n",
      "2022-03-23 19:20:34.568787: I tensorflow/compiler/mlir/mlir_graph_optimization_pass.cc:185] None of the MLIR Optimization Passes are enabled (registered 2)\n"
     ]
    },
    {
     "name": "stdout",
     "output_type": "stream",
     "text": [
      "Epoch 1/10\n"
     ]
    },
    {
     "name": "stderr",
     "output_type": "stream",
     "text": [
      "2022-03-23 19:20:36.353935: W tensorflow/core/framework/cpu_allocator_impl.cc:80] Allocation of 25690112 exceeds 10% of free system memory.\n",
      "2022-03-23 19:20:36.878092: W tensorflow/core/framework/cpu_allocator_impl.cc:80] Allocation of 25690112 exceeds 10% of free system memory.\n"
     ]
    },
    {
     "name": "stdout",
     "output_type": "stream",
     "text": [
      "\r",
      "  1/588 [..............................] - ETA: 29:16 - loss: 1.1498 - accuracy: 0.5000"
     ]
    },
    {
     "name": "stderr",
     "output_type": "stream",
     "text": [
      "2022-03-23 19:20:37.934466: W tensorflow/core/framework/cpu_allocator_impl.cc:80] Allocation of 25690112 exceeds 10% of free system memory.\n",
      "2022-03-23 19:20:37.942417: W tensorflow/core/framework/cpu_allocator_impl.cc:80] Allocation of 25690112 exceeds 10% of free system memory.\n"
     ]
    },
    {
     "name": "stdout",
     "output_type": "stream",
     "text": [
      "\b\b\b\b\b\b\b\b\b\b\b\b\b\b\b\b\b\b\b\b\b\b\b\b\b\b\b\b\b\b\b\b\b\b\b\b\b\b\b\b\b\b\b\b\b\b\b\b\b\b\b\b\b\b\b\b\b\b\b\b\b\b\b\b\b\b\b\b\b\b\b\b\b\b\b\b\b\b\b\b\b\b\b\b\b\b\b\r",
      "  2/588 [..............................] - ETA: 4:11 - loss: 2.5130 - accuracy: 0.2500 "
     ]
    },
    {
     "name": "stderr",
     "output_type": "stream",
     "text": [
      "2022-03-23 19:20:38.363635: W tensorflow/core/framework/cpu_allocator_impl.cc:80] Allocation of 25690112 exceeds 10% of free system memory.\n"
     ]
    },
    {
     "name": "stdout",
     "output_type": "stream",
     "text": [
      "588/588 [==============================] - 301s 508ms/step - loss: 0.8843 - accuracy: 0.7523 - val_loss: 0.8171 - val_accuracy: 0.7402\n",
      "Epoch 2/10\n",
      "588/588 [==============================] - 289s 492ms/step - loss: 0.3594 - accuracy: 0.8953 - val_loss: 0.5615 - val_accuracy: 0.8431\n",
      "Epoch 3/10\n",
      "588/588 [==============================] - 290s 493ms/step - loss: 0.2549 - accuracy: 0.9243 - val_loss: 1.1454 - val_accuracy: 0.7451\n",
      "Epoch 4/10\n",
      "588/588 [==============================] - 289s 492ms/step - loss: 0.2104 - accuracy: 0.9489 - val_loss: 3.8134 - val_accuracy: 0.7059\n",
      "Epoch 5/10\n",
      "588/588 [==============================] - 286s 487ms/step - loss: 0.2223 - accuracy: 0.9421 - val_loss: 1.8467 - val_accuracy: 0.7010\n",
      "Epoch 6/10\n",
      "588/588 [==============================] - 292s 497ms/step - loss: 0.1133 - accuracy: 0.9651 - val_loss: 0.5788 - val_accuracy: 0.8529\n",
      "Epoch 7/10\n",
      "588/588 [==============================] - 294s 500ms/step - loss: 0.2511 - accuracy: 0.9515 - val_loss: 0.4550 - val_accuracy: 0.8627\n",
      "Epoch 8/10\n",
      "588/588 [==============================] - 297s 504ms/step - loss: 0.2146 - accuracy: 0.9455 - val_loss: 0.4719 - val_accuracy: 0.8922\n",
      "Epoch 9/10\n",
      "588/588 [==============================] - 290s 492ms/step - loss: 0.0731 - accuracy: 0.9830 - val_loss: 0.6120 - val_accuracy: 0.8922\n",
      "Epoch 10/10\n",
      "588/588 [==============================] - 298s 507ms/step - loss: 0.2799 - accuracy: 0.9447 - val_loss: 0.5225 - val_accuracy: 0.9069\n"
     ]
    }
   ],
   "source": [
    "r = model.fit_generator(\n",
    "  training_set,\n",
    "  validation_data=test_set,\n",
    "  epochs=10,\n",
    "  #steps_per_epoch=len(training_set),\n",
    "  #validation_steps=len(test_set)\n",
    ")"
   ]
  },
  {
   "cell_type": "code",
   "execution_count": 12,
   "id": "438dc4cd",
   "metadata": {},
   "outputs": [],
   "source": [
    "model.save('stewart_vgg19_rotation.h5')"
   ]
  },
  {
   "cell_type": "code",
   "execution_count": 13,
   "id": "632604e7",
   "metadata": {},
   "outputs": [],
   "source": [
    "import os\n",
    "import keras\n",
    "from keras.preprocessing.image import load_img,img_to_array\n",
    "import matplotlib.pyplot as plt\n",
    "from tensorflow.keras.preprocessing import image\n",
    "import numpy as np\n",
    "import pandas as pd"
   ]
  },
  {
   "cell_type": "code",
   "execution_count": 14,
   "id": "36c2aaa0",
   "metadata": {},
   "outputs": [],
   "source": [
    "model = keras.models.load_model('stewart_vgg19_rotation.h5')"
   ]
  },
  {
   "cell_type": "code",
   "execution_count": 19,
   "id": "addb8602",
   "metadata": {},
   "outputs": [
    {
     "name": "stdout",
     "output_type": "stream",
     "text": [
      "{0: '0 degree', 1: '180 degree', 2: '270 degree', 3: '90 degree'}\n"
     ]
    }
   ],
   "source": [
    "train_path = '/home/vimalkumar/Documents/Stewart/CNN/Angle_cnn/train'\n",
    "folders = glob('/home/vimalkumar/Documents/Stewart/CNN/Angle_cnn/train/*')\n",
    "\n",
    "keys = []\n",
    "values = []\n",
    "for key in range(len(folders)):\n",
    "    #print(key)\n",
    "    keys.append(key)\n",
    "for path in os.listdir(train_path):\n",
    "    #print(path)\n",
    "    values.append(path)\n",
    "dic = dict(list(zip(keys,sorted(values))))\n",
    "print(dic)"
   ]
  },
  {
   "cell_type": "code",
   "execution_count": 17,
   "id": "72015f2f",
   "metadata": {},
   "outputs": [],
   "source": [
    "dic = {0:'0',1:'90',2:'180',3:'270'}"
   ]
  },
  {
   "cell_type": "code",
   "execution_count": 20,
   "id": "88418c76",
   "metadata": {},
   "outputs": [
    {
     "name": "stdout",
     "output_type": "stream",
     "text": [
      "1    b17_0.png\n",
      "90 degree\n",
      "1    b17_1.png\n",
      "90 degree\n",
      "1    b17_10.png\n",
      "90 degree\n",
      "1    b17_100.png\n",
      "90 degree\n",
      "1    b17_101.png\n",
      "270 degree\n",
      "1    b17_102.png\n",
      "90 degree\n",
      "1    b17_103.png\n",
      "90 degree\n",
      "1    b17_104.png\n",
      "90 degree\n",
      "1    b17_11.png\n",
      "90 degree\n",
      "1    b17_12.png\n",
      "90 degree\n",
      "1    b17_13.png\n",
      "180 degree\n",
      "1    b17_14.png\n",
      "90 degree\n",
      "1    b17_15.png\n",
      "90 degree\n",
      "1    b17_16.png\n",
      "90 degree\n",
      "1    b17_17.png\n",
      "90 degree\n",
      "1    b17_18.png\n",
      "90 degree\n",
      "1    b17_19.png\n",
      "90 degree\n",
      "1    b17_2.png\n",
      "90 degree\n",
      "1    b17_20.png\n",
      "90 degree\n",
      "1    b17_21.png\n",
      "90 degree\n",
      "1    b17_22.png\n",
      "90 degree\n",
      "1    b17_23.png\n",
      "90 degree\n",
      "1    b17_24.png\n",
      "90 degree\n",
      "1    b17_25.png\n",
      "90 degree\n",
      "1    b17_26.png\n",
      "90 degree\n",
      "1    b17_27.png\n",
      "90 degree\n",
      "1    b17_28.png\n",
      "90 degree\n",
      "1    b17_29.png\n",
      "90 degree\n",
      "1    b17_3.png\n",
      "90 degree\n",
      "1    b17_31.png\n",
      "90 degree\n",
      "1    b17_32.png\n",
      "90 degree\n",
      "1    b17_33.png\n",
      "90 degree\n",
      "1    b17_34.png\n",
      "90 degree\n",
      "1    b17_35.png\n",
      "90 degree\n",
      "1    b17_36.png\n",
      "270 degree\n",
      "1    b17_37.png\n",
      "90 degree\n",
      "1    b17_38.png\n",
      "270 degree\n",
      "1    b17_39.png\n",
      "90 degree\n",
      "1    b17_4.png\n",
      "90 degree\n",
      "1    b17_40.png\n",
      "270 degree\n",
      "1    b17_41.png\n",
      "270 degree\n",
      "1    b17_42.png\n",
      "270 degree\n",
      "1    b17_43.png\n",
      "90 degree\n",
      "1    b17_44.png\n",
      "90 degree\n",
      "1    b17_45.png\n",
      "90 degree\n",
      "1    b17_46.png\n",
      "90 degree\n",
      "1    b17_47.png\n",
      "90 degree\n",
      "1    b17_48.png\n",
      "90 degree\n",
      "1    b17_49.png\n",
      "90 degree\n",
      "1    b17_5.png\n",
      "90 degree\n",
      "1    b17_50.png\n",
      "90 degree\n",
      "1    b17_51.png\n",
      "90 degree\n",
      "1    b17_52.png\n",
      "90 degree\n",
      "1    b17_53.png\n",
      "90 degree\n",
      "1    b17_54.png\n",
      "90 degree\n",
      "1    b17_55.png\n",
      "270 degree\n",
      "1    b17_56.png\n",
      "90 degree\n",
      "1    b17_57.png\n",
      "90 degree\n",
      "1    b17_58.png\n",
      "90 degree\n",
      "1    b17_59.png\n",
      "90 degree\n",
      "1    b17_6.png\n",
      "90 degree\n",
      "1    b17_60.png\n",
      "90 degree\n",
      "1    b17_61.png\n",
      "90 degree\n",
      "1    b17_62.png\n",
      "90 degree\n",
      "1    b17_63.png\n",
      "90 degree\n",
      "1    b17_64.png\n",
      "90 degree\n",
      "1    b17_65.png\n",
      "90 degree\n",
      "1    b17_66.png\n",
      "90 degree\n",
      "1    b17_67.png\n",
      "90 degree\n",
      "1    b17_68.png\n",
      "90 degree\n",
      "1    b17_69.png\n",
      "270 degree\n",
      "1    b17_7.png\n",
      "270 degree\n",
      "1    b17_70.png\n",
      "90 degree\n",
      "1    b17_71.png\n",
      "90 degree\n",
      "1    b17_72.png\n",
      "90 degree\n",
      "1    b17_73.png\n",
      "270 degree\n",
      "1    b17_74.png\n",
      "90 degree\n",
      "1    b17_75.png\n",
      "270 degree\n",
      "1    b17_76.png\n",
      "270 degree\n",
      "1    b17_77.png\n",
      "90 degree\n",
      "1    b17_78.png\n",
      "90 degree\n",
      "1    b17_79.png\n",
      "270 degree\n",
      "1    b17_8.png\n",
      "90 degree\n",
      "1    b17_80.png\n",
      "270 degree\n",
      "1    b17_81.png\n",
      "90 degree\n",
      "1    b17_82.png\n",
      "90 degree\n",
      "1    b17_83.png\n",
      "90 degree\n",
      "1    b17_84.png\n",
      "270 degree\n",
      "1    b17_85.png\n",
      "90 degree\n",
      "1    b17_86.png\n",
      "90 degree\n",
      "1    b17_87.png\n",
      "90 degree\n",
      "1    b17_88.png\n",
      "180 degree\n",
      "1    b17_89.png\n",
      "90 degree\n",
      "1    b17_9.png\n",
      "90 degree\n",
      "1    b17_90.png\n",
      "180 degree\n",
      "1    b17_91.png\n",
      "180 degree\n",
      "1    b17_92.png\n",
      "90 degree\n",
      "1    b17_93.png\n",
      "90 degree\n",
      "1    b17_94.png\n",
      "90 degree\n",
      "1    b17_95.png\n",
      "90 degree\n",
      "1    b17_96.png\n",
      "90 degree\n",
      "1    b17_97.png\n",
      "270 degree\n",
      "1    b17_98.png\n",
      "270 degree\n",
      "1    b17_99.png\n",
      "270 degree\n"
     ]
    }
   ],
   "source": [
    "path = '/home/vimalkumar/Downloads/stewart degrees test/test/90 test'\n",
    "\n",
    "\n",
    "cnt = 1\n",
    "\n",
    "for im in sorted(os.listdir(path)):\n",
    "    print(cnt ,'  ',im)\n",
    "    cnt+=1\n",
    "    img = image.load_img(os.path.join(path,im),\n",
    "                     target_size=(224,224))\n",
    "#     plt.imshow(img)\n",
    "#     plt.show()\n",
    "\n",
    "    x = image.img_to_array(img)\n",
    "    x = x/255\n",
    "    x = np.expand_dims(x,axis=0)\n",
    "    images = np.vstack([x])\n",
    "    val = model.predict(images)\n",
    "    #print(val)\n",
    "\n",
    "    a=np.argmax(val,axis=1)\n",
    "    print(dic[a[0]])\n",
    "    "
   ]
  },
  {
   "cell_type": "code",
   "execution_count": null,
   "id": "69d9286c",
   "metadata": {},
   "outputs": [],
   "source": []
  },
  {
   "cell_type": "code",
   "execution_count": null,
   "id": "077bfd91",
   "metadata": {},
   "outputs": [],
   "source": []
  },
  {
   "cell_type": "code",
   "execution_count": null,
   "id": "c1696777",
   "metadata": {},
   "outputs": [],
   "source": []
  },
  {
   "cell_type": "code",
   "execution_count": null,
   "id": "6d120086",
   "metadata": {},
   "outputs": [],
   "source": []
  },
  {
   "cell_type": "code",
   "execution_count": null,
   "id": "58d17412",
   "metadata": {},
   "outputs": [],
   "source": []
  }
 ],
 "metadata": {
  "kernelspec": {
   "display_name": "Python 3 (ipykernel)",
   "language": "python",
   "name": "python3"
  },
  "language_info": {
   "codemirror_mode": {
    "name": "ipython",
    "version": 3
   },
   "file_extension": ".py",
   "mimetype": "text/x-python",
   "name": "python",
   "nbconvert_exporter": "python",
   "pygments_lexer": "ipython3",
   "version": "3.8.10"
  }
 },
 "nbformat": 4,
 "nbformat_minor": 5
}
