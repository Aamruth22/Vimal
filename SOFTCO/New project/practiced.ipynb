{
 "cells": [
  {
   "cell_type": "code",
   "execution_count": 2,
   "id": "fea7bd59",
   "metadata": {},
   "outputs": [],
   "source": [
    "from PIL import Image\n",
    "import cv2\n",
    "import pytesseract\n",
    "import numpy as np\n",
    "import fitz\n",
    "import os\n",
    "import shutil\n",
    "import warnings\n",
    "warnings.filterwarnings(\"ignore\", category=FutureWarning)\n"
   ]
  },
  {
   "cell_type": "code",
   "execution_count": 2,
   "id": "91ef7115",
   "metadata": {},
   "outputs": [],
   "source": [
    "doc = fitz.open(os.path.join('/home/vimalkumar/Downloads/Lindbergh Lawns Tract  BL 1,2,3.pdf'))"
   ]
  },
  {
   "cell_type": "code",
   "execution_count": 20,
   "id": "61c4dd1a",
   "metadata": {},
   "outputs": [],
   "source": [
    "in_path = '/home/vimalkumar/Downloads/new_project/input_pdf/Lindbergh Lawns Tract  BL 1,2,3.pdf'\n",
    "out_path = '/home/vimalkumar/Downloads/new_project/output_image'\n",
    "\n",
    "doc = fitz.open(in_path)\n",
    "page = doc.load_page(0)  # number of page\n",
    "pix = page.get_pixmap(matrix=fitz.Matrix(150/72,150/72))# for 150dpi\n",
    "file_name = 'image'        \n",
    "pix.pil_save(os.path.join(out_path,file_name+'.jpg'))\n"
   ]
  },
  {
   "cell_type": "code",
   "execution_count": 122,
   "id": "ff3ae2b2",
   "metadata": {},
   "outputs": [],
   "source": [
    "in_path = '/home/vimalkumar/Downloads/new_project/input_pdf/Lindbergh Lawns Tract  BL 1,2,3.pdf'\n",
    "out_path = '/home/vimalkumar/Downloads/new_project/output_image'\n",
    "\n",
    "doc = fitz.open(in_path)\n",
    "\n",
    "for i in range(len(doc)):\n",
    "    doc = fitz.open(in_path)\n",
    "    page = doc.load_page(i)  # number of page\n",
    "    pix = page.get_pixmap(matrix=fitz.Matrix(150/72,150/72))# for 150dpi\n",
    "    file_name = str(i+1000 + 1)       \n",
    "    pix.pil_save(os.path.join(out_path,file_name+'.jpeg'))\n",
    "\n",
    "    "
   ]
  },
  {
   "cell_type": "code",
   "execution_count": 207,
   "id": "c27c492d",
   "metadata": {},
   "outputs": [
    {
     "name": "stdout",
     "output_type": "stream",
     "text": [
      "ot\n",
      "a\n",
      "eS ey ee\n",
      "Se\n",
      "re |\n",
      "(ee ne oe\n",
      "———SSTT >\n",
      "\f",
      "\n"
     ]
    }
   ],
   "source": [
    "import cv2\n",
    "import pytesseract\n",
    "import numpy as np\n",
    "\n",
    "im = cv2.imread('/home/vimalkumar/Downloads/new_project/output_image/1063.jpeg',0)\n",
    "image_data = pytesseract.image_to_string(im,config=r'--oem 3 --psm 6')\n",
    "print(image_data)"
   ]
  },
  {
   "cell_type": "code",
   "execution_count": 22,
   "id": "b9b40077",
   "metadata": {},
   "outputs": [
    {
     "name": "stdout",
     "output_type": "stream",
     "text": [
      "                    \n",
      "20\n",
      "15\n"
     ]
    }
   ],
   "source": [
    "from fuzzywuzzy import fuzz\n",
    "\n",
    "\n",
    "im = cv2.imread('/home/vimalkumar/Downloads/new_project/output_image/1065.jpeg',0)\n",
    "#image_data = pytesseract.image_to_string(im,config=r'--oem 3 --psm 6')\n",
    "#print(image_data)\n",
    "\n",
    "\n",
    "_, blackAndWhite = cv2.threshold(im, 180, 255, cv2.THRESH_BINARY_INV)\n",
    "\n",
    "nlabels, labels, stats, centroids = cv2.connectedComponentsWithStats(blackAndWhite, None, None, None, 8, cv2.CV_32S)\n",
    "sizes = stats[1:, -1] #get CC_STAT_AREA component\n",
    "img2 = np.zeros((labels.shape), np.uint8)\n",
    "\n",
    "for i in range(0, nlabels - 1):\n",
    "    if sizes[i] >= 50:   #filter small dotted regions\n",
    "        img2[labels == i + 1] = 255\n",
    "\n",
    "res = cv2.bitwise_not(img2)\n",
    "#im = cv2.imread('/home/vimalkumar/Downloads/new_project/output_image/1002.jpeg',0)\n",
    "image_data = pytesseract.image_to_string(res)\n",
    "#print(image_data)\n",
    "\n",
    "out = \" \".join(image_data.splitlines()).lower()\n",
    "print(out)\n",
    "out_1 = out.replace\n",
    "print(len(out))\n",
    "\n",
    "fuzz_ratio = fuzz.partial_ratio(out,'new document to follow')\n",
    "print(fuzz_ratio)"
   ]
  },
  {
   "cell_type": "code",
   "execution_count": 28,
   "id": "b2b94d91",
   "metadata": {},
   "outputs": [
    {
     "data": {
      "text/plain": [
       "0"
      ]
     },
     "execution_count": 28,
     "metadata": {},
     "output_type": "execute_result"
    }
   ],
   "source": [
    "out = '                    '\n",
    "len(out)\n",
    "a = out.replace('  ','')\n",
    "len(a)"
   ]
  },
  {
   "cell_type": "code",
   "execution_count": 16,
   "id": "20edb880",
   "metadata": {},
   "outputs": [
    {
     "name": "stdout",
     "output_type": "stream",
     "text": [
      "ESSE\n",
      "———\n",
      "or\n",
      "= |\n",
      "\f",
      "\n"
     ]
    }
   ],
   "source": [
    "im = cv2.imread('/home/vimalkumar/Downloads/new_project/output_image/1067.jpeg',0)\n",
    "image_data = pytesseract.image_to_string(im,config=r'--oem 3 --psm 6')\n",
    "print(image_data)"
   ]
  },
  {
   "cell_type": "code",
   "execution_count": 233,
   "id": "b48a649c",
   "metadata": {},
   "outputs": [
    {
     "name": "stdout",
     "output_type": "stream",
     "text": [
      "['']\n"
     ]
    }
   ],
   "source": [
    "words = [''.join(letter for letter in word if letter not in string.punctuation) for word in out ]\n",
    "without_empty_strings = [' '.join(string for string in words if string.strip() != \"\")]\n",
    "print(without_empty_strings)"
   ]
  },
  {
   "cell_type": "code",
   "execution_count": 204,
   "id": "82cdfa6b",
   "metadata": {},
   "outputs": [
    {
     "name": "stderr",
     "output_type": "stream",
     "text": [
      "[nltk_data] Downloading package stopwords to\n",
      "[nltk_data]     /home/vimalkumar/nltk_data...\n",
      "[nltk_data]   Unzipping corpora/stopwords.zip.\n"
     ]
    }
   ],
   "source": [
    "import nltk\n",
    "nltk.download('stopwords')\n",
    "from nltk.corpus import stopwords"
   ]
  },
  {
   "cell_type": "code",
   "execution_count": 205,
   "id": "36eb0ab5",
   "metadata": {},
   "outputs": [
    {
     "name": "stdout",
     "output_type": "stream",
     "text": [
      "['po', 'ae', '——', '——', 'en', 'en', 'ann', 'tt', 'enna', 'etn', 'ene', 'nt', 'pee', 'enna', 'tent', 'eet', 'em', 'ene', 'nn', 'tener', 'ert', 'terenemuntet', 'ttn', 'enter', 'tit', 'ert', 'nett', 'enter', 'erent', 'ed', 'nent', 'ane', 'ere', 'ie', 'nn', 'ne', 'oe', '—', '}', 'c', 'pt', 'came', 'ni', 'nanan', 'cts', 'tin', 'etn', 'ner', 'itantnenrne', 'boe', 'gen', 'ttt']\n"
     ]
    }
   ],
   "source": [
    "from nltk.tokenize import word_tokenize\n",
    "\n",
    "\n",
    "\n",
    "#text = 'my name is gurjot. I live in chandigarh. I work in crossML'\n",
    "\n",
    "\n",
    "\n",
    "text = out.lower() # convert in lowercase\n",
    "word_tokens = word_tokenize(text) # tokenize the words\n",
    "stop_words = set(stopwords.words('english')) # extract all stop words\n",
    "\n",
    "\n",
    "\n",
    "#print(stop_words)\n",
    "#print(word_tokens)\n",
    "\n",
    "\n",
    "\n",
    "filtered_sentence = [word for word in word_tokens if not word in stop_words]\n",
    "print(filtered_sentence)"
   ]
  },
  {
   "cell_type": "code",
   "execution_count": null,
   "id": "8ceff4ed",
   "metadata": {},
   "outputs": [],
   "source": []
  },
  {
   "cell_type": "code",
   "execution_count": 171,
   "id": "c3a4af0d",
   "metadata": {},
   "outputs": [
    {
     "name": "stdout",
     "output_type": "stream",
     "text": [
      "1001.jpeg\n",
      "/ 7 (el lnldlolel ght celok pt tock bloucs 1 a, 3 | ay a \n",
      "41\n",
      "1002.jpeg\n",
      "new document to follow \n",
      "100\n",
      "1003.jpeg\n",
      "f) f numerical { noe le 74 / ahaa wt fbn new reco dg tees ‘y fy xpi’ c ce payers reed mu ell stun d seh 0 de ed by_amdy side. mir ue deed bd toinc 5 au ps cha ge mortgages del ve et extension fax $$ agen hoeedw ne bring down rel. ne sea es noe. ass closing tax sa s__. ee bé&lo nobd oe hodfo ds ta ge reported bd s&c index nu report a check ree to al enc anne ener cut of _ = _- ¥ ted map no dae ofl ing li l. tinel f o alias) j web! | he be cd (mandl, doc yy v g \"# af £ lsp - deeds. fh aa ¥ we a ba zz) op r po 6 2 deeds ny ff a ne nee & | udg sur 7 a ae fd comp m ges al ee cb. rad sb scbl wl nl m pgs mi ce pp eg of t on ——— eg $8 sare oo em g down 57), alp! comp affi q sa . a to al gr \\2% da ot lua) ol, 200). a hed hy ed yuan pacd by \n",
      "32\n",
      "1004.jpeg\n",
      "rogram b ve bnondaga coun cl rk dar @ @ @ ma g&g 31s civ ac ons akers f led me a4 a pa e sed sk ndex f ed not afers f_ ed aaa ww 4 wei ana ndex rece f summons com an & rend waa aa age aa aff of serv ce dav d ous & day dt baa ae aaa aa ri cha. 2e aaa a4 amended summons, amended com an s fr ai @ aaa ae aff rma ion n & ffort wie a ae qa order exve qo amend comfla n 4 =f 66 aag a waz we aff qo serv e ommerc a credi fla qa 12 eae was af of serv ce fegl —& of he safo agua c6 qe waz s ifulat on wag “ob aa aw & fendcns h - or furward b qr ba kward ear 0 ex hs sa records for hs ndex numbe frogram baa on ndagr coun c &rk dae &@ &@ @ ma g bms cv al ons me a 4 a ers f ed name & eank na ona assol a on rus ee ndex ae dae f led @ @9 @ag@ se # ag fafr ff fd ag of serv_ce david o0us e dav d ous & exe u or es a e of sapak ous le commerl al cred flan inc gegrge gwn rem rre o go o he main fla n ff record en er m he hh mmdd yyy fun ndf x aan dae @ @z aaa seg me frogram g&g ava onondaga c un c er dae & @7 &@ maf g ams liv ac ons me b44 4 fa ers f ed name f rb bank na ona a ta on rus ee ndex wea dae f ed a6 ae sed # bas fa er filed amended sum ons amended comfla n s fendens err ogcao a e man an f re grd en er m kher mmdd fun ndex baa dae @ & aaa sa ~am4 \n",
      "27\n",
      "1005.jpeg\n",
      "f rogram g bv@ onondaga coun y c erk dba 2 a & ma gb bms cvl ac ons ime 1a i r ers f £d  naye f rs bank na cna aso a on rus ee ndex dae da e ed a ga seg # ba fa er ed af of serv ce commerc al cred an nc o geurge own dv d gusle ma rbha rancey dona d gus e ru h mcevoy heekee go 60 o he ma nf bain f recgrd en m ft mmddy fu c nde x baa da e a aas se ou frogram jg ava unondaga coun y c erp dae @ @ @ mhf jg &ms c vi ac ons me a4 a mafers ed name f rs bank na ona assoc at on ru ek ndex qq dae f ed @ aaa sed # a8 fafer f led rff of serv e eo o €& s ae of new grk un eds aed o ame ca no does ee ok oo 60 o he ma nf an f re ord en er m ek mmddy y func ndex aan dae 2 wag sed mas \n",
      "36\n",
      "1006.jpeg\n",
      "4 us baknaoaa oao fk/af bank sup ene a pe den na naaoao a tru ee de epoo § sup eme co rt andse n,ageene daed ue? 99 ff o o daga coun y c y apehomeequ yloantru 99 c da ed january 22 200 index no 2000 25 re january 26 200 da dm tou ey conme aced pan of a 252pm geo ge own ma sha f an ey donad tou ey fo yh howe o dwye kab & mu ph ru me oy t epeopeof hesaeofnew ay yok nedsae ofame a joh doe ad aebe gf ou eghenenoo e booko £ peden 8 pa ff ode gnaeanyanda o upa sof age 8 & pene des bedn aon tofoe oe emo gage hw an de pon sube pe e he suppene an e b gfede o oa edhe enw hoee ead defe dan | cv lact ons ls pendens f ed january 26 200 \n",
      "36\n",
      "1007.jpeg\n",
      "names cfrtified acainsi da dm [o_ ey saa ] tous ey fomo obe 5 2000 0 january 26 200 \n",
      "41\n",
      "1008.jpeg\n",
      "monroe eieel insurancr core ora lion absiraci ceriificatl monroe title insurance corporation ane y kcopoa nfo g00d o deao pad certif es and guarantees 0 he u en eodowe ofan ee no pef e upo hepensesdes beda se ou no il n eda y e edng ce fae es e pe e and e ued nee of e od ha lha ea ed ) heab a o udgne fo $299 coe o bod ea deed fede fa o a fai esaene po oe juge me a m g5£¢e d g loan co no e offe e se ce eos s eyb d adweae e e nan d eco ck off a 2 esu ogae de na a ed e s gae co ° w sb e a aga namesof e arte appa 4 ab a aow go a ga ee sub e pe ebe g, enane ed se wd 4 eod od o w fonand dng edae october 15, 2000 eda o ce fae 2 as ea hed e na ehaza o wa ed poa sereg ry de a ne couny ceks off e fo he coun wh he sube pen e oaed agans he ax mappa e numbe o he e on bok and o numbe of e sube lem e ford he ae efo n eab a a se ou 14 adnae aeoe e forth heenad ee o ngnoen oe de wh appea oaffe  e sub pem eo ny part he eof 4 th ea hdoe o e fort mortgage udge e e no eso. ende 0 enunbane eo edo fedpo oo g e e odo ea ow aeao d ageo a ao aebee eodedo fed fa e ° o efee edo ap ea ny ea oaea o ono efedea fa hou ga 42usc § 60 e eq asane ded e fo eenoe ne ee of peeanda uae epo g 6 the gua an y unde certf ae a no be edby e th ab ac certf ae smadebya e sua e ompanyauho zed odobu e he saeofnew yok w na na a auory os ee e fo ab ao nade byanab a onpa yw na a se osando ons nua e€ 0 € ag ofa ea $ 000000 00 8 t c faene n nu eonne ded andad of e ono dagacou ba a a eff eda e ae in witness whfreof of monce 1} e ua ecopoao a ued ce fae e gnedby au o edoff e h 26tl da o ja uary 2001 a 12,53 0 clock p monrof tiflf insurance lup tion 5 teva sf (le auho ed off ¢ ode no 272928 ab a edby p sta tt © \n",
      "36\n",
      "1009.jpeg\n",
      "new document to follow \n",
      "100\n",
      "1010.jpeg\n",
      "hy lf p 2) numerical reco d lrolerty. / jy le liha bihill4 new fr ecod g tees \\ yd hp a 21 //0 c cle fapers ree d ff sole stub d sch ae o de cd by suc aye deed ch g bd toinc sta ps nt mortgages. del ve extension tox eee ag ee, eed due bring down rel_ sea es noe. asst closing ‘tox sats bebo nopd te hold for discha ge reported b d s&c f } dex nu report ee md - mel check. —_— to al ae cut off es ls led map no © a eunpan® date of f ting mai lh le aby , mah 0 taal lhe tb aztonle lot be 00 4 ¢ pe i ae nd wee ee — ca as ass =a z ct a4 deeds p nu an pp a {x gu) ao neda letay supuptaas + crude & ae in sso o0da tudg comp__—\" va _ comp, i a cb $$$ $$ ee ec scb. we ee felepho ®, s sere wm luc we bdo alp] conp v hc dk ect affts sats total co iy na da ed a) typed by_.__..-co pa ed by \n",
      "36\n",
      "1011.jpeg\n",
      "subjfct eremises a ha a o pa dou hadbo gn t g dd qo dagaadsa n y kb dd dd bd kn ad de gna dasl no b kn l db g dg p nad b sng ce dadm 699 d d on dagac cc k off m 20 92 \n",
      "36\n",
      "1012.jpeg\n",
      "2 amended lis pendens us baknaon a /klaf ba k na ona a na tn ecund poo ng nds rv gag n dad n 9 99 fo€ pe on eq a th 99 c vs d dm m dod r mf cc cd pp og g pop s n yohu ds oa doe d b bog p dg d p p d bd dd rg a f dd 20 0 d 4pm um o£ b 4 pod & a no 2 2 ° sp cc qo dgo f ho odw k b&m pca t foe oe mortg g n d pon sub p cv lact ons d r p pd s$ &c p do b 0 a dds a a dd pod do b a rma supponf do b 00 od l eoa endcompan4 f 8 do b 0 af sw conn cd pon goes dd m h fa donadt u r me dn nb 00 a ss pop s on yru as a n doe d n b g s puao fed d b 6 2060 \n",
      "41\n",
      "1013.jpeg\n",
      "3 names cfrtified acains1 da dm i sa tou f unfb an2 0 b 6 60 \n",
      "41\n",
      "1014.jpeg\n",
      "p by monroe i t nslranci c  poea cn abs ra cr fa abs ract cert f cate no 2 1108 d d pp d bda a s§ o lip deg cc sb p dh fo ab a so f g 3 ddd da d16 qo obe 2000 1224 60 ok pm ad ud mon 0 ln ran £ or a on jhevnes  coavf, b ———___—_ a of od n 8 n 8  a db ps \n",
      "23\n",
      "1015.jpeg\n",
      "\n",
      "1016.jpeg\n",
      "new document to follow \n",
      "100\n",
      "1017.jpeg\n",
      "; - alpe abet cal abstract no property_l.7 644 lind ésrah new yf, 10 reo. dng fe aarne le cbobes v 2b c ce papers rece ed stub dak odeedby fo syth dowe gle deed cha ge. bring down stamp ee mortgage de en closing tax. __ ene ed due. a report are 2 28 sea esnoe zs _4 ee 2d p y 20 yet check total hod fo d scha ge cu off mph tat, thee b, (pr ed map no daeoff ng 4 eu | grantee 2y. “ez my, 9499 te 2 loud sh tuclas, grantor_27/ x dp ih ) f / sc“ fuge 0 so) ae? j mortgagor a hd g ot ¥ v 8000 us bank cb” 5 cs a tous eg isb 7 jz 0 scb_/ u - aa 200 grantee (\\ 4 \\ aetans. pp o€ ko i deeds_ mees grantor i affts uz a ne sas nl cl _f mortgagor _ouw re fees bg, down__ve caf ts * | toa eee w 2} daed 000 (a 2 typed py eaactfonm ed by \n",
      "36\n",
      "1018.jpeg\n",
      "2 note unde * 9 nde sum mone compleat ris resist sammons ( 3000 \n",
      "41\n",
      "1019.jpeg\n",
      "4 8 mon oe t e insu an e co po a on orde nforma n fo m  foe # 648 oa da e ree ed 2 22 999 oo de typ res abs a reda e stub da e due 2 0 9399 p ss da e c mp e ed re e ed by 8 schwe tzer cha ge t forsyth owe o dwyer & kalb p aon kr st n morone  © kr stin morone add ss 600 m dtown tower  rochester ny 4604  6 25 55 p abs co p oo abs # las reda e abs a # cs e refe en e code pa es o ed  sse ou ly dav dm  0 he tous ly sarah j pope y s ee 09 bennett ave c y syracuse town tax # t wnsh p ranges 0 lo abs a da e cha ge am $ po 22 999 \n",
      "32\n",
      "1020.jpeg\n"
     ]
    },
    {
     "name": "stdout",
     "output_type": "stream",
     "text": [
      "- 9 us bank na ona as oca on fk/al s ba k pendens na ona as oca on astru eeu de he poo ng sup eme court and serv ng ag eemen daed ju e9 997 fo onondaga cou y c y ape home fqu y loan trus 997 c da ed february 2000 index no 2000 25 re february 24 2000 saah tou ey da dm tou e con ne a a2 0pm c d pan n ofgeogeow johndoe ad fo y howe o dwye kab & mu ph anebengf ou beng e e o of e ay a ff ode gaeayada o upa of enede bednh ain bokofl pede 0 ag & totoe e oo gage ow an de po te amepene de bed nno cv lact ons index recep summons conplan {£ pende s f ed february 24 2000 amf of se ce(3) da dtou ey da dtou eye euo e aeofsaahtousey con ne a ced panin geo geownfed ma 9 2000 rjifed augu 29 2000 \n",
      "50\n",
      "1021.jpeg\n",
      "0 names certified against saahj tou ey da dm tousey fonde enbe 6 999 okeb uary 24 2000 \n",
      "45\n",
      "1022.jpeg\n",
      "monrol liell inst rancl cori ora lion abstracy certificat! monrof title insurance corioration nwy kc p ao. og od d pad certifies and guarantfes @eue eodowe a nee no pe e upo hepeme de beda se ou no 1 dep d cet f a sb pene and he su eo n e oda i a sea hed }) eab a of udy fo 299 coeo bd @ deed fedea taxlen oyea f a gsae e up os yea udg e 0 yeas leaes me ha len ea mog ud glloanco n o no e of ende yse ff ce fae os e su bod andwefae en d mana ed he co cc k of d 2 s$ ge de na qd s ogae co w sue pe e oaed ga nane of epat ppea ab a ow ° ba ee he s b pene beng e ane d todu ¢ e dpe od o we fonad ud g daedee be 16,1999 de ce f 2 boaoeaedea ha d www 3 s reg nd d ecounycek o eo ¢ w esbe pe e agans he a map a e nunbe ° okad nunbe o es b pene 3 i found e nae e o ab as ou daea forth ee and ce n ede p a. oaft e su peme oaypa eeo 4 th ea hdoe no e fo n de e no eo pede | encunb anes eodedo fedpo oo d g epe dof ea w aneao d hageo a fa o a ebee dedo f ed | ifany o enano e o e e do ppe ea oae po onof hef d aka hou a 42usc § 60 e eq aa dd | e fort een oe ee fop ad e ep b 6 the guaa unde ce ae aod d e 7 tm ab a ertf ae adeb ae p a o edod bu esaeofnew yok w onpa aoa auo o eeef ba made byanab a  onpany w na ae dno uaeo a ofa eas $ 000 600 00 8 th ce f ae ne un n ded aa o oo d cc b a oaonneffe a of edaeof ef in witness whereof of mo oe t e ua ecopoao a aued c fae b gnedby au ho zed off e 24tl da o feb ay 2000 2150 lock pm. monroe litle insurancl corporation a o edoff e ode no 264810 ab a edby m maue m \n",
      "27\n",
      "1023.jpeg\n",
      "new document to follow \n",
      "100\n",
      "1024.jpeg\n",
      "ney se ding rop r ¥ ally lieb hack bee aun bd o de ee oe 2 s bey —_ e en on d re nn bring down oo ® 6s ~ os 2 re ke #65897 “) bd et reo no hk ee herbert frtzon sie aor lu fbo b i5opl faqs hw —— lb set 1195 be sept tacos)? capra t. whalen may ppe de. soph d005. teen af ed nine ae ~gea___/ _42in te ms d0l1tf te kt 3.005 sua chil for dite ostake _ ea}e — devcks and su rogates on by ie ~~ gee fp eo fa se ot ~ ee te a a a ec ay sf sf ts a — — i es ra [a = se 1 js ee d sept ),2005- > ae se \n",
      "36\n",
      "1025.jpeg\n",
      "erugram mo bve cnondaga loun  l_er dre v9 au mae moo ama ae dae b owse ™ 446 & np at ida e d nsp book fl descr p on h herber v4 682 bss € 79 asged 4b  ndbergh r zen erb r seat | [28] 1 er be bt rh r zen herber ae 9m ee4 gedde £4 8 l nubl r zun era o 498 a @ uo r & b evd r zen rene “ of of aa wee sr be evue ft zcn rc w 490 8704 suave sr af bl wef r ln ames © @ 492 ww we oa kr & le ever fe en gh 4 ba su 3 © ar ng de ren ohn h ® ba 9 e89 8 r 6 on be i 4 hn @ 6 a &u 7 oa dae & r zk john @ 686 669228 68 a fh dae sec zen on 868 84 0 444 9sr a ngo de fr on @ 92 @ 8 b wee sr & levee ce og 9 479 6 &@ i at a cdf d ran uk 40k galor b nder 2 gra ok mu lag e soh uo row r fore orward ba ward c ebk me u ds a ab oa bob ly ar n & r olram sjezeve ong daga con c ers dal a a & bme ubb cn nuur mit, jude en aba os ndex 99 waa ri zn jo nd & 8s a re ons b-\\_erson o ndu ra nsua ont cur ave raruse on udbme for ae ax comme 6 on wo re ax harr d scharge da e rok racy or lou) ax warran erfec ae 9 1 £9 ba_am f ed xv ms @ ep aaage ¢ 6 8a co ube am & 6 4 bo du 3x com & oner mar s r r name = ro}ven 5 nd & dex 99 8 \n",
      "27\n",
      "1026.jpeg\n",
      "oon gbw bo ond u bu ers a wo ww gasrz ubl & gu r t 4& ulu hn nd x wor n uh nu & a re n l ro g n pu rh ua on c us $ & a ubghe or s ak ax comm u wo ore ax warr n bb cha £& dae lf db sr usk or our a war db a 8&8 9 & ag am f eld 99 m 6 om damages $ 6 be lu ud 3 € & a depu x comm os o cr mar name r en an v dex 9 a & rol gasva 0 unlag ou cc er a 4 wo kw a cuan ud me uk \" 4 cr) udgmen a hon v 96 a r & uh db @ db h b h u & ur aes raue uvgm n ur g noa r g r 3 b v yuo b ver ug w £ ax wh ra d rge doe & e on nd 6h ur bu acu & € ed 9 a5 ar kp @ 996 fe da aged s$ db & c $ & dg ay 8 4 og £0 &€ ko eo 4 ak 8 alu & re a rx r r u nome r & oa nd & 4b ndex 9°48 \n",
      "27\n",
      "1027.jpeg\n",
      "monrot title insurance corporation 333 east onondaga stroict syracusd ncw york 13202 guarantled tax scarchu nec abst no owe no in eeeeeeree monroe t tle nsurance co2pora on a d pod dw usen yk 4 abn d atin pd by rt dg a dw nn no ape npat pm dé bedb wad a coun y axls  axsal § 8 es ¢ ddot é h auwp ab ex w eee d_scriplion of lax or assessmln amount date paid ~ 2oof _counry taxrs $_ §687l las os eee informational | uriosls only, assessed o herbert a [otzen ax accoun no ol8-02 of.o s ree address 120 curtis aus own oc ddas p o erfy descript on andbergh aown ad 3 atay schoo ds ric 3/ 32038 s taluay sc hoo 2 st 2 and value / 2 500 ull assfssed value $ 67,600 axab be assessed value $ g 2, 600 p ope yc ass ald. sle (comes o ycal #008 eee nospaich ncluded © local assessmen s wa ando skw c4aiges vil agzo schoo axls pursuant to new york realpropcrt ax awsec ons 0 an 50 hereales ae ax iab y may be at ecied upon transfero ot e lt he u&mseshaveapa ialo ul exem! on ere dated mon oe £ nsurance orpora on bo au doi \n",
      "41\n",
      "1028.jpeg\n",
      "monroe title insurance corporation 3 3fa onondaga s ee syaue ny 3202 guaranteed tax search abstract no 24 order no 24 monrof t tle insurance corporat on a orpoa onduy n orpoaedunde he aw of he saeofnew yok fo a auabe on dea ono pad heeby ertfe andguaanee o he ead ownesofannee noape f enagan he eae aede bedbeow ha heeaeno county axeso taxsalfs nowa enagans he ea e aedesc bedon he ax 0 eferred o he en now payabe ex ep a fo ow i ee information purposes only. assessfd o herbert fritzen ax account no 080 o90 s ree address o curt s avenue munc pa y gedd $ proper y descript on 0 b ock ndbergh awns school d str ct 02 so vayschoo d- rct2 proper yc ass gosng efam yres ro far 00 land as essedva_ e $ 00 00 o a assessed va $6 60000 axab e assessed value $6 60000 description of tax or assessment. 2005 c unty ta e $868 2 pad eee nosearc ncluded for c v  ageorschoo taxesorany oca assessmen s. h s search does no cover any app cab ecoun yorc y wa er purf wa er or sewer charges p rsuant onew york rea proper ytax awsec ons 0 and 0 therea es a etax ab y may be affec ed upon ransferoft le f the prem seshaveapar alorf | exempt on ce monrof le insurance corporat on es da d sep mbe 200 by lrusde moors auh edofe od n mb 4 peg \n",
      "32\n",
      "1029.jpeg\n",
      "4 1 warranty deed he nm ff k 42 audub np kwa s a nwy k 224 to hebrth fo oen 20cut aon sy u nwyy k n umn dae 425 980 a know dg dda 425 980 r odda 428 980 t me am noun n loa on lhbe 2 93 of deed page 38 con d aon $ 00 tt samp $2 50 coney a ha a o pa e of and uae n he townofgedde county of onondaga and s ae of new yo k known and de gnaeda lo numbe tweny fou 24 nbok numbe three 3 of l ndbe gh lawn a odng oamapof adl ndbe gh lawns made bysn g mm ce daedmay 6 929 andf ed n he onondaga county c e ks off e on may 20 929 map numbe 2248 2 mortgage brt f a to staewd f ndnagc mp n pobx 90c ft npak ny 206 na oumen da 23 992 a know dg dda 23 992 r odda 28 992 tn 956am no oumn oaon lbe 6645 of mortgage page2 6& amoun $48 392 00 coe the amepem e de bed nno i \n",
      "36\n",
      "1030.jpeg\n",
      "last will and testament herbert l fraitzen es dng at 20 cu t s avenue sy acuse new yo k 3209 be ng of sound m nd and memo y do he eby make pub sh and de ae ths to be my last will and testament hereby e ok ng a fo me w s and cod she eo made by ne first dad rect that a y awfu debs fune a expenses and the expenses n conne on w h the adm n strat on of my estate ne ud ng transfer taxes £ any be pa d as soon aftex my death as may be done w th due egard to the favorab e qu be ongof my e ate sx cd = se s 2 second sy rf a zo ~ o he eby spec f ca y bequeath a 1 my mar ne corps me@&ts aga memorab ato my son john l fritzen to be hs absditite ju n add t on he eby spec f a y dev se to my son john l fr tzen and my daugh e carr e j whalen my house and and oo ated at 20 cuts a enue sy acuse new yo k 13209 to be the rs abso ute y sha e and sha ea ke per ap ta and hrese eal fe n erest n sad house and and to my w fe gail e fritzen so ong as and on ond t on that she es de n sad house and pay any and all expenses cu ed ho oudng but not mted o mo tgage paymen s axes ma ntenance and nsu ance “y third se al the rest es due and rema nder of my estate of whatsoe er k nd and natu e whe escever he same may be s tuated of wh h i may de se ze o possess d © ove wh hi may hae he powe £ appo ntmen to wh h may be ent t ed at he t me of my dea h g e de se and bequea h to my w fe gaal e fr tzen my son john l fratzen and my daughte carr e j whalen to be he rs abso ute y share and sha ea ke pe ap a and no per st rpes \n",
      "27\n",
      "1031.jpeg\n"
     ]
    },
    {
     "name": "stdout",
     "output_type": "stream",
     "text": [
      "fourth he eby nm nate onst tute and appo nt my sn john l fritzen as ecxecuto of th s my last w1l and testament in the een my son ohn l f tzen sha p edecease me o he sha otherw se be unab e to a t as such executor then and ne ther of these e ents i hereby nom nate ons ue and appo nt my daughte carrie j whalen as su cesso exe utr x or th s my last will and testament and id et that my executo s sha no be equ red to fu n sh any bond o other secur ty n any usd on or the fa hfu pe forman e of the r du es and | a s as suh fifth anos he eby dec ae hat sha 1 be a equ remen under th s my last will and testament that any person or persons tak ng hereunder sha surv ve me for a pe od of a eas th ty 30 days if such person o persons be ng named as dev sees or ega ees under h s my last will and testament shall not surv ve me for a pe odof th ty 30 days they sha be cons dered as hav ng prede eased me and my p operty sha 1 pass aco dng y in witness whereof ha e he euntp subs bed my name and aff xed my seal hs 26 day of o av 99 qy abet? fjen ls fe whose names a e here o subscr bed do certify that on he g day of madea 99 herbert l fr tzen he testator abo e named subs bed h s name to th s nst umen and nour presen e and hea ng de a ed th s to be h s last wall and testament and requested ea h of us os gn our names the eof as w tnesses o the execut on thereof wh ch we he eby do n the p esence of the testa o and of ea h o her on the day of the date ef sa d wall and wrote oppos te our names our espe t e pla es of es dence trac fades os dng at 79 az smnrcase tp a 2 g lad po \n",
      "41\n",
      "1032.jpeg\n",
      "chasse yates vee dng oc op mtobare (hae. wpuatinns mp. 1329 af \n",
      "41\n",
      "1033.jpeg\n",
      "affidavit of witnesses state of new york county of onondaga ss on th s ap day of ail pbead 99 pe sona y appea ed befo ec me a noay pb n and fo the county of onondaga and the te of new yo k vp hap 4 lidard and walas and ho be ng’se e a y du y worn he espe e ahs depose and say tha hey w nessed he exe u on f he atta hed last will and testament of herbert l dy fr tzen he wth n tes ao n ne get day letohe ) ds 99 t at sa d testa o n the p esen e subs bed sa d will a he end the eof and at the me of mak ng such subsc pt on dec a ed the ns rumen so subsc bed by sa d testator to be sa d fes ato s last will and testament hey a the reques of sa d testa o and n sad tes a or s s ght and p esence and n the s gh and p esence of ea h o he hereupon w nessed he exe ut on of sa ad will that he tes ao appea ed to them of fu age and of sound m nd and mem y and was na espe ts ompetent to make a w ll and was n unde any es anh tha hey ae mak ng hs aff da t at the eques £sadttes ao se e al y subs bed and sw rn ool cet hs 32 day of ie 39 o 3 an emb 26 999 en 99 220 wf [97 \n",
      "50\n",
      "1034.jpeg\n",
      "4 pe ono pobaen ee a h obertl f d aed e edb o no embe 999 ow de hofhebrtf no ma 2 999 a ng w og owngd b e ga nwe 20cnt ae s enwy k 2 | f on 26cutt aen s a enwyok ca wai da gh 69 n rt ca c roehghway hena do fo dao fu age d oundm d le e te ame ary d ono 2 an ry 000 f eno 99 2204 | \n",
      "41\n",
      "1035.jpeg\n",
      "5 tax warrant sa ta c mm a vs hal fo en nd &aaepnbepe n cny nds anu on 26curt ae syaue ny pf dda 9 8 995 reoda 9 9 995 tme 2 6pm n umn loa on ca e# 995t06683 cu tax warr sya e amoun $ 3 624 80 att deputy tax comm one 6 judgment pop nan p  ngc 6800dl exp rd l sp ny vs hnl foon ad &dbacn nyind a nu 26cut ae s au ny pf dda 92 995 r od ae 5 6 996 tm 2 7pm n umn loa on ca e# 996703532 cou ctyc ut s$ e onondaga c uny amoun $278 4 a y romeo & romeo atty 3 4f faye es syaue ny \n",
      "36\n",
      "1036.jpeg\n",
      "7 judgment certification  he bertl fen  fom sepembe 7 995 osepembe 2005 carre j wha en john fo zen nd & ex  fom sep embe 7 995 osepembe 7 2005 note ga e f zen fom may 20 999 osepembe 7 2005 sear hedfo lfee ae nd ed and surrogae ony  end of page \n",
      "41\n",
      "1037.jpeg\n",
      "abstract certificate monroe e insurance corpora on a new yo k corpo a on fo good on dea onpad cer fesandguaran fo he urren € odowne s ofan nees no pe fc enupon he pemsesde beda se ousl mmedaeypeedng h certf ae he sube pem ec and h ueo nnee of eodha tha ea hed he fedea udgmen 20yea coc o bond 3yea deed tedea taxlen oyea fnan ngsaemen up osyea judgmen oyea eae me han len yea mortgage n udngloancommssone no_ es of penden y she ff certf aesofsae s ey bond and wefaelen nd e mananed n he couny cek off eand he surrogae nd e mananed n he surrogae court fo he ounty n whch he sube pem e oaed agan henamesof he parte appea ng n he ab a a ownngo ha ngannee n hesube pemse du ng he ce odpe od ofsuh owne hpfomand n udng hedae4 241980 0 hedaeofh certfcae tha ea hed heina e¢hazadou wa edspoa s ereg ry index mananed n he county c ek off efo hecouny nwhich hesube pem e o aedagan he ax map pare numb o he e on bo kand o numbe of hesube pem es i found hema ee forth n he ab a a se out 1 h ough? admae are orte y ¢ forth heen and hee nohngmoe n hoe nd eswhchappea oaffe he sube pem es o any part he eof th eachdoe no se forth mortgage udgmens en no es of pendencyo en umb ane eodedo fedp o oo du ng hepenodof h ea hfo wh h ane aon d ha ge o a fa on ha eben e odedo f ed fany o enano e on efeen edo appearng nh sea h oae anypo  onof he fedea fa hou nga 42usc §360 e eq a amended e forhheeno yon he nees o ompeeanda uae eportng 6 th ab a ertf ae madebya e nuance ompany au ho zed odobu nes nh saeofnew yok wh h ompanymanan auory os eerve fo ab ao made by anab tra ompanywh hmanan erro andom on nuane o eageofa ea $ 000 000 00 th certf aemee mnmum e ommended andad of he onondaga coun y ba a o aon neffe a of hedaeofh enf ae 8 and ha uponexamna onfo enyea a pa of he judgmen ind es n he counycek of e he eaenojudgmen o tans p of judgmen o new yo ksaetax warman s docke ed n he countyc ek off e agan henamed pe onsa set out7 fo he pe od oppo eh espe ename cx ep as shown in witness wherfof mon oe t ¢ nu an ecorpoa onhas aused h cert fcae obes gned by auho zed off e h 7h day of sep embe_,2005 at 8 00 0 clock am monroe tf insurance orpora on by —thtassebl losys auho ed off e o de numbe cert f ae numbe \n",
      "45\n",
      "1038.jpeg\n",
      "monroe title insurance corporation privacy policy notice o 0101 purpose of this notice t evof hegammleahb eya glba genea ypohb anyfnan al ns u ond ec y o hough aff ae from ha ngnonpub pe ona nforma on abou youw hanonaff aed h dparyunes he n uonpo de youw hano ceof sp aypo esandpa ces h a hetype of nforma on ha 0 e abou youand hecaego e ofpe son o en e€ o whom maybed oed n omp anewh he glba, weaepo dngyouw hh do umen wh hno fe youof hep aypo e andpa esofmonoet e nuane co po a on w may o € nonpub pe ona noma onabou youfom he fo ow ng ou e informa onwe ee efomyou uha onapp a onso ohe form andou web e informa on abou you ana on wesecuefomou fe o fomou aff aeso ohe informa onwe ee efoma on ume eport ng agen y informa on ha we ee cfomohe no ed nyou ana on, uha the eae ae agen o ende une s pe f ay aedoherw e nanamendedp aypo yno ce,noadd ona nonpub pe ona nforma onw be o e edabou you wemayd o eany of heabo e nforma on ha weco e abou ou u omeso forme uomes oou aff ae o ononaff aedth dpartesa perm tted by awfo a a ety of purpo on udng toa uo npo dng erv eanda oun manenane tohepu de gnand mpo ep odu too fe podu and erv ha may beof nee oyou wea omayd och nforma onabou ou cu ome o forme usome o he fo ow ng ype ofnonaff aed ompanes ha pe formmake ng erv e onou behafo w h whom we ha on make ng ag eemen fnan a ervcepo des uha ompanesengaged nbankng onsume finan e eu e and nuane non fnan a ompane uha en ope tuffe andohe fuf men erv epo de to h dparty erv epo de ha pe fomserv ce fou n hepoce ngo erv ngof you ansa on wedono dsc osk any nonpub cpersonalin ormat on abo you with anyone for any purpos hat h snotspecf a yp rm edbylaw we e @ € ononpub pe ona nforma on abou you o ho eemp oyee who need o know ha nforma on node opo depodu so erv es oyou wemananphy a ee on andpo edura afeguard ha comp yw h fede al egua ons o guard you nonpub pe ona norma on hsnot e sadd ona pro dedon beha fofthe o owng ompan es nwh ch monroe t e nsurance orpora on s con ro ng n eres monroe a eg n e agency n monroe gene eecoun r £ genc monroe gorman e agen c monroe m d son e agen c monroe ompkins wa kinst  e agen cand w om ng abstrac © d¥ of monroe tf e nsurance corporat on 0 \n",
      "36\n",
      "1039.jpeg\n",
      "new document to follow \n",
      "100\n",
      "1040.jpeg\n"
     ]
    },
    {
     "name": "stdout",
     "output_type": "stream",
     "text": [
      "new yt ox r. prop ar 2 sy m4 2 lin 3\" ® pals ’ 5 do aauwns & g ms bdto  jde p __ ° loum on on m gg — 5 oo e d dd bun do n sa wn ss cos . _ hobd — —_ ro 2 ee ee cx yt 08 z 2d) - _ __ hirhort lb lp z fz ap ha fislteg —_ _. ma det le, aus to eat > eas salle sees canace yl —_ a (eho lb hebyen ag kaa en a 2 so al yd re) ms spa. _ _. tf j ce )) ip le ba of _ ss (213 eee oe — za ses wisse a = a | ob a eee a eg fe yf é eg me sl mant us#y _ foe rt yl ms ae (fon - \n",
      "41\n",
      "1041.jpeg\n",
      "index “ky summons coen leant lis poe lod 9 oot \n",
      "41\n",
      "1042.jpeg\n",
      "8 lis pendens m&tm rigag cop a on su o by me ge saewdefundngcop an one foun an paza 6hf bu fa ny 4203 vs ohn} fo na ex o thef a h_ berth f noaef nnewy ksae dprtmen flaxa o andfnane p peo t sa fnwy k pon a pan ng ctr un edsae o am aa _ ng ho gh he rs ohnde sadnam b nagf u bo ng hen non pan f ode gnaeany and a upan pm f dhe n he en and any part poa non ce fany a ng amngann e@ o en up n hem rtgagedpem e in umn da 9 42005 r oddae 9 5 2005 tme 224pm n trum n io a on ca e# 2005 5092 cou sup emec rt on ndaga county seen baum pc to fo e ose the mortgage shown a no 2 de pon the amepem esde bed nno civ f actions) ndex recep summon compan ls penden f edsepembe 5 2005 \n",
      "45\n",
      "1043.jpeg\n",
      "9 judgment certification he bertl f zen ga ef en carre j wha en ohn yf zen ind & kx fom sep embe 6 2005 osepembe 5 2005 end of page \n",
      "41\n",
      "1044.jpeg\n",
      "abstract certificate monroe e insurance corporat on a new yo k corpo a on fo goodcon dea onpad cert f sand guarantees o he urren ecodowne s ofan nees no spe fc enupon the prem sesdes bed atse out1 mmedaeypeedngh crf ae he sube pem ad e ue o nnees of eod ha i ha ear hed hefedea udgmen 20yea cole o bond 3year deeds bede a taxlen oyeas fnancngsaemen up osyeas judgmens oyears lea es me han len yea mortgages n udngloancomm sone no_ esof penden y she ff certf aesofsae suey bond and wefaelen nd esmananed n he couny cek off eand he surrogae nd e mananed n he surrogaes court fo he ouny n wh h hesube pemses so aed agan hename of he partesappea ng n he ab a ao mnngo ha ngannee nhesube pem ec du ng he ecodpe od of uh owne hp omand n udng he dae9 62008 o hedaeo h certf ae i has ea hed heinac ehazadous wased poa s ereg ry index mananed n he county c ek off efo he county nwhch he subec pem e s 0 aedagan he ax mappa elnumbe o he ec on bockand o numbe of he sube p em se found he matte e forth n he ab ac a se ous8 hrough9 sadmatte aecore y forth heen and hee nohngmoe n hoe nd e wh happear oaffe hesube pem e o any part he eof tk ea hdoe no e forthmortgages udgmens en no e of penden yo en umb ane eodedo fedp o oo du ng hepe odof h search fo whch ane aon d_ hage o a fa on ha e been eco dedo f ed ifany o enan o etre on efeen edo appea ngn hi sea h oae anypo  onof e federa fa hou ngac 42usc §360 e eq asamended e forthheen oey n he nee o ompeeanda uae eportng 6 th ab a certf ae smadebya e nuane omparyauho zed odo busnes n he saeofnew yok wh h ompanymanan sauory os eervesfo ab a o made by anab a ompanywh hmanan erro andom on nuan oe age ofa ea $ 000 000 00 ths cert f aemeésmnmum ecommended andards of he onondaga coun y ba a o aon neffe a of hedaeof hscertf ae 8 and tla upon exam na onfo en years a pas of he judgmen ind e nthe countycek off e he eaenojudgmenso tan p ofjudgmen 0 new yoksaetax warran do keed n county ks off e agans henamed pe onsa se out9fo he pe od e oppo e he epe ename ex ep a hown in witness whereof mon oe t ein u ance corpo a onha aw ed ths cert feae o be gn d by auho edoff ¢ h 15h day of sep ember, 2005 at 1225 0 clock pm monroe e insurance corporat on »  kenade korn. auho zed off e o de numbe c cert f'ca e numbe 4c \n",
      "50\n",
      "1045.jpeg\n",
      "new document to follow \n",
      "100\n",
      "1046.jpeg\n",
      "monroe tt e nsurance corporat on order info ma on form f e # 319319 a date rece ved 0 30 2006 ode type res cc os ng reda e cr dae due 11 08 2006 proor ty da e comple ed rece ed by 232 pascarella charge to mackay caswell & callahan pc a tn peg salvatore address suite 203 03 e water street syracuse ny 3202 4 2 520 pr or abs co talon group pr or abs # las redate 6 abs ract # l 3 33 blk 3 lindbergh lawns customer reference code pa es no ed scann buyer malcott leslie se er denny john p prope ty s reet 325 long branch road c y town geddes tax # t act l ndbergh lawns townsh p 0 ranges 0 bock 3 lo 3 notes read letters abstrac or date charge amt $ p 01 0 30 2006 \n",
      "36\n",
      "1047.jpeg\n",
      "ne a! r ord = roper 7 33, bir3, lindbergh . a: 4 2 bee casall gahan oin d b ed a 2d ° e son 2a 50 d __ —__ _ 4 00 bring don —~ bee 20 5 “= @ybo r os ng ns b& _ oobd ro bo re or wt —_ lts sd check ee ha ks h den i 8 zebn ee ee ee mark 4 denny —dooe_ tn df 2b, 2000 al jee frome. brea coton ee laole moleatt |) “oct 24 poe fo det 2) joos a tae melani oof ae och b deib sy ma > m4 a a4] 02_. nh ee a ee eng —f- pw es _l£ \\we en - mw» _ (0 a a alent a. fd _ eb a mw a ao bo- ee yet ns ya bl a dal 06 _— 8b ae _ a — _. — = ee _ le _z foo 8 ob 7 — crt &b#eq ‘ mie — @ oe | 0 ta & 2004 _ a2 lc bd _ \n",
      "36\n",
      "1048.jpeg\n",
      "\n",
      "1049.jpeg\n",
      "mackay. caswell & callahan, p c a orneysa law mc 20 oc au d dg ok w 8 cc s aw n y¥ 0 l p 4 50 mi co f 54 00 oc obe 30 2006  to monroe title [nsurance from dane p ca ahan date o obe 30 2006 re mao le e en o ed plea ef'nd he fo ow ng __x ab a fo bnngdown  x mortgage _ x rea p operty t an fe report _x comb ned rea e aet an fer tax retum c ed l ne mortgage cert f ae and  cert fi a onof exemp on from he paymen of es maed pe sona ncome tax  _x execuo sdeed 1 eaffda __x che k no 35903 $ 14775 epe en ng e o dngs  x che k no 35909 $80 00 ep ¢ en ng bringdown  x check no 359 3$3 50 ep esen ng ¢ o dng date received \n",
      "23\n",
      "1050.jpeg\n",
      "mangano lucches! 8 collins attorneys at aw ro com ng no oo o eph he r mrnc o n 9 ro r r ew ork o6 date lo, l 3e/0¢ ls nw to morihoe / create re ___ mitor oe title no enclosed ef abst ac “mortgage be af orton sea ch bees ecg aff davt survey g ds hage o affiday (do not eco d ma ked po cy ass gnment q othe — echeck nthe amount of $ t (47 75 fo reco dng fees o check n he amoun of $ g 76 fo t epemum othe k nthe amount of $. ¥ q fo fna cont nuaton o check n the amount of fo er pease at 7/0 s/ and mlc at 47189065 when papets ae e o ded o pease etanabstato you efe afte eod ng send abs act to tea sc casa tloxk | o fax eodng nfo o at env onmen a lne cove age mus be ncuded nfna po cy wave of abt aton endo sement sno equ ed pease see atta hment totte eport fo correct wo dng fo fna po cy rm rec ong do \n",
      "27\n",
      "1051.jpeg\n",
      "tt eaff dav t  saeo new yok cou yo oo daga_ss ss  ohn p denny be gduyswo deposes and says  tha he s hee ec o o heesaeo cha esh denny ow e o pemsesk ownas  325 ong branch road sya se new yok 3209 andasoknownas 083 and330 bo k3 © ndbegh awns towno geddes ca nyo o ondagaandsaeo new yok whch p em ses we econ eyed osad cha es h denny by wa a tydeed omw odh paso s andp s apasonsdaed une 983.a d e oded n onondaga coun ceksoif en book 30240 deedsa page 020 y2 983 anddeponen makes hsaffda o eso e a e ssueon he pendng on eyan eo sadpemses knowng ha he buye any mortgage ende adany ensuanecompany he espe ehers su essosando assgns w  ey po he epesena ons o a edhee 2 tha deponen esdesa 5be ngcourt epoo newyok 3090 and sno he same pe son as he ohn denny agans whom hesaetaxcommsson edacch d support ta wa a he amo no $94000 nabanycou yo may 998 a ansc p o wh hwas  ed n heo ondagaco nyceksoffceonmay 9 998 nde nde numbe 998t05 92 a ddepo en hasne e esdeda no opeaedabusnessa 209r hfed boue ad mattydae new yo k  7d ohn p denny 7 sworn obeoeme hs 30h dayo ocobe 2006 | ea ary pub c j thomas bassett n ayp bd saeonwyok qa ed o co no 0 3209360 myc mm o exp esq72 43,10  {hose 896 \n",
      "14\n",
      "1052.jpeg\n",
      "3 & df ar ob po 36 a 3 & bd de r66 3 6&6 624) mb 9b& 54 on ndaga on c mon gomer s racuse n ae p h ne 3 e rfof fo # 5 93 dae 3 6 cp o ad “ df nbx str not rop 36 af c ? descr fo dn amodu 3 la 4 oa 3 ndx ns ro of 3 é neeme denn har e h e— & cdh £& rf on ar un & re 2 af re den a ransfer 3 record dced rk oa ndx shono 6 gfp 6 na ed “oo o e e dh de or on amqoun 2 ba mg a 33 3° mg fe dd a 638 add x 3 eor 42 24 rm p ca oa ap re e oa 7 c $ 4 2 na pof \n",
      "32\n",
      "1053.jpeg\n",
      "= fos. ™ a \n",
      "32\n",
      "1054.jpeg\n",
      "abstract delivery receipt monroe t tle insurance corporation syracuse office 333 e onondaga st syracuse ny 3202 messenger instruct on sheet date 11 2 2006 : search numbe l 3 33 blk 3 lindbergh lawns , del ver to mackay caswell & callahan pc attent on peg salvatore 103 e water street suite 203 syracuse ny 3202 472 520 order n mbe 3193 9 part es malcott leslie denny john p p operty guar tax map no street 325 long branch road c ty town geddes trac lindbergh lawns block 3 lot 31 | commen s return to cath na please return to abstract department <— \\ rece ved by date \\ | ho) messenger 22 2006 2 0 \n",
      "36\n",
      "1055.jpeg\n"
     ]
    },
    {
     "name": "stdout",
     "output_type": "stream",
     "text": [
      ". new document to follow \n",
      "100\n",
      "1056.jpeg\n",
      "\\ bs uv by * monroe t tle insurance corporat on qo de informa on form e # 318099 a date rece ved 08 29 2006 de type res fu sea ch ft date due 909 8 2006 y or ty date comp eted rece ved by 232 pascarella charge to mcdermott & britt pc a tn patrick britt address suite 300 4 c 03 e water street oa syracuse ny 13202 ns | 4 8113 gc g &  po abs co \\ vv 4 pro abs # las redate 0 abstract # i 29 block 3 lindbergh lawns customer reference code part es nvo ved se ler rogala sharon a property street 323 longbranch road c y town geddes tax # trac lindbergh lawns townsh p 0 ranges 0 bock 3 lot 29 no es make new order tax search see memo due 2 3 weeks abs ac or vv ete date charge amt $ plo1 08 29 2006 gd \n",
      "36\n",
      "1057.jpeg\n",
      "y/ * (54s)  co st © 0 lay b ka badd oh  nh le a  bor ot ° po be 4  $0 oe 5 mc de mett doerr e gr tf  _ lc sjaq_ d gegoks  br gdo n 5 qt a. — oo g — ak, 323 ye ref  8 oe —__  no bd nude -y beh “tm o ® ©o% 2 co rf o tt ne — tt fo al ev a _. 22y¥ ~ show a rgale __  oo s58) rad a a a a oo 3 ==— - ct _ —_ oo nee as ° a o& so — a ts so ep dleyte, dove nn nn \n",
      "36\n",
      "1058.jpeg\n",
      "a oe \n",
      "1059.jpeg\n",
      "fn page of 1 : property add 323 long branch rd taxno 018 -02 220 w geddes y onond ga ass 0 deed l be 3955 deed page 89 ded pe s dte 9998 s pee $0.00 ea b 98 s bd lindbergh lawns b 3 348 3 owner rogala sharon a m g add ong bran hrd s ra ue n 09 00 $s dst ct 33 so a & mp co ty $ 6 mpa ty 300 ta asm $68.00 0 la désm $ 500.00 te 00 s 005000 0 000 http ap sy acusemonoe lecom mtws ealasp stee name ong&stree number-323 8 29 2006 \n",
      "36\n",
      "1060.jpeg\n",
      "monrol hall insurancl cori orallon 333 las’ onondaga sirlll syracusl nlw york £3202 guaranilld jax slarch eee abst no 3/5 0499 order no sanaa monroe f tle nsu2ancecouo%a on a dou ed j aw  saeone yo a auabecon den ong pad eb rt esadg dw es noap if pn p de bedbe wed e e coun y axls ax sal ry d bd gy ed. oo ein now payabe ex p asfo ow nen eneeeee descrillion of lax or assessmlne amount date paid ao & county taxes $424 67 b he ane informa lional lurlosls only, assessed lo sk a rog ala ax account no ob ox alo s recs add w&ss 2 buel rd own gedo p operty descrip on lef asl edbarl l bl schoold s$ ucr j 4 os* 2 3 pde / land value ¢ bo tull assessed valu so taxable assessed value soe prope ty class as tg hd roll ycar ee ae ya no sea ch ncluded to 2local assessmen 8 wa l ando slwl cjaiges vllageo scfool axls jf lu suan onewyorkrealp opl y ax awselc ons302and52011l lalcs at ax abl y¥ 3 maybcat ecicdupontransie o le = dl umseshavla al ialo ullexlmp on ee datld j j f woe mon oe ll nsuanceccououai on by au dou \n",
      "27\n",
      "1061.jpeg\n",
      "te \n",
      "1062.jpeg\n",
      "| - v 8 (¢ thes) het 2 wl dbs got s_gik oo pep 2 sf “ mo o 2 0 td +} -- fe ks wd 4 % nr ane” a ks te dude se lol ht as pel oy ———__x opie rete digh pa a ls ys a . may do ———— es ss tne ———_- ah 20 se a oe bn aly bp gy ye <a a wg he a ed ne om 96 ps wage yo ee ly ce ee xx yg 21 6 oo er 28 5 be bk ah rm\\ hae + ok nt 8g ae je 6 62 + ja > al d \"3 d ty tee 7 _ ss —— es, cs tt ~ ag ao) —— saf oo eso a en ce - wee ~ a? ts deon oe hy i es fs, “ yee ee fe nner ae pn ey, so —___. bo aut — ae ti oe ate % wee ct — hy, og ae nee (oo $e pa $$, i ene a6 es ~— ee ok tf >= 8 ie ———— rack sg . ° 3 tas (485, we ge gur y's44 wo d — m d ra —_— > lns a ot og bo fom k a> co —~ ct dt ) \n",
      "41\n",
      "1063.jpeg\n",
      "== ss — a so = === , = ne - \n",
      "30\n",
      "1064.jpeg\n",
      "£ meet ay bk hf or a x wr gr www ye roy 4 je 2 3 £0 ne ba bkb c28 ig? ses | d st f= - a — ape pir famed f e5 9 (ye ee, d ty niece say aks kt ap oe en, fe so st ttarr% te ® as 3 on be eo auta kx \\e vf y wo, pa fo ek 72 a i+ wy wey ga x oy s ne hag bk 3 ae we ae a md sy d a gt 4 u& s “ oe pe me aud of 0 wer se he q 7 ce es) e sp se june 4 > he r 4 \n",
      "27\n",
      "1065.jpeg\n",
      "po ae —— —— en a a en ann tt enna etn ene a nt pee i enna tent a eet em ene nn tener ert terenemuntet ttn enter tit ert nett enter erent ed a nent ane ere ie a nn ne oe — i} a c a pt came ni nanan cts tin etn ner itantnenrne boe gen ttt \n",
      "36\n",
      "1066.jpeg\n",
      "| \\  i ee ey  ’ sto ; fmp-k a 13) to bgt 6 =p es ohondeaa 4 —\\ 3 1s¢ & ye 2s ts bo ee a ans yt pret is to ego aa oe ia ho hid {rea & ast od 4 7\"  le m th 4 ffst sit ot ¥ 367 ™ i pod a7 ds danae 19797 _ hd a __  yy er  th a woy kow ko dre 2 1978 to maho ay ti __ ity etm wye k wf pr ge hes mond_f _a gefs tz ] meco 22 ives bgt a ef se yt nam ob ro —_ sh 4 ro os a 2 jdt 4 wate ete _8 a 9) a py rs ee — ee sanu (nn __ et a a 4 et igh ee _€ so dade | 6 2 my myo os f. lore lf ee eee vu / eye zo le eu 4 bd det fo 7 (yd pot \n",
      "36\n",
      "1067.jpeg\n",
      "= ss == 3 - | \n",
      "21\n",
      "1068.jpeg\n",
      "ay oe oa \\ , a \\ e ot ee leroy in ve ne ow we wk = | . 2 wis ~~ fa oe iy a \\ be v res 3 +a aa o we : passes art ve re sie ee \\ & nea oe 5 o ese ce oa sh ce so \\_ destiny so ne ron regs ays 6 \n",
      "36\n",
      "1069.jpeg\n",
      "~ a | ae % 2 14 \\ 18 16 1 58 lf venle — a \\ e oo a6 a br * | ww ° ° \\ eo % * 1 \" — d> ae \"| a2 06 8 on 05 24 pt y 038 s . ; 88 20 ee 2 e0 — pa of | — a . 03 co . aon e\\* \\% © - a ° os \\ % fw ° 04 a * a \\ ppert ae or 02 6) (a) 5 { ) e wo / ‘ 7) 7x) <) < )  ) \n",
      "27\n",
      "1070.jpeg\n",
      "ro ram of onondaga coun ce dae 89  ha no asana hae da browse ne 3 42  c  s nane dad nsk boo g deskh oo y dewr, fro{cl on @3 2 @ 283 88 ged 29k drer h duck ranccs fm @ 36 836 op 68 ged 9%  ndbe gh a dewe , aance 22 8 34 b2688 2 agcd 2 b3 nd kg pews yran belece-t-pl4op-bp889-258-foee dewe aran asieeg 2 22 8200 2 @ on-laa ewe / flan f bb g6g rl 20098 bo 6b dewey fran e 09 064 %eg1 b22 ao 80 dewe/ fran e aa264 223 29 on a dew] geama ne op 6 9898g-8 2 bah man 99 86 sec e dew gordon a3 p a23 ab 29 53 ndbe 6 dwe gorron a 36 8366 @2368 & ged k3. debergh de a ao 2e 94 @7 6b 2gged 29 8 d orgh dewk gorya apsae 43e8 4804625 k 68 © andre ho d gordon ok a £86 4 brest “pb eyiebed be bom  dp p“+gran oo 3 nor gagor a sa ender  2 gran ee 0 gagee 3°sa borrower s es orwarp of = rac ward ar menu ds a a fe & brs res ar ns ror fer  rogran na fave ongmdaga coun c er de 8 @  nf nofesna na e da browse me 03 6 2  c  snake da od ons ar rog) 6g s«odescr sk wore cue gor a 2 9626 3 80.2 6 cfll_le orme oh wo yo¥s goa @ 2ag4 8 392 3 gr sh e o wo c ¥qus i 6 or a 89298 b42 a 66 or e on wo c wows ig or a g22 ees 89 0 sh re ow wo ows ohn oapbsiaw18124 b94 bat bh bir wo c foks t on a9g 6 8493849 gcd 2983 wde g d a wo cf owe = on a 22 82 9 688 2 b ged k  ndee gh wo ch owsy john a 22 83 7 94 g2 22 269ged 983 d herg d wo cf owsk  ohn a 03389 g38 g3 8 3° ged 2 r deerg wo ows 8 8 bae sh sp pt-s-b hed 3 sat thee wo q ows } oh a a 9 usrezb4p02 3 oed _13-heor a se wo q ous 1 chn a 9 9039 28 3 o3.[3e681 9 rk oh ay ew worq ows | own a r 032489 2 -032..7-93\"\"8 224 ged rptaly ew wo q ows gh aor a are 25448—be y 5 str pe  cb dk gkah oo 3° or gagor 8 sa  ende  2 gra e dr gagee 9°98 borrowe  es drward f2 bac ward c ear £u  s ps \\a /abs ra bh obr ores ar ns 4 r  €f r \n",
      "32\n",
      "1071.jpeg\n",
      "rograr no 28ve onondaga cou _er dae 89 2 @6 na no zang, name da e browse ne 3 6 2 c 3 nam dre d srbog g dcscri oo oc gw kn aor b brb bao b4883—bed seb 8 srpfa- yee woo ow cna r @ 269 3 nape i 28 ged _ls-regatta vu ew wo c kowsk / orn a kk @ 929 3 33066 g89 bbs<ged 9 egf av ew wo c onsae ghn a 042899 3 3 ae 3@ ged\"e9 rga ay ew woc ous gna r 038 3.6471 93 a20 ged 9 qv ew woc ouskh ona & agua a41i4 13702 goa ged 113. treats woc gugk \\wa gare 99048 3 848846 ged 29 b3 ndrergh a shared! woe oo arbare 122 8 94 92688 28 ged 29 83 ind e gh wo c oysk argar al ee & 29 @@ 2229 ged 29 nd ten” é wo c ko|sk bargare 032389 03 63 8 2 ccd 29 83 nde rgh woc ofs nargare fm w o kqwsk har ae o32 8932 8 3 etorega a ew uo ws marcare @ 292 3 49634 a6sra-\" og av ew wo oms mar are fm 8 2634-1 ate? gtbay-t-a-ted-lld nerattacotel co op koran de 3 ortgagor 8 sa ender 2koran ge nor gagee 9sa  orrower es ward  @ backward c ear — enu ds aars rac of brs res ar ns 2 ror er rogran ho eave onondaga coun c er dae 99 2 06 ha no 2ane name da e browse me 03 8 46 c 5 nahe dae dins r boo g descr on rora a ra mond a 8 sobel to ft bet e-h9-gi- aye homte rey te koga a ka mond a b72r82o- hoss astio-ote-er abed suonterey eoe rogala a honda rf o6ttietboies grl7a bar clay 1? nom erey parr rogaka ra/mod 832389 o32 g3 8 32 ged 29 #3 nd ergh ~ ko 6 r aynond a 9238939838 284 ged 29 3  ndrergh a wed roga a\\rg mond a @ 0693 3.3.4 06894 263 ged 29 h3 ndr rgh (“gu koga aya hond a 992894 8 63 4395 089 ged 2@ b3  ndrergh~ roca a agh nd ah 22a 3 (849 868 he gd 2583 nd erg fof g yl roga a chard robes esot tr koga ar rha db goaeo 2 8 9 4 sr srorer oo roga a ard @8 986 2 48 os ed 22823 bz wes roga ard aa298 @ 9-94144 0 2 se 3_ue rog ad @22852 3 289 bb 68 ged 2282 e3 roba at hatd gplos~i-ct7 te pig -797-ged aoe berge cd bd g antor 3 rok gagor aa ender ads antef 4 hor gagee 9 sa borrouer foes forward =f bac ward c ear  nenu sfps a\\ as rac br brs res ar ns @ kore fr \n",
      "36\n",
      "1072.jpeg\n"
     ]
    },
    {
     "name": "stdout",
     "output_type": "stream",
     "text": [
      "rogram ho 24ve gno daga coun c er dae 689 @ g6 fia no 28ang name dae b owe ne 3.3 c $3 ka -\\ dac d asr go g descr on koga br sharo 0338926389 @ 8 2ged 29 nd ergh roga i s arow a 832 8 329303 @ pog ged 9 r3 ndrergh @ 4 roga 4 shary a 89693 34 86894 263 ged 29 83 ndrergh of <& oga @ sharon a 092834 2 8 3439 @89 gcd 9 3 ndbergh roga as afon a 89043 393 4848 383 ged 2@ [3 deergh “9p roga a's ron a @ 2204 9 56849 4860 g2 ged 29 8 nd erg a4 i hoga a is b 8998 2386 + tbs syr ontro era ro a a trus 8 6 044 8 a488gq rra ro a avich dere f om @ 8396 g6 49 8 bbe & s60 £ nano roga av ih df oe fl @@39 3 89 #8622 08 c8 sou e manor ro a avech d ee @ g2 3 2028 238 ob a e260 e manok bga avi dcrr oa @ 9 g2 3.29988 2334 872 a & sodre_manor roca ay ch der em 640682 938 63 2yaj e2 ca & due ran roga ay c dcibe @3 @ 3396 fos~484-cla-le- gue ane cp od fe an or 3 mor gagor & sa ender 2-gaan ee 4 nor gagee 9° a bo rower fs @ ward @ hac ward c ear enu sfds a ab ac brs re ar ns or r ecr \n",
      "36\n",
      "1073.jpeg\n",
      "ogram mo paya onondaga coun ce dae 89 2 @ a nofeane name da rowse € 35 c na dae d ns r rook pg de kr on a n egwa @ 36 ee o23 88 gd 9 rs deerg ~~ ho deh eg an @ 6 2 & 83 883 ged 29 3 ndb gh o de nam hl zlb a abss ib se 82 al el ho dfn {on 6 bq id azz bba b bo el hg den ae a o ren {nda k @324g4.? @ 93839 3 8 pon kari osenre o den j nda 632 3 224 46308 oo k  rosenre ho dnl lda 86294 4 9 aon ar rosen e ho de da 866 9 9 3 g7t on a kesenbe ho den{ oren @ 304248 46 32 50 n ho de { oren ee0g) 6 a aies 3 32 sa n ho de | o en d 99 gat 4 bs 3 rk s ho den ore ae g 999,37 86 8976 3 a 89 ni ead ho de orf a 8 bbd e—t—-4 f967 fb fe6- bsf eea of el ee ad d dy gran ok 3 mor gagor & sa ender gran ek mor gagce 9 sa 0 rower es f forward 2 ba ward c ear renu 6 ds a asrac 8 brs esa i ons # r re er rogram mo 26va onond ga coun ¢ ery dae 2g maf moo bha@ nar oda rows me 3 3 c § nane dae d ns reqo g descr 0 ho den\\ chard fet prgsibgss-o77at wit lis lige-tndin-sprtt o den \\a cha d g63683 3 3434 3 4 94 lie nd an ni ho den a cha d 980803 9 68344 —“~3e $b 2 dansea ho den chard 826368 29036-1428 & ans, 2 nd an ns holden rx hard co m1 b84 2 84863 694 ca a hie d ac odn rk ehards ud h ag ho dn r gha 8 36 2 623 88 ged 29 2  nder hy ho den obe 2983.1 eeees ences tes ti tee ecd bur ho den rork = ee ae wean e h de rog) 8 be6a g 923 2 8 sve“ ter 48 6&2 ef ho den u 8 9 268 ebf 0 co 9 mar ho de au @9 44 a3 onda a he ho den u 69309 ri 2048 308 o eoala7 ha hd ou o698_2 11934 94279 182 of trer-hta chr d =d grantor 3 nor gagor & sa ender 2 ga e 40 galee 9 sa borrower es f forward fe ba kward c ear me u s ds a rac r res a i ns r re er \n",
      "41\n",
      "1074.jpeg\n",
      "rory m gu dho » bs ae @ w ma o mu u ruw bk or # b buu b mrk 5 aa wa d wuas ou ea 8 aaa @ wes ah ve 2b yo dear vo» ru un oar uo nuoe & n gkwakd 4 akd x he re a ug r h kr qo sat ro rh be roh & b & mn oop uo brow & kao ou kg he or hi us a a ae aa m4ua 6b wa g rt yd a wee 9 a d& h rge “wus yo ow ae hak war ds a be wan & 8 b bb ee 9 me bo 6 roe ma d wo aa eb b @ an ax behr uve b akru dwn uuoon# & &h now h urw ku kw ord bak ex he oa a be u uv oo#h h oe \n",
      "27\n",
      "1075.jpeg\n",
      "ogr de a nun ar er db db & mh dd wie h m 4 4 go 8 wok 8 ra # u b k uu ale re a a &b d 3 vi ies m 44a ae mm a u“ ve ws 2 a a reed wa aa 4] d ar dy ue 4 uv dd h roe edna m&f db ar a 9 & rod qoea uo ve r row down uo he nu & — h e urwa d f & wak ar be & ar a oo gr h kk u bk not \n",
      "23\n",
      "1076.jpeg\n",
      "| | aaa lnpand ooh tare a ann nn tee 8 an a to ee if he yp — we a ca b se cee ee ir go _ tt aa ge. eee wicep - : t= te ge tit, ts qt ee a 5 oooo a ee eee | \n",
      "41\n",
      "1077.jpeg\n",
      "—_—— pe a a a ee oe rr ar rr rrr mart we a nn ar a nn a —_———— a — — a meee _ — —_— — + be \n",
      "23\n",
      "1078.jpeg\n",
      "cep 2b 84 | weag5seece 089 q st27sep 28 quitclaiy deed $3) this indenture made the 4 day of september 1994 ld between raymond a rogala jr of 1109 sprang street q syracuse ny 13208 3 grantor and a \\ sharon a rogala of 323 lon hl road s 0 syracuse ny 13209 \\ e c (grantés witnesseth that the grantor in ration of one and 00 100 ($100) dollars lawful money of the united stat paid by the grantee does hereby remise release and quitclaim unto the grantee the heirs or succes ors and asstgns_o, grantee forever all that tract or parcel of land situate n the town of e wt (ic ° ay aasoae or new york known and designated as lot number twenty nine (29 in block number three {3 of lindbergh lawns according €6 am p made by s$” n “grimm g ~~ dated “may ze 1929 and filed in the onondaga county clerk s office on may 20 1929 map numb r 2248 subject to easements restrict ons and covenants of record being the same premises conveyed to the grantor by deed gated march 23 1989 and filed in the nondaga county clerk s office on march 23 1989 in book 3518 at page 132 property commonly known as 323 longbranch road syracuse ny 13209 together with all rx ght title and interest if any of the grantor and to any streets and roa s abutting the above escribed premises to the center 1 nes t ereof together w th the appurtenances and al the estate and rights of the grantor in and to said premises qo have and to hold the premises lerein granted unto the grantee the heirs or successors and ass gns of the grantee forever this deed is subject to the trust prov sions of section 13 of the lien law the words grantor and grantee shail be construed to read an the ol ra hene er the sens of th s d od so requires in witness whereof the grantor has duly executed th s deed the day and year first above wr tten in presence of rypocd gf pela s | ray da a state of new york ) | county of onondaga ss on the ly day of september 199 before me personally came raymond a rogala jr to me kno n to be the individual described n and who executed the fo egoing anstrument and acknowledged that he executed the me | ; ~~ jotary ‘publi¢é rem vet red leauny petts, cute ot ten yar | comenieaion bxptres juy2t 18.2-5 9 de sb d 2 2s a5y ee - a ! a rus rs rece ved $ fo / real estate ®@ x eastp 2 8 1994 | oo sypansrer tax @ onondaga county page 1 ( a / \n",
      "32\n",
      "1079.jpeg\n",
      "be monroe title insurance corporation 333 las onondaga s ee sy acuse ny 3202 guaranteed tax search abstract no 3 8099 order no 3 8099 monroe title insurance corporat on acorpo a onduy n orpo aed unde the aw of he staeofnew yok fo a auabe onsdea ono paid he eby ertfe and guaranee o he eod owne sofan nees no aspe fc enagans the ca esaedesc bedbeow ha he eareno county taxes o taxsales nowa enagan he ea esaede mnbedon he ax o 5 eferred o he en now payable excep as fo ows sa information purposes only assessed to s arona roga a tax account no 08022 0 street address 2 long branch road mun c pal ty geddes property descript on lot 29 lindbergh lawns block schoo d str ct 202 solvay schoo d strict2 property class 2 0 single fam ly res ro year 2006 land assessed va ue $ 2 0000 otal assessed va ue $ 68 000 60 taxab e asses ed value $ 68 000 60 los e 0 9 description of tax or assfssment. 2006 county taxe $ 4246 pad eee no search ncluded for c ty v llageor schoo axes or any loca assessments th ssearc does not cover any appl cable county orc ty water pure water or sewer charges pursuant to new york real property tax law sect ons 02 and 520 the realestate ax liab ty may be affected upon transferoft £ f theprem seshaveaparta or ull exempt on eee monroe t tle nsurance corporat on ~ dad sepembe & 2006 by buse c mewes —— auho zed off e od n mb 8099 pg \n",
      "23\n",
      "1080.jpeg\n",
      "1 warranty deed gary r aty company in a orpoa on gan zed unde the aw of h sta e of new yo k ro lane senbah of he c ty of syaue ny n trumen dae 415 93 a know edged dae 415 93 re oddae 422 93 tme 02 am ins umen lo a on lbe 643 of deeds page 295&c cons de a on $100 con eys w hohe pem es alltha a o parce of and s uae n he town of gedde county of onondaga and s ae of new yo k, known and de gna ed as lo numbe 29 n b ock three 3 of l ndbe gh lawns acco dng oa map he eof made by s n g mm cl daedmay 6 929 andf ed n onondaga county c e ks offce may 20 1929 the party of he second part fo he sef he he ep esena ves _essees and ass gns he eby co enan sand ag ee o and wth he party of hef s part, ssucce so s and ass gn as fo ows tha no pub camusemen de ces of any nameo natucopeaedfo pof ha be mananedon hepem eshe enbefoede bed duringape odof en yearsfom apn 5 929 and hsco enan and e tre on sdeclared obe and ha beaco enan ata hed o and runn ng w h he and during he sad erm of en years from ap 15 929 sadpem e area so conveyed sub ec o the followmg co enan sand estrc on whch sha be ons de ed o be and shall be co enan s runn ng w hthe and and sha con nue n fo ce un he shdayofap 939 tha any dwe ng house e ec ed on any o fac ng on van v eck road 0 long b anch road halcos no ess than $3 000 00 and tha any dwe ng house e ec ed onanyo he s ee ad ou n lndbe gh lawns sha cos no ess han $2 00000 tha any garage e ec ed on he p em ses shal no be w thin 50 fee of he stree upon wh ch such lo faces no wihn 20 fee ofanysdes eet,excep n the case of'a garage wh ch sa part of the dwe | ng house tha nobu dngsha bee ecedon hesepem e excep one dwe ng house fo one woo heefam esandonep aesngeo doube garage tha hep em ses he encon eyedsha no be used fo bu nesso manufac ur ng purpo e of | any k nd tha no mo e than one dwel ng and no mo ¢ than one garage sha be e ec ed upon any one bu dng o nsad l ndbe gh lawns f s party eservesthe gh oconveywthou es c onagans bus ness and bu ding ne los and2 nbocksanda corne o fron ng on van vieck road and long b anch road andaso os9and 0 nbock3 andlos3and4 nblock8 \n",
      "23\n",
      "1081.jpeg\n"
     ]
    },
    {
     "name": "stdout",
     "output_type": "stream",
     "text": [
      "the abo € eserva onand es c ons shal be deemed co enans running w h he and and shal con nue nfoceun he shdayofap | 1939 andno onge sube oa mortgage s nce ds harged of eco d 2 unpaid county taxes for the year 1953 county of onondaga 8 f anc s s e nbach amoun $3 70 book 4 page 375 tax onlo 29b ock 29l nd las 3 tax deed gogel ta e a teaue of he county of onondaga s ae of new yo k to county of onondaga, a mun pa corpo a onof he sta e of new yo k n umen dae 64 956 a know edged dae 64 956 r oddae 79 956 tme 228pm in umen lo a on lbe 1815 of deeds page 308 cons de a on $9 27 con eys pursuan ounpad axesfo he year 953 a tha pe eo parce of and uae nthe townofgedde county of onondaga, new yok odasafoe ad and whch s bounded and dese bedasfo ows z senbach f ancs bock3 lo 29 l ndbe gh lawns t act, fown of geddes \n",
      "36\n",
      "1082.jpeg\n",
      "4 quit claim deed county of onondaga amun pa orpo a on o gan zedunde he law of h staeofnewy k by th m h dye a charmanof he board of superv o of adcounty fo and on beha fof ad county and boa d to arthy hughe of mattyda e new yo k , in umen dae 6 20 1956 a know edged dae 6 20 1956 reoddae 79 1956 tm 1228pm ins umen lo a on lbe 18 50f deeds page 309 consd aon $ 00 conveys a ha peceo parce of and s uae n he town of geddes county of onondaga, new yo k and wh ch s bounded and desc bed as fo ows bo k3lo 29 l ndbe gh lawns t ac as as essed o f ancssenba hn 952 be ng the same p em ses desc bed ndeed othe party of hef part by he t easure of onondaga county daed june4h 956 and hsdeed sg enpu uan o e ou onnumbe 2 oadop ed by he board of superv o sonjune4 956 the grano he enconveysonlyal s ght eand nees fany obtamed nand o he abo e¢ descnbed p em ses by eason of unpa ds.aeand county axes this con eyance made w thou ¢ ou se o the county of onondaga, o any of soffceso epesena es andnolab ysha nanye en a ach o the county of onondaga, o any off e he eof because of fa ureof o defec n ec o hep emseshe endesc bed 5 quit claim deed fane senbah of 25 oxfods ee sy aue new yok to arthu hughe of 204 mattydae de mattydae new yo k in umen dae 9 4 956 a know edged dae 9 41956 reo ddae 9 9 956 tme 36pm ns umen lo a on lbe 1826 0f deeds page 646& con dea on $1 00 re enue s amps none con cys wthothe p em ses the same p em ses described n no \n",
      "50\n",
      "1083.jpeg\n",
      "6 warranty deed arthu hughe of 204 mattydaed e@ matydae onondaga county new yo k to r had thaye ho den and leonam hoden h wfea enan bytheen ety of 323 long b an h road town of gedde onondaga county n w yok in umen dae 89 957 a know edged dae 89 957 reoddae 8 3 1957 ime 1243pm ins umen lo a on lbe 870 0f deeds page 425&c con dea on $ 00 revenue stamps $ 2 10 con eys a tha ac o pare ofland stuae n he town of geddes county of onondaga and s a e of new yo k known and des gna ed as lo numbe twenty nne(29 nbio k numbe three (3 of l ndbe gh lawns acco d ng oamap of sa dl ndbe gh lawns made by sn g mm ce daedmay 6 1929 andf ed nthe onondaga county ce k offce on may 20 1929 map numbe 2248 7 quit claim deed r hadthay hodn of 360 souhganda enue s daam o to leona m ho den of 323 long b an h road town of gedde onondag county new yo k n umen dae 615 967 acknow edged da e 6 5 967 reo ddae 0 3 967 tme 243 pm ins umen lo a on lhe 2355 of deeds page 883&c con dea on $100 re enue stamps none conveys ‘the same p em se described nno 6 ene \n",
      "14\n",
      "1084.jpeg\n",
      "8 warranty deed leona m ho den of 323 long b an h road towno gedde onondaga county new yo k to go don t dewey and fane m dewey h wfe of 490 jopkn road l erpoo n wyok ins umen dae 10 12 1967 a know edged dae 0 12 1967 re oddae 0 13 1967 tme 243 pm in umen lo a on l be 2355 of deeds page 885&c con dea on $ 00 re enue s amps $ 650 con eys the same p em ses desc bed n no 6 9 warranty defd go don t dewey and fane m dewey h w fe bohof 0 6g dne road cen a squae new yok to john a wo kowsk and margae m wo kowk h wfe a enan by heen ety bohof 06w ams eet,so ay new yok in umen dae 1226 978 a know edged dae 226 978 re oddae 2 27 1978 tme 2 pm n umen lo a on lbe 2688 of deed page 250&c con dea on $1 00 tt stamps $30 80 con eys the same p em ses described nno 6 be ng he same p em ses desc bed nadeed fom i eonam ho den o go don t dewey € a daedocobe 12 967 and eco ded n he onondaga county ce ks offce oc obe 3 967 n book 2355 of deeds a page 885 \n",
      "41\n",
      "1085.jpeg\n",
      "10 warranty deed | ohn a wo kow k and ma gae m wo kow k 323 longb an h road so ay newyok 209 to raymond a rogaa,j and sha on a rogaa,h w fe 323 longb anch road sy a ue new yok 3209 in umen dae 323 989 a know edged dae 323 989 re o ddae 323 989 tme 04pm n umen loa on lhe 35 80f deeds page 32 cons de a on $ 00 | tt stamps $2 200 con eys a ha trac o parce of and stuae n he town of geddes county of onondaga and sta e of new yo k known and des gna ed as lo numbe ‘twenty nne (29 1b ock numbe three (3) of l ndbe gh lawns a co dng oa map made bys n g mm c e daed may 6 1929 andf ed nthe onondaga county c e ks offce on may 20 929 map numbe 2248 be ng he same p em ses desc bed ina deed f om go don t and f an es m dewey da ed decembe 26 978 and eco ded n the onondaga county c e ks offce decembe 27 978 n book 2688 of deeds a page 250 il quit claim deed raymond a rogaa } of 09sp ngs eet,syaue ny 3208 to sha on a rogaa of 323 longb an h road sy a ue ny 3209 dn umen da 9 9 994 a know edged dae 919 1994 reoddae 928 994 tme 21 pm ins umen lo a on lhe 3955 of deeds page 89 con d aon $ 00 tt stamps exemp con eys a tha ac o parce of and s uae n he town of geddes county of onondaga and sta e of new yo k known and des gna eda lo numbe twenty nine 29) n block numbe th ee (3) of l ndbe gh lawns acco d ng oamapmade bys n g mm ce daed may 6 1929 andf ed n he onondaga county ce k offce on may 20 929 map numbe 2248 be ng the same p em ses conveyed o he gano by deed daed march23 989 andf ed n he onondaga county c ¢ k's off ce on march 23 989 n book 3518 a page 32 ee \n",
      "32\n",
      "1086.jpeg\n",
      "12, mortgage sha on a rogaa 32 longb an hrd syaue ny 3209 to charte one bank na a ospoa ono ao aonwh hex und he aw of he un ed staesofame a 2 5supe o a enue ce eand oh 44 4 in umen dae 6 2004 a know edged dae 6 2004 reoddae 77 2004 tme 036am in umen loca on lhe 4040 of mortgages page 383&c amoun $49 900 00 coe thesamepemsesdes bed nno \n",
      "41\n",
      "1087.jpeg\n",
      "13. judgment certification sharon a rogaa fom sep embe 8 1996 0 sep embe 8 2006 end of page \n",
      "41\n",
      "1088.jpeg\n",
      "‘ ’ abstract certificate monroe tle nsurance corporat on a new yo k corpo a on fo good cons dea onpad cert f es and guarantees 0 he curren e odowne )ofan nees no specfc enupon he prem ses descr bed at set outs 6 mmedaeyp ecedngthscertfcae he sube pem e and the su ce sos n nees of ecod tha i has searched he fede al judgmen s(20 years co eco sbonds 3 years deed fede a taxlen oyear fnancngsaemen up osyear judgmens 10 year leae mechanics l ens( year) mortgages ( nclud ng loan comm ss one s) no ce of penden y shenff's cert f'ca es of sae surety bond and we fare l ens nd ces mananed n he county ceks offce and he surrogae nd cesmananed n he surrogaes court fo the ounty n which he sub ec pemses ocaed agans the names of he part es appear ng n he abs a asownngo ha ngan nees n he subec p emses during the eco d pe odsof uch owne sh pfomand nc ud ng he dae 4 14-1931 o he dae of ths cert fcae 2 i has searched the inac e hazardous was e d spo a s e reg try index manta ned n the county c e ks offce fo he county nwh h he subec pemse s ocaed agan he tax map par e numbe o he sec on bock and o numbe of he subec pem ¢ i found he matte sse forth nthe abs ac a set ous 1 through 13 sa d matte s are corre ly se forth he en, and the e sno hingmoe n hose ndceswh h appear oaffe he sube poem es o any part he eof 4 this search does no se forth mortgages udgmens ens no e ofpenden yo en umb ances ecodedo fedp o oo durng hepe odofthssear hfo whch an ela on dscharge o sa sfac on ha e been eco dedo f ed 5 ifanyco enan o e tre on efe encedo appearing n his search o aes anypo  onofthe fede alfa hous ng ac (42usc §3601e seq) asamended 5 ¢ forthhe ensoe yu he ne es of comp e ¢ and accura e eporting 6 [hs abstrac certfcae smade bya e nsurance company au ho zed odo bus nes n he s aeofnew yo k wh ch company mana ns s atu ory loss e¢ erves fo abs acts o s made by an abstrac company wh ch maintan erro sandom ss on nsu ance co e age ofa ea $1 000 000 00 th s cert fea e mee sm nimum ecommended s andards of he onondaga coun y bar assoc a on neffec asof he dae ofthscert fcae 8 and ha upon exam na on fo en years as pas of the judgmen ind ces n the coun y c e k's off ce the ¢ are no judgmen so t ansc ps of judgmen or new yo k stae tax warran sdo ke ed n he county c e ks offce aga ns the named pe son a se out 13 fo he pe od se oppos e the € pec enames excep as shown in witness whereof monroe t ¢ insurance corpo a on has causedthsce f ae obes gned by s au honzed offce hs 8th day of september, 2006 at 800 o clock am | monroe t tle nsurance corporat on by crust koen au horized off ce o de numbe 3 8099 certfcaenumbe 8099 | \n",
      "45\n",
      "1089.jpeg\n"
     ]
    },
    {
     "name": "stdout",
     "output_type": "stream",
     "text": [
      "« * » abstract delivery receipt monroe title insurance corporation syracuse office 333 e onondaga st syracuse ny 3202 messenger instruct on sheet date 09 15 2006 search number l 29 block 3 lindbergh lawns de e to mcdermott & britt pc atten on patrick britt 03 eh water street suite 300 syracuse ny 3202 471 8 3 order number 318099 part es rogala sharon a property guar tax map no stree 323 longbranch road c y town geddes tract lindbergh lawns block 3 lot 29 comments please return to jeanette cooter please return to abstract department rece ved ordirton loe srr date q/ cle y messenger 09 s$ 2006 13 18 \n",
      "41\n"
     ]
    }
   ],
   "source": [
    "path = '/home/vimalkumar/Downloads/new_project/output_image'\n",
    "\n",
    "count = []\n",
    "empty = []\n",
    "for img in sorted(os.listdir(path)):\n",
    "    print(img)\n",
    "    im = cv2.imread(os.path.join(path,img),0)\n",
    "    _, blackAndWhite = cv2.threshold(im, 127, 255, cv2.THRESH_BINARY_INV)\n",
    "\n",
    "    nlabels, labels, stats, centroids = cv2.connectedComponentsWithStats(blackAndWhite, None, None, None, 8, cv2.CV_32S)\n",
    "    sizes = stats[1:, -1] #get CC_STAT_AREA component\n",
    "    img2 = np.zeros((labels.shape), np.uint8)\n",
    "\n",
    "    for i in range(0, nlabels - 1):\n",
    "        if sizes[i] >= 50:   #filter small dotted regions\n",
    "            img2[labels == i + 1] = 255\n",
    "\n",
    "    res = cv2.bitwise_not(img2)\n",
    "    #im = cv2.imread('/home/vimalkumar/Downloads/new_project/output_image/1002.jpeg',0)\n",
    "    image_data = pytesseract.image_to_string(res,config=r'--oem 3 --psm 6')\n",
    "    #print(image_data)\n",
    "\n",
    "    out = \" \".join(image_data.splitlines()).lower()\n",
    "    print(out)\n",
    "    \n",
    "    if len(out) <= 5:\n",
    "        empty.append(os.path.splitext(img)[0])\n",
    "        \n",
    "    else:\n",
    "        fuzz_ratio = fuzz.partial_ratio(out,'new document to follow')\n",
    "        print(fuzz_ratio)\n",
    "\n",
    "        if fuzz_ratio >= 90:\n",
    "            count.append(os.path.splitext(img)[0])\n",
    "count.append(int(os.path.splitext(img)[0])+1)"
   ]
  },
  {
   "cell_type": "code",
   "execution_count": 172,
   "id": "fb8b378e",
   "metadata": {},
   "outputs": [
    {
     "data": {
      "text/plain": [
       "['1002', '1009', '1016', '1023', '1039', '1045', '1055', 1090]"
      ]
     },
     "execution_count": 172,
     "metadata": {},
     "output_type": "execute_result"
    }
   ],
   "source": [
    "count"
   ]
  },
  {
   "cell_type": "code",
   "execution_count": 173,
   "id": "1cdb9789",
   "metadata": {},
   "outputs": [],
   "source": [
    "c = []\n",
    "for b in count:\n",
    "    c.append(int(b))"
   ]
  },
  {
   "cell_type": "code",
   "execution_count": 174,
   "id": "2867de80",
   "metadata": {},
   "outputs": [
    {
     "data": {
      "text/plain": [
       "[7, 7, 7, 16, 6, 10, 35, 0]"
      ]
     },
     "execution_count": 174,
     "metadata": {},
     "output_type": "execute_result"
    }
   ],
   "source": [
    "diff = list(np.diff(c))\n",
    "diff.append(0)\n",
    "diff"
   ]
  },
  {
   "cell_type": "code",
   "execution_count": 175,
   "id": "3bdea63b",
   "metadata": {},
   "outputs": [],
   "source": [
    "dic = dict(zip(c,diff))    "
   ]
  },
  {
   "cell_type": "code",
   "execution_count": 176,
   "id": "062615b5",
   "metadata": {},
   "outputs": [
    {
     "data": {
      "text/plain": [
       "{1002: 7, 1009: 7, 1016: 7, 1023: 16, 1039: 6, 1045: 10, 1055: 35, 1090: 0}"
      ]
     },
     "execution_count": 176,
     "metadata": {},
     "output_type": "execute_result"
    }
   ],
   "source": [
    "dic"
   ]
  },
  {
   "cell_type": "code",
   "execution_count": 177,
   "id": "13008747",
   "metadata": {},
   "outputs": [
    {
     "data": {
      "text/plain": [
       "7"
      ]
     },
     "execution_count": 177,
     "metadata": {},
     "output_type": "execute_result"
    }
   ],
   "source": [
    "list(dic.values())[0]"
   ]
  },
  {
   "cell_type": "code",
   "execution_count": 178,
   "id": "9878ae13",
   "metadata": {},
   "outputs": [],
   "source": [
    "import matplotlib.pyplot as plt"
   ]
  },
  {
   "cell_type": "code",
   "execution_count": 159,
   "id": "50d215ee",
   "metadata": {},
   "outputs": [],
   "source": [
    "path = '/home/vimalkumar/Downloads/new_project/output_image'\n",
    "outpath = '/home/vimalkumar/Downloads/new_project/test'\n",
    "\n",
    "cnt = 1\n",
    "for j in range(len(dic)-1):\n",
    "    file = list(dic.keys())[j]\n",
    "    #print(file)\n",
    "    \n",
    "      \n",
    "    shutil.copytree('/home/vimalkumar/Downloads/new_project/test/sample', \n",
    "            os.path.join('/home/vimalkumar/Downloads/new_project/test',str(cnt)))\n",
    "    \n",
    "    for k in range(list(dic.values())[j]):\n",
    "        #print(k)\n",
    "        \n",
    "        image = cv2.imread(os.path.join(path,str(file+k)+'.jpeg'))\n",
    "        #plt.imshow(image)\n",
    "        imm = Image.fromarray(image)\n",
    "        #imm.save(\"your_file.jpeg\")\n",
    "        imm.save(os.path.join(outpath,str(cnt),str(file+k)+'.jpeg'))\n",
    "        \n",
    "    try:\n",
    "        \n",
    "        with open(os.path.join(outpath,str(cnt)+\".pdf\"),\"wb\") as f:\n",
    "            f.write(img2pdf.convert(sorted(glob.glob(os.path.join(outpath,str(cnt),'*.jpeg')))))\n",
    "\n",
    "    except ValueError:\n",
    "        break\n",
    "    \n",
    "    \n",
    "    cnt = cnt + 1\n",
    "    \n",
    "    \n",
    "        \n",
    "  \n",
    "    \n",
    "        \n"
   ]
  },
  {
   "cell_type": "code",
   "execution_count": 162,
   "id": "d3e84d29",
   "metadata": {},
   "outputs": [],
   "source": [
    "list_1 = [5,6,9,2,5,8,6,5,4,8,9,5,2]"
   ]
  },
  {
   "cell_type": "code",
   "execution_count": 163,
   "id": "8c31c16e",
   "metadata": {},
   "outputs": [],
   "source": [
    "list_2 = [5,8]"
   ]
  },
  {
   "cell_type": "code",
   "execution_count": 165,
   "id": "c9127127",
   "metadata": {},
   "outputs": [
    {
     "name": "stdout",
     "output_type": "stream",
     "text": [
      "6\n",
      "9\n",
      "2\n",
      "6\n",
      "4\n",
      "9\n",
      "2\n"
     ]
    }
   ],
   "source": [
    "for i in list_1:\n",
    "    if i in list_2:\n",
    "        pass\n",
    "    else:\n",
    "        print(i)\n",
    "        \n",
    "        "
   ]
  },
  {
   "cell_type": "code",
   "execution_count": 179,
   "id": "881a2922",
   "metadata": {},
   "outputs": [
    {
     "data": {
      "text/plain": [
       "['1015', '1048', '1058', '1061']"
      ]
     },
     "execution_count": 179,
     "metadata": {},
     "output_type": "execute_result"
    }
   ],
   "source": [
    "empty"
   ]
  },
  {
   "cell_type": "code",
   "execution_count": 196,
   "id": "51226dd0",
   "metadata": {},
   "outputs": [],
   "source": [
    "path = '/home/vimalkumar/Downloads/new_project/output_image'\n",
    "outpath = '/home/vimalkumar/Downloads/new_project/test'\n",
    "\n",
    "empty_pdf = 'empty_pdf'\n",
    "\n",
    "shutil.copytree('/home/vimalkumar/Downloads/new_project/test/sample', \n",
    "            os.path.join('/home/vimalkumar/Downloads/new_project/test',str(empty_pdf)))\n",
    "\n",
    "cnt = 1\n",
    "for j in range(len(dic)-1):\n",
    "    file = list(dic.keys())[j]\n",
    "    #print(file)\n",
    "    \n",
    "      \n",
    "    shutil.copytree('/home/vimalkumar/Downloads/new_project/test/sample', \n",
    "            os.path.join('/home/vimalkumar/Downloads/new_project/test',str(cnt)))\n",
    "    \n",
    "    for k in range(list(dic.values())[j]):\n",
    "        #print(k)\n",
    "        empty_check = file+k\n",
    "        \n",
    "        if str(empty_check) in empty:\n",
    "            #pass\n",
    "            image = cv2.imread(os.path.join(path,str(empty_check)+'.jpeg'))\n",
    "            #plt.imshow(image)\n",
    "            imm = Image.fromarray(image)\n",
    "            #imm.save(\"your_file.jpeg\")\n",
    "            imm.save(os.path.join(outpath,str(empty_pdf),str(empty_check)+'.jpeg'))\n",
    "\n",
    "        else:\n",
    "        \n",
    "            image = cv2.imread(os.path.join(path,str(empty_check)+'.jpeg'))\n",
    "            #plt.imshow(image)\n",
    "            imm = Image.fromarray(image)\n",
    "            #imm.save(\"your_file.jpeg\")\n",
    "            imm.save(os.path.join(outpath,str(cnt),str(empty_check)+'.jpeg'))\n",
    "            \n",
    "       \n",
    "            \n",
    "\n",
    "    try:\n",
    "        \n",
    "        with open(os.path.join(outpath,str(cnt)+\".pdf\"),\"wb\") as f:\n",
    "            f.write(img2pdf.convert(sorted(glob.glob(os.path.join(outpath,str(cnt),'*.jpeg')))))\n",
    "\n",
    "    except ValueError:\n",
    "        break\n",
    "    \n",
    "    \n",
    "    cnt = cnt + 1\n",
    "    \n",
    "try:\n",
    "    with open(os.path.join(outpath,str(empty_pdf)+\".pdf\"),\"wb\") as f:\n",
    "        f.write(img2pdf.convert(sorted(glob.glob(os.path.join(outpath,str(empty_pdf),'*.jpeg')))))\n",
    "        \n",
    "except ValueError:\n",
    "    pass\n",
    "\n",
    "    \n",
    "    \n",
    "    \n",
    "        \n",
    "  \n",
    "    \n",
    "        \n"
   ]
  },
  {
   "cell_type": "code",
   "execution_count": 227,
   "id": "de9b59e4",
   "metadata": {},
   "outputs": [],
   "source": [
    "import string"
   ]
  },
  {
   "cell_type": "code",
   "execution_count": 228,
   "id": "4a9798c1",
   "metadata": {},
   "outputs": [],
   "source": [
    "for image in sorted(glob.glob('/home/vimalkumar/Downloads/new_project/output_image/1065.jpeg')):\n",
    "    img = cv2.imread(image)\n",
    "    grey_scale = cv2.cvtColor(img, cv2.COLOR_BGR2GRAY)\n",
    "\n",
    "\n",
    "\n",
    "    image_data = pytesseract.image_to_data(grey_scale, output_type=pytesseract.Output.DICT)\n",
    "    # print(f'{image}', type(image_data['text']))\n",
    "\n",
    "    words = [''.join(letter for letter in word if letter not in string.punctuation) for word in image_data['text'] ]\n",
    "    without_empty_strings = [' '.join(string for string in words if string.strip() != \"\")]\n",
    "    #path = \"/home/sharbadeepa/Music/Result/\"\n",
    "    #for i in without_empty_strings:\n",
    "    #if len(i) < 10:\n",
    "    #print(image)"
   ]
  },
  {
   "cell_type": "code",
   "execution_count": 45,
   "id": "28e49f5f",
   "metadata": {},
   "outputs": [],
   "source": [
    "dicc = {1002: 7, 1009: 7, 1016: 7, 1023: 16, 1039: 6, 1045: 10, 1055: 35, 1090: 0}"
   ]
  },
  {
   "cell_type": "code",
   "execution_count": 46,
   "id": "6fb867f0",
   "metadata": {},
   "outputs": [
    {
     "name": "stdout",
     "output_type": "stream",
     "text": [
      "1002\n",
      "7\n"
     ]
    }
   ],
   "source": [
    "key = list(dicc.keys())[0]\n",
    "value = list(dicc.values())[0]\n",
    "print(key)\n",
    "print(value)"
   ]
  },
  {
   "cell_type": "code",
   "execution_count": 47,
   "id": "a25ced88",
   "metadata": {},
   "outputs": [
    {
     "data": {
      "text/plain": [
       "{1001: 1}"
      ]
     },
     "execution_count": 47,
     "metadata": {},
     "output_type": "execute_result"
    }
   ],
   "source": [
    "val_diff = key - 1001\n",
    "dicc_1 = {1001:val_diff}\n",
    "dicc_1"
   ]
  },
  {
   "cell_type": "code",
   "execution_count": 51,
   "id": "0b7668db",
   "metadata": {},
   "outputs": [
    {
     "data": {
      "text/plain": [
       "{1001: 1,\n",
       " 1002: 7,\n",
       " 1009: 7,\n",
       " 1016: 7,\n",
       " 1023: 16,\n",
       " 1039: 6,\n",
       " 1045: 10,\n",
       " 1055: 35,\n",
       " 1090: 0}"
      ]
     },
     "execution_count": 51,
     "metadata": {},
     "output_type": "execute_result"
    }
   ],
   "source": [
    "r = {**dicc_1, **dicc}\n",
    "r"
   ]
  },
  {
   "cell_type": "code",
   "execution_count": 52,
   "id": "7f47a5c8",
   "metadata": {},
   "outputs": [
    {
     "name": "stdout",
     "output_type": "stream",
     "text": [
      "<class 'dict'>\n"
     ]
    }
   ],
   "source": [
    "print(type(r))"
   ]
  },
  {
   "cell_type": "code",
   "execution_count": 49,
   "id": "f6b80a7e",
   "metadata": {},
   "outputs": [
    {
     "name": "stdout",
     "output_type": "stream",
     "text": [
      "None\n"
     ]
    }
   ],
   "source": [
    "a = dicc_1.update(dicc)\n",
    "print(a)"
   ]
  },
  {
   "cell_type": "code",
   "execution_count": 55,
   "id": "845a7356",
   "metadata": {},
   "outputs": [
    {
     "data": {
      "text/plain": [
       "'5-1000'"
      ]
     },
     "execution_count": 55,
     "metadata": {},
     "output_type": "execute_result"
    }
   ],
   "source": [
    "x = 5\n",
    "y = 1000\n",
    "z = str(x) + '-' + str(y)\n",
    "z"
   ]
  },
  {
   "cell_type": "code",
   "execution_count": 62,
   "id": "75b71aed",
   "metadata": {},
   "outputs": [
    {
     "name": "stdout",
     "output_type": "stream",
     "text": [
      "2022-01-29 17:07:50.805262\n"
     ]
    }
   ],
   "source": [
    "import datetime\n",
    "\n",
    "t = datetime.datetime.now()\n",
    "print(t)"
   ]
  },
  {
   "cell_type": "code",
   "execution_count": 66,
   "id": "36eb0ac4",
   "metadata": {},
   "outputs": [
    {
     "data": {
      "text/plain": [
       "2022"
      ]
     },
     "execution_count": 66,
     "metadata": {},
     "output_type": "execute_result"
    }
   ],
   "source": [
    "t.year"
   ]
  },
  {
   "cell_type": "code",
   "execution_count": null,
   "id": "b899471d",
   "metadata": {},
   "outputs": [],
   "source": []
  },
  {
   "cell_type": "code",
   "execution_count": null,
   "id": "2f773277",
   "metadata": {},
   "outputs": [],
   "source": []
  },
  {
   "cell_type": "code",
   "execution_count": null,
   "id": "ae411a1e",
   "metadata": {},
   "outputs": [],
   "source": []
  }
 ],
 "metadata": {
  "kernelspec": {
   "display_name": "Python 3 (ipykernel)",
   "language": "python",
   "name": "python3"
  },
  "language_info": {
   "codemirror_mode": {
    "name": "ipython",
    "version": 3
   },
   "file_extension": ".py",
   "mimetype": "text/x-python",
   "name": "python",
   "nbconvert_exporter": "python",
   "pygments_lexer": "ipython3",
   "version": "3.8.10"
  }
 },
 "nbformat": 4,
 "nbformat_minor": 5
}
