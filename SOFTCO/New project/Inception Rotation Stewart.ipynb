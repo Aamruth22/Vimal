{
 "cells": [
  {
   "cell_type": "code",
   "execution_count": 1,
   "id": "7748e416",
   "metadata": {},
   "outputs": [
    {
     "name": "stderr",
     "output_type": "stream",
     "text": [
      "2022-03-23 15:38:11.811916: W tensorflow/stream_executor/platform/default/dso_loader.cc:64] Could not load dynamic library 'libcudart.so.11.0'; dlerror: libcudart.so.11.0: cannot open shared object file: No such file or directory\n",
      "2022-03-23 15:38:11.812012: I tensorflow/stream_executor/cuda/cudart_stub.cc:29] Ignore above cudart dlerror if you do not have a GPU set up on your machine.\n"
     ]
    }
   ],
   "source": [
    "from tensorflow.keras.layers import Input, Lambda, Dense, Flatten\n",
    "from tensorflow.keras.models import Model\n",
    "from tensorflow.keras.applications.inception_v3 import InceptionV3\n",
    "#from keras.applications.vgg16 import VGG16\n",
    "from tensorflow.keras.applications.inception_v3 import preprocess_input\n",
    "from tensorflow.keras.preprocessing import image\n",
    "from tensorflow.keras.preprocessing.image import ImageDataGenerator,load_img\n",
    "from tensorflow.keras.models import Sequential\n",
    "import numpy as np\n",
    "from glob import glob\n",
    "#import matplotlib.pyplot as plt"
   ]
  },
  {
   "cell_type": "code",
   "execution_count": 2,
   "id": "f3f35cc2",
   "metadata": {},
   "outputs": [],
   "source": [
    "# re-size all the images to this\n",
    "IMAGE_SIZE = [224, 224]\n",
    "\n",
    "train_path = '/home/vimalkumar/Documents/Stewart/CNN/Angle_cnn/train'\n",
    "#valid_path = '/home/vimalkumar/Documents/softco/CNN/CNN/test'"
   ]
  },
  {
   "cell_type": "code",
   "execution_count": 3,
   "id": "a5b3f753",
   "metadata": {},
   "outputs": [
    {
     "name": "stderr",
     "output_type": "stream",
     "text": [
      "2022-03-23 15:39:26.810190: W tensorflow/stream_executor/platform/default/dso_loader.cc:64] Could not load dynamic library 'libcuda.so.1'; dlerror: libcuda.so.1: cannot open shared object file: No such file or directory\n",
      "2022-03-23 15:39:26.810225: W tensorflow/stream_executor/cuda/cuda_driver.cc:269] failed call to cuInit: UNKNOWN ERROR (303)\n",
      "2022-03-23 15:39:26.810242: I tensorflow/stream_executor/cuda/cuda_diagnostics.cc:156] kernel driver does not appear to be running on this host (IG154): /proc/driver/nvidia/version does not exist\n",
      "2022-03-23 15:39:26.810953: I tensorflow/core/platform/cpu_feature_guard.cc:142] This TensorFlow binary is optimized with oneAPI Deep Neural Network Library (oneDNN) to use the following CPU instructions in performance-critical operations:  AVX2 AVX512F FMA\n",
      "To enable them in other operations, rebuild TensorFlow with the appropriate compiler flags.\n"
     ]
    }
   ],
   "source": [
    "inception = InceptionV3(input_shape=IMAGE_SIZE + [3], weights='imagenet', include_top=False)\n"
   ]
  },
  {
   "cell_type": "code",
   "execution_count": 4,
   "id": "43a20b3c",
   "metadata": {},
   "outputs": [],
   "source": [
    "# don't train existing weights\n",
    "for layer in inception.layers:\n",
    "    layer.trainable = False"
   ]
  },
  {
   "cell_type": "code",
   "execution_count": 5,
   "id": "adb13a35",
   "metadata": {},
   "outputs": [],
   "source": [
    "folders = glob('/home/vimalkumar/Documents/Stewart/CNN/Angle_cnn/train/*')\n"
   ]
  },
  {
   "cell_type": "code",
   "execution_count": 6,
   "id": "5c8f7dc3",
   "metadata": {},
   "outputs": [],
   "source": [
    "x = Flatten()(inception.output)\n"
   ]
  },
  {
   "cell_type": "code",
   "execution_count": 7,
   "id": "7f8a2577",
   "metadata": {},
   "outputs": [],
   "source": [
    "prediction = Dense(len(folders), activation='softmax')(x)\n",
    "\n",
    "# create a model object\n",
    "model = Model(inputs=inception.input, outputs=prediction)"
   ]
  },
  {
   "cell_type": "code",
   "execution_count": 8,
   "id": "a558f293",
   "metadata": {},
   "outputs": [],
   "source": [
    "# tell the model what cost and optimization method to use\n",
    "model.compile(\n",
    "  loss='categorical_crossentropy',\n",
    "  optimizer='adam',\n",
    "  metrics=['accuracy']\n",
    ")"
   ]
  },
  {
   "cell_type": "code",
   "execution_count": 9,
   "id": "2b514a36",
   "metadata": {},
   "outputs": [],
   "source": [
    "# Use the Image Data Generator to import the images from the dataset\n",
    "from tensorflow.keras.preprocessing.image import ImageDataGenerator\n",
    "\n",
    "train_datagen = ImageDataGenerator(rescale = 1./255,\n",
    "                                   \n",
    "                                  validation_split=0.15)\n",
    "\n",
    "#test_datagen = ImageDataGenerator(rescale = 1./255)"
   ]
  },
  {
   "cell_type": "code",
   "execution_count": 10,
   "id": "05e056ef",
   "metadata": {},
   "outputs": [
    {
     "name": "stdout",
     "output_type": "stream",
     "text": [
      "Found 1175 images belonging to 4 classes.\n"
     ]
    }
   ],
   "source": [
    "# Make sure you provide the same target size as initialied for the image size\n",
    "training_set = train_datagen.flow_from_directory(train_path,\n",
    "                                                 target_size = (224, 224),\n",
    "                                                 batch_size = 2,\n",
    "                                                 class_mode = 'categorical',\n",
    "                                                subset = 'training')"
   ]
  },
  {
   "cell_type": "code",
   "execution_count": 11,
   "id": "59b0f2cb",
   "metadata": {},
   "outputs": [
    {
     "name": "stdout",
     "output_type": "stream",
     "text": [
      "Found 204 images belonging to 4 classes.\n"
     ]
    }
   ],
   "source": [
    "test_set = train_datagen.flow_from_directory(train_path,\n",
    "                                            target_size = (224, 224),\n",
    "                                            batch_size = 2,\n",
    "                                            class_mode = 'categorical',\n",
    "                                           subset = 'validation')"
   ]
  },
  {
   "cell_type": "code",
   "execution_count": 12,
   "id": "bc077892",
   "metadata": {},
   "outputs": [
    {
     "name": "stderr",
     "output_type": "stream",
     "text": [
      "/home/vimalkumar/Documents/Python_new_1/cde_venv/lib/python3.8/site-packages/keras/engine/training.py:1972: UserWarning: `Model.fit_generator` is deprecated and will be removed in a future version. Please use `Model.fit`, which supports generators.\n",
      "  warnings.warn('`Model.fit_generator` is deprecated and '\n",
      "2022-03-23 15:39:43.695073: I tensorflow/compiler/mlir/mlir_graph_optimization_pass.cc:185] None of the MLIR Optimization Passes are enabled (registered 2)\n"
     ]
    },
    {
     "name": "stdout",
     "output_type": "stream",
     "text": [
      "Epoch 1/25\n",
      "588/588 [==============================] - 121s 200ms/step - loss: 5.4608 - accuracy: 0.7285 - val_loss: 6.5998 - val_accuracy: 0.7500\n",
      "Epoch 2/25\n",
      "588/588 [==============================] - 111s 188ms/step - loss: 2.2021 - accuracy: 0.8783 - val_loss: 4.8023 - val_accuracy: 0.7892\n",
      "Epoch 3/25\n",
      "588/588 [==============================] - 165s 280ms/step - loss: 1.1130 - accuracy: 0.9311 - val_loss: 10.3768 - val_accuracy: 0.6520\n",
      "Epoch 4/25\n",
      "588/588 [==============================] - 130s 221ms/step - loss: 0.9742 - accuracy: 0.9353 - val_loss: 4.6860 - val_accuracy: 0.8235\n",
      "Epoch 5/25\n",
      "588/588 [==============================] - 101s 172ms/step - loss: 1.0733 - accuracy: 0.9455 - val_loss: 7.1766 - val_accuracy: 0.7451\n",
      "Epoch 6/25\n",
      "588/588 [==============================] - 98s 167ms/step - loss: 0.7841 - accuracy: 0.9677 - val_loss: 5.6065 - val_accuracy: 0.8039\n",
      "Epoch 7/25\n",
      "588/588 [==============================] - 94s 160ms/step - loss: 1.0295 - accuracy: 0.9626 - val_loss: 5.4555 - val_accuracy: 0.8137\n",
      "Epoch 8/25\n",
      "588/588 [==============================] - 96s 163ms/step - loss: 0.7222 - accuracy: 0.9796 - val_loss: 3.5602 - val_accuracy: 0.8676\n",
      "Epoch 9/25\n",
      "588/588 [==============================] - 93s 158ms/step - loss: 1.5769 - accuracy: 0.9540 - val_loss: 5.8820 - val_accuracy: 0.8382\n",
      "Epoch 10/25\n",
      "588/588 [==============================] - 93s 158ms/step - loss: 0.8208 - accuracy: 0.9711 - val_loss: 6.7965 - val_accuracy: 0.8137\n",
      "Epoch 11/25\n",
      "588/588 [==============================] - 93s 159ms/step - loss: 0.2857 - accuracy: 0.9813 - val_loss: 6.6150 - val_accuracy: 0.8578\n",
      "Epoch 12/25\n",
      "588/588 [==============================] - 94s 160ms/step - loss: 0.4702 - accuracy: 0.9864 - val_loss: 6.5708 - val_accuracy: 0.8284\n",
      "Epoch 13/25\n",
      "588/588 [==============================] - 100s 170ms/step - loss: 1.0171 - accuracy: 0.9668 - val_loss: 14.7484 - val_accuracy: 0.7696\n",
      "Epoch 14/25\n",
      "588/588 [==============================] - 114s 194ms/step - loss: 1.2028 - accuracy: 0.9736 - val_loss: 7.7773 - val_accuracy: 0.8627\n",
      "Epoch 15/25\n",
      "588/588 [==============================] - 112s 190ms/step - loss: 0.6313 - accuracy: 0.9779 - val_loss: 9.7510 - val_accuracy: 0.8088\n",
      "Epoch 16/25\n",
      "588/588 [==============================] - 114s 194ms/step - loss: 0.5090 - accuracy: 0.9915 - val_loss: 6.9758 - val_accuracy: 0.8775\n",
      "Epoch 17/25\n",
      "588/588 [==============================] - 96s 164ms/step - loss: 0.3941 - accuracy: 0.9906 - val_loss: 16.0639 - val_accuracy: 0.7647\n",
      "Epoch 18/25\n",
      "588/588 [==============================] - 92s 156ms/step - loss: 0.4248 - accuracy: 0.9830 - val_loss: 9.9602 - val_accuracy: 0.8382\n",
      "Epoch 19/25\n",
      "588/588 [==============================] - 93s 158ms/step - loss: 0.6893 - accuracy: 0.9821 - val_loss: 9.0071 - val_accuracy: 0.8088\n",
      "Epoch 20/25\n",
      "588/588 [==============================] - 91s 155ms/step - loss: 0.6030 - accuracy: 0.9821 - val_loss: 9.6577 - val_accuracy: 0.7941\n",
      "Epoch 21/25\n",
      "588/588 [==============================] - 97s 163ms/step - loss: 0.5265 - accuracy: 0.9881 - val_loss: 6.6660 - val_accuracy: 0.8431\n",
      "Epoch 22/25\n",
      "588/588 [==============================] - 112s 190ms/step - loss: 0.6453 - accuracy: 0.9864 - val_loss: 9.9976 - val_accuracy: 0.8039\n",
      "Epoch 23/25\n",
      "588/588 [==============================] - 130s 222ms/step - loss: 0.5796 - accuracy: 0.9872 - val_loss: 9.2232 - val_accuracy: 0.8284\n",
      "Epoch 24/25\n",
      "588/588 [==============================] - 134s 228ms/step - loss: 0.8340 - accuracy: 0.9779 - val_loss: 25.1343 - val_accuracy: 0.7647\n",
      "Epoch 25/25\n",
      "588/588 [==============================] - 124s 211ms/step - loss: 0.6953 - accuracy: 0.9872 - val_loss: 10.5075 - val_accuracy: 0.8284\n"
     ]
    }
   ],
   "source": [
    "r = model.fit_generator(\n",
    "  training_set,\n",
    "  validation_data=test_set,\n",
    "  epochs=25,\n",
    "  #steps_per_epoch=len(training_set),\n",
    "  #validation_steps=len(test_set)\n",
    ")"
   ]
  },
  {
   "cell_type": "code",
   "execution_count": 13,
   "id": "e0296236",
   "metadata": {},
   "outputs": [],
   "source": [
    "model.save('stewart_rotation_inception_model.h5')"
   ]
  },
  {
   "cell_type": "code",
   "execution_count": 14,
   "id": "bcd7d9fe",
   "metadata": {},
   "outputs": [],
   "source": [
    "import os\n",
    "import keras\n",
    "from keras.preprocessing.image import load_img,img_to_array\n",
    "import matplotlib.pyplot as plt\n",
    "from tensorflow.keras.preprocessing import image\n",
    "import numpy as np\n",
    "import pandas as pd\n",
    "from glob import glob"
   ]
  },
  {
   "cell_type": "code",
   "execution_count": 15,
   "id": "8d8b4546",
   "metadata": {},
   "outputs": [],
   "source": [
    "model = keras.models.load_model('stewart_rotation_inception_model.h5')\n"
   ]
  },
  {
   "cell_type": "code",
   "execution_count": 16,
   "id": "ffbb791f",
   "metadata": {},
   "outputs": [
    {
     "name": "stdout",
     "output_type": "stream",
     "text": [
      "{0: '0 degree', 1: '180 degree', 2: '270 degree', 3: '90 degree'}\n"
     ]
    }
   ],
   "source": [
    "train_path = '/home/vimalkumar/Documents/Stewart/CNN/Angle_cnn/train'\n",
    "folders = glob('/home/vimalkumar/Documents/Stewart/CNN/Angle_cnn/train/*')\n",
    "\n",
    "keys = []\n",
    "values = []\n",
    "for key in range(len(folders)):\n",
    "    #print(key)\n",
    "    keys.append(key)\n",
    "for path in os.listdir(train_path):\n",
    "    #print(path)\n",
    "    values.append(path)\n",
    "dic = dict(list(zip(keys,sorted(values))))\n",
    "print(dic)"
   ]
  },
  {
   "cell_type": "code",
   "execution_count": 23,
   "id": "118de454",
   "metadata": {},
   "outputs": [
    {
     "name": "stdout",
     "output_type": "stream",
     "text": [
      "1    b17_2.jpeg\n",
      "Rotation angle :  0 degree\n",
      "1    b17_13.jpeg\n",
      "Rotation angle :  180 degree\n",
      "1    b17_33.jpeg\n",
      "Rotation angle :  0 degree\n",
      "1    b17_11.jpeg\n",
      "Rotation angle :  0 degree\n",
      "1    b17_18.jpeg\n",
      "Rotation angle :  0 degree\n",
      "1    b17_89.jpeg\n",
      "Rotation angle :  0 degree\n",
      "1    b17_19.jpeg\n",
      "Rotation angle :  0 degree\n",
      "1    b17_31.jpeg\n",
      "Rotation angle :  180 degree\n",
      "1    b17_87.jpeg\n",
      "Rotation angle :  0 degree\n",
      "1    b17_84.jpeg\n",
      "Rotation angle :  180 degree\n",
      "1    b17_24.jpeg\n",
      "Rotation angle :  180 degree\n",
      "1    b17_86.jpeg\n",
      "Rotation angle :  0 degree\n",
      "1    b17_35.jpeg\n",
      "Rotation angle :  0 degree\n",
      "1    b17_1.jpeg\n",
      "Rotation angle :  0 degree\n",
      "1    b17_8.jpeg\n",
      "Rotation angle :  0 degree\n",
      "1    b17_9.jpeg\n",
      "Rotation angle :  0 degree\n",
      "1    b17_3.jpeg\n",
      "Rotation angle :  0 degree\n",
      "1    b17_27.jpeg\n",
      "Rotation angle :  0 degree\n",
      "1    b17_34.jpeg\n",
      "Rotation angle :  0 degree\n",
      "1    b17_85.jpeg\n",
      "Rotation angle :  0 degree\n",
      "1    b17_6.jpeg\n",
      "Rotation angle :  0 degree\n",
      "1    b17_10.jpeg\n",
      "Rotation angle :  0 degree\n",
      "1    b17_26.jpeg\n",
      "Rotation angle :  0 degree\n",
      "1    b17_4.jpeg\n",
      "Rotation angle :  0 degree\n",
      "1    b17_21.jpeg\n",
      "Rotation angle :  180 degree\n",
      "1    b17_88.jpeg\n",
      "Rotation angle :  0 degree\n",
      "1    b17_22.jpeg\n",
      "Rotation angle :  0 degree\n",
      "1    b17_15.jpeg\n",
      "Rotation angle :  0 degree\n",
      "1    b17_29.jpeg\n",
      "Rotation angle :  0 degree\n",
      "1    b17_82.jpeg\n",
      "Rotation angle :  0 degree\n",
      "1    b17_28.jpeg\n",
      "Rotation angle :  0 degree\n",
      "1    b17_12.jpeg\n",
      "Rotation angle :  0 degree\n",
      "1    b17_16.jpeg\n",
      "Rotation angle :  0 degree\n",
      "1    b17_14.jpeg\n",
      "Rotation angle :  0 degree\n",
      "1    b17_20.jpeg\n",
      "Rotation angle :  0 degree\n",
      "1    b17_23.jpeg\n",
      "Rotation angle :  180 degree\n",
      "1    b17_7.jpeg\n",
      "Rotation angle :  180 degree\n",
      "1    b17_0.jpeg\n",
      "Rotation angle :  180 degree\n",
      "1    b17_36.jpeg\n",
      "Rotation angle :  180 degree\n",
      "1    b17_25.jpeg\n",
      "Rotation angle :  180 degree\n",
      "1    b17_83.jpeg\n",
      "Rotation angle :  0 degree\n",
      "1    b17_17.jpeg\n",
      "Rotation angle :  0 degree\n",
      "1    b17_5.jpeg\n",
      "Rotation angle :  180 degree\n",
      "1    b17_32.jpeg\n",
      "Rotation angle :  0 degree\n"
     ]
    }
   ],
   "source": [
    "path = '/home/vimalkumar/Downloads/stewart degrees test/test/0 test'  \n",
    "\n",
    "\n",
    "\n",
    "cnt = 1\n",
    "for i in os.listdir(path):\n",
    "    print(cnt , '  ',i)\n",
    "    img = image.load_img(os.path.join(path,i), \n",
    "                         target_size=(224,224))\n",
    "#     plt.imshow(img)\n",
    "#     plt.show()\n",
    "\n",
    "    x = image.img_to_array(img)\n",
    "    x = x/255\n",
    "    x = np.expand_dims(x,axis=0)\n",
    "    images = np.vstack([x])\n",
    "    val = model.predict(images)\n",
    "    #print(val)\n",
    "\n",
    "    a=np.argmax(val,axis=1)\n",
    "    #print(a)\n",
    "    print('Rotation angle : ',dic[a[0]])"
   ]
  },
  {
   "cell_type": "code",
   "execution_count": null,
   "id": "2171724a",
   "metadata": {},
   "outputs": [],
   "source": []
  },
  {
   "cell_type": "code",
   "execution_count": null,
   "id": "4ebea5bb",
   "metadata": {},
   "outputs": [],
   "source": []
  },
  {
   "cell_type": "code",
   "execution_count": null,
   "id": "bb017e20",
   "metadata": {},
   "outputs": [],
   "source": []
  }
 ],
 "metadata": {
  "kernelspec": {
   "display_name": "Python 3 (ipykernel)",
   "language": "python",
   "name": "python3"
  },
  "language_info": {
   "codemirror_mode": {
    "name": "ipython",
    "version": 3
   },
   "file_extension": ".py",
   "mimetype": "text/x-python",
   "name": "python",
   "nbconvert_exporter": "python",
   "pygments_lexer": "ipython3",
   "version": "3.8.10"
  }
 },
 "nbformat": 4,
 "nbformat_minor": 5
}
