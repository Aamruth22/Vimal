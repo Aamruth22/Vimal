{
 "cells": [
  {
   "cell_type": "code",
   "execution_count": 2,
   "id": "95bc8216",
   "metadata": {},
   "outputs": [
    {
     "data": {
      "text/plain": [
       "True"
      ]
     },
     "execution_count": 2,
     "metadata": {},
     "output_type": "execute_result"
    }
   ],
   "source": [
    "import cv2\n",
    "\n",
    "image = cv2.imread('/home/vimalkumar/Documents/Marion Clark/crop/1002_1.jpeg')\n",
    "gray = cv2.cvtColor(image,cv2.COLOR_BGR2GRAY)\n",
    "thresh = cv2.threshold(gray, 0, 255, cv2.THRESH_BINARY_INV + cv2.THRESH_OTSU)[1]\n",
    "# img_median = cv2.medianBlur(thresh, 5)\n",
    "# get horizontal\n",
    "horizontal_kernel = cv2.getStructuringElement(cv2.MORPH_RECT, (25,1))\n",
    "detected_lines_hor = cv2.morphologyEx(thresh, cv2.MORPH_OPEN, horizontal_kernel, iterations=2)\n",
    "cnts,hierarchy= cv2.findContours(detected_lines_hor, cv2.RETR_EXTERNAL, cv2.CHAIN_APPROX_SIMPLE)\n",
    "for c in cnts:\n",
    "    cv2.drawContours(image, [c], -1, (255,255,255), 2)\n",
    "\n",
    "# remove horizontal\n",
    "repair_kernel = cv2.getStructuringElement(cv2.MORPH_RECT, (1,6))\n",
    "result = cv2.morphologyEx(image, cv2.MORPH_CLOSE, repair_kernel, iterations=1)\n",
    "# cv2.imwrite('D:/New folder/project_new/sample/result_1_test.png',result)\n",
    "# # # #remove vertical\n",
    "gray_1 = cv2.cvtColor(result,cv2.COLOR_BGR2GRAY)\n",
    "thresh_1 = cv2.threshold(gray_1, 0, 255, cv2.THRESH_BINARY_INV + cv2.THRESH_OTSU)[1]\n",
    "vertical_kernel = cv2.getStructuringElement(cv2.MORPH_RECT, (1,25))\n",
    "detected_lines_ver = cv2.morphologyEx(thresh_1, cv2.MORPH_OPEN, vertical_kernel, iterations=2)\n",
    "cnts,hierarchy= cv2.findContours(detected_lines_ver, cv2.RETR_EXTERNAL, cv2.CHAIN_APPROX_SIMPLE)\n",
    "for c in cnts:\n",
    "    cv2.drawContours(result, [c], -1, (255,255,255), 2)\n",
    "repair_kernel = cv2.getStructuringElement(cv2.MORPH_RECT, (1,6))\n",
    "result_1 = 255 - cv2.morphologyEx(255 -result , cv2.MORPH_CLOSE, repair_kernel, iterations=1)\n",
    "cv2.imwrite('/home/vimalkumar/Documents/Marion Clark/crop/1004_2.jpeg',result_1)"
   ]
  },
  {
   "cell_type": "code",
   "execution_count": null,
   "id": "a68d3ba8",
   "metadata": {},
   "outputs": [],
   "source": []
  }
 ],
 "metadata": {
  "kernelspec": {
   "display_name": "Python 3 (ipykernel)",
   "language": "python",
   "name": "python3"
  },
  "language_info": {
   "codemirror_mode": {
    "name": "ipython",
    "version": 3
   },
   "file_extension": ".py",
   "mimetype": "text/x-python",
   "name": "python",
   "nbconvert_exporter": "python",
   "pygments_lexer": "ipython3",
   "version": "3.8.10"
  }
 },
 "nbformat": 4,
 "nbformat_minor": 5
}
