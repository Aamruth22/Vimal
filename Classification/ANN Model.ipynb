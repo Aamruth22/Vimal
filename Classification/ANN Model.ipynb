{
 "cells": [
  {
   "cell_type": "code",
   "execution_count": 1,
   "id": "35f81470",
   "metadata": {},
   "outputs": [],
   "source": [
    "import pandas as pd\n",
    "import io\n",
    "import numpy as np\n",
    "import seaborn as s\n",
    "import matplotlib.pyplot as plt"
   ]
  },
  {
   "cell_type": "code",
   "execution_count": 2,
   "id": "7d180d4d",
   "metadata": {},
   "outputs": [],
   "source": [
    "df = pd.read_csv('/home/vimalkumar/Downloads/sonar_dataset.csv',header=None)"
   ]
  },
  {
   "cell_type": "code",
   "execution_count": 3,
   "id": "ed31a271",
   "metadata": {},
   "outputs": [
    {
     "data": {
      "text/html": [
       "<div>\n",
       "<style scoped>\n",
       "    .dataframe tbody tr th:only-of-type {\n",
       "        vertical-align: middle;\n",
       "    }\n",
       "\n",
       "    .dataframe tbody tr th {\n",
       "        vertical-align: top;\n",
       "    }\n",
       "\n",
       "    .dataframe thead th {\n",
       "        text-align: right;\n",
       "    }\n",
       "</style>\n",
       "<table border=\"1\" class=\"dataframe\">\n",
       "  <thead>\n",
       "    <tr style=\"text-align: right;\">\n",
       "      <th></th>\n",
       "      <th>0</th>\n",
       "      <th>1</th>\n",
       "      <th>2</th>\n",
       "      <th>3</th>\n",
       "      <th>4</th>\n",
       "      <th>5</th>\n",
       "      <th>6</th>\n",
       "      <th>7</th>\n",
       "      <th>8</th>\n",
       "      <th>9</th>\n",
       "      <th>...</th>\n",
       "      <th>51</th>\n",
       "      <th>52</th>\n",
       "      <th>53</th>\n",
       "      <th>54</th>\n",
       "      <th>55</th>\n",
       "      <th>56</th>\n",
       "      <th>57</th>\n",
       "      <th>58</th>\n",
       "      <th>59</th>\n",
       "      <th>60</th>\n",
       "    </tr>\n",
       "  </thead>\n",
       "  <tbody>\n",
       "    <tr>\n",
       "      <th>0</th>\n",
       "      <td>0.0200</td>\n",
       "      <td>0.0371</td>\n",
       "      <td>0.0428</td>\n",
       "      <td>0.0207</td>\n",
       "      <td>0.0954</td>\n",
       "      <td>0.0986</td>\n",
       "      <td>0.1539</td>\n",
       "      <td>0.1601</td>\n",
       "      <td>0.3109</td>\n",
       "      <td>0.2111</td>\n",
       "      <td>...</td>\n",
       "      <td>0.0027</td>\n",
       "      <td>0.0065</td>\n",
       "      <td>0.0159</td>\n",
       "      <td>0.0072</td>\n",
       "      <td>0.0167</td>\n",
       "      <td>0.0180</td>\n",
       "      <td>0.0084</td>\n",
       "      <td>0.0090</td>\n",
       "      <td>0.0032</td>\n",
       "      <td>R</td>\n",
       "    </tr>\n",
       "    <tr>\n",
       "      <th>1</th>\n",
       "      <td>0.0453</td>\n",
       "      <td>0.0523</td>\n",
       "      <td>0.0843</td>\n",
       "      <td>0.0689</td>\n",
       "      <td>0.1183</td>\n",
       "      <td>0.2583</td>\n",
       "      <td>0.2156</td>\n",
       "      <td>0.3481</td>\n",
       "      <td>0.3337</td>\n",
       "      <td>0.2872</td>\n",
       "      <td>...</td>\n",
       "      <td>0.0084</td>\n",
       "      <td>0.0089</td>\n",
       "      <td>0.0048</td>\n",
       "      <td>0.0094</td>\n",
       "      <td>0.0191</td>\n",
       "      <td>0.0140</td>\n",
       "      <td>0.0049</td>\n",
       "      <td>0.0052</td>\n",
       "      <td>0.0044</td>\n",
       "      <td>R</td>\n",
       "    </tr>\n",
       "    <tr>\n",
       "      <th>2</th>\n",
       "      <td>0.0262</td>\n",
       "      <td>0.0582</td>\n",
       "      <td>0.1099</td>\n",
       "      <td>0.1083</td>\n",
       "      <td>0.0974</td>\n",
       "      <td>0.2280</td>\n",
       "      <td>0.2431</td>\n",
       "      <td>0.3771</td>\n",
       "      <td>0.5598</td>\n",
       "      <td>0.6194</td>\n",
       "      <td>...</td>\n",
       "      <td>0.0232</td>\n",
       "      <td>0.0166</td>\n",
       "      <td>0.0095</td>\n",
       "      <td>0.0180</td>\n",
       "      <td>0.0244</td>\n",
       "      <td>0.0316</td>\n",
       "      <td>0.0164</td>\n",
       "      <td>0.0095</td>\n",
       "      <td>0.0078</td>\n",
       "      <td>R</td>\n",
       "    </tr>\n",
       "    <tr>\n",
       "      <th>3</th>\n",
       "      <td>0.0100</td>\n",
       "      <td>0.0171</td>\n",
       "      <td>0.0623</td>\n",
       "      <td>0.0205</td>\n",
       "      <td>0.0205</td>\n",
       "      <td>0.0368</td>\n",
       "      <td>0.1098</td>\n",
       "      <td>0.1276</td>\n",
       "      <td>0.0598</td>\n",
       "      <td>0.1264</td>\n",
       "      <td>...</td>\n",
       "      <td>0.0121</td>\n",
       "      <td>0.0036</td>\n",
       "      <td>0.0150</td>\n",
       "      <td>0.0085</td>\n",
       "      <td>0.0073</td>\n",
       "      <td>0.0050</td>\n",
       "      <td>0.0044</td>\n",
       "      <td>0.0040</td>\n",
       "      <td>0.0117</td>\n",
       "      <td>R</td>\n",
       "    </tr>\n",
       "    <tr>\n",
       "      <th>4</th>\n",
       "      <td>0.0762</td>\n",
       "      <td>0.0666</td>\n",
       "      <td>0.0481</td>\n",
       "      <td>0.0394</td>\n",
       "      <td>0.0590</td>\n",
       "      <td>0.0649</td>\n",
       "      <td>0.1209</td>\n",
       "      <td>0.2467</td>\n",
       "      <td>0.3564</td>\n",
       "      <td>0.4459</td>\n",
       "      <td>...</td>\n",
       "      <td>0.0031</td>\n",
       "      <td>0.0054</td>\n",
       "      <td>0.0105</td>\n",
       "      <td>0.0110</td>\n",
       "      <td>0.0015</td>\n",
       "      <td>0.0072</td>\n",
       "      <td>0.0048</td>\n",
       "      <td>0.0107</td>\n",
       "      <td>0.0094</td>\n",
       "      <td>R</td>\n",
       "    </tr>\n",
       "    <tr>\n",
       "      <th>...</th>\n",
       "      <td>...</td>\n",
       "      <td>...</td>\n",
       "      <td>...</td>\n",
       "      <td>...</td>\n",
       "      <td>...</td>\n",
       "      <td>...</td>\n",
       "      <td>...</td>\n",
       "      <td>...</td>\n",
       "      <td>...</td>\n",
       "      <td>...</td>\n",
       "      <td>...</td>\n",
       "      <td>...</td>\n",
       "      <td>...</td>\n",
       "      <td>...</td>\n",
       "      <td>...</td>\n",
       "      <td>...</td>\n",
       "      <td>...</td>\n",
       "      <td>...</td>\n",
       "      <td>...</td>\n",
       "      <td>...</td>\n",
       "      <td>...</td>\n",
       "    </tr>\n",
       "    <tr>\n",
       "      <th>203</th>\n",
       "      <td>0.0187</td>\n",
       "      <td>0.0346</td>\n",
       "      <td>0.0168</td>\n",
       "      <td>0.0177</td>\n",
       "      <td>0.0393</td>\n",
       "      <td>0.1630</td>\n",
       "      <td>0.2028</td>\n",
       "      <td>0.1694</td>\n",
       "      <td>0.2328</td>\n",
       "      <td>0.2684</td>\n",
       "      <td>...</td>\n",
       "      <td>0.0116</td>\n",
       "      <td>0.0098</td>\n",
       "      <td>0.0199</td>\n",
       "      <td>0.0033</td>\n",
       "      <td>0.0101</td>\n",
       "      <td>0.0065</td>\n",
       "      <td>0.0115</td>\n",
       "      <td>0.0193</td>\n",
       "      <td>0.0157</td>\n",
       "      <td>M</td>\n",
       "    </tr>\n",
       "    <tr>\n",
       "      <th>204</th>\n",
       "      <td>0.0323</td>\n",
       "      <td>0.0101</td>\n",
       "      <td>0.0298</td>\n",
       "      <td>0.0564</td>\n",
       "      <td>0.0760</td>\n",
       "      <td>0.0958</td>\n",
       "      <td>0.0990</td>\n",
       "      <td>0.1018</td>\n",
       "      <td>0.1030</td>\n",
       "      <td>0.2154</td>\n",
       "      <td>...</td>\n",
       "      <td>0.0061</td>\n",
       "      <td>0.0093</td>\n",
       "      <td>0.0135</td>\n",
       "      <td>0.0063</td>\n",
       "      <td>0.0063</td>\n",
       "      <td>0.0034</td>\n",
       "      <td>0.0032</td>\n",
       "      <td>0.0062</td>\n",
       "      <td>0.0067</td>\n",
       "      <td>M</td>\n",
       "    </tr>\n",
       "    <tr>\n",
       "      <th>205</th>\n",
       "      <td>0.0522</td>\n",
       "      <td>0.0437</td>\n",
       "      <td>0.0180</td>\n",
       "      <td>0.0292</td>\n",
       "      <td>0.0351</td>\n",
       "      <td>0.1171</td>\n",
       "      <td>0.1257</td>\n",
       "      <td>0.1178</td>\n",
       "      <td>0.1258</td>\n",
       "      <td>0.2529</td>\n",
       "      <td>...</td>\n",
       "      <td>0.0160</td>\n",
       "      <td>0.0029</td>\n",
       "      <td>0.0051</td>\n",
       "      <td>0.0062</td>\n",
       "      <td>0.0089</td>\n",
       "      <td>0.0140</td>\n",
       "      <td>0.0138</td>\n",
       "      <td>0.0077</td>\n",
       "      <td>0.0031</td>\n",
       "      <td>M</td>\n",
       "    </tr>\n",
       "    <tr>\n",
       "      <th>206</th>\n",
       "      <td>0.0303</td>\n",
       "      <td>0.0353</td>\n",
       "      <td>0.0490</td>\n",
       "      <td>0.0608</td>\n",
       "      <td>0.0167</td>\n",
       "      <td>0.1354</td>\n",
       "      <td>0.1465</td>\n",
       "      <td>0.1123</td>\n",
       "      <td>0.1945</td>\n",
       "      <td>0.2354</td>\n",
       "      <td>...</td>\n",
       "      <td>0.0086</td>\n",
       "      <td>0.0046</td>\n",
       "      <td>0.0126</td>\n",
       "      <td>0.0036</td>\n",
       "      <td>0.0035</td>\n",
       "      <td>0.0034</td>\n",
       "      <td>0.0079</td>\n",
       "      <td>0.0036</td>\n",
       "      <td>0.0048</td>\n",
       "      <td>M</td>\n",
       "    </tr>\n",
       "    <tr>\n",
       "      <th>207</th>\n",
       "      <td>0.0260</td>\n",
       "      <td>0.0363</td>\n",
       "      <td>0.0136</td>\n",
       "      <td>0.0272</td>\n",
       "      <td>0.0214</td>\n",
       "      <td>0.0338</td>\n",
       "      <td>0.0655</td>\n",
       "      <td>0.1400</td>\n",
       "      <td>0.1843</td>\n",
       "      <td>0.2354</td>\n",
       "      <td>...</td>\n",
       "      <td>0.0146</td>\n",
       "      <td>0.0129</td>\n",
       "      <td>0.0047</td>\n",
       "      <td>0.0039</td>\n",
       "      <td>0.0061</td>\n",
       "      <td>0.0040</td>\n",
       "      <td>0.0036</td>\n",
       "      <td>0.0061</td>\n",
       "      <td>0.0115</td>\n",
       "      <td>M</td>\n",
       "    </tr>\n",
       "  </tbody>\n",
       "</table>\n",
       "<p>208 rows × 61 columns</p>\n",
       "</div>"
      ],
      "text/plain": [
       "         0       1       2       3       4       5       6       7       8   \\\n",
       "0    0.0200  0.0371  0.0428  0.0207  0.0954  0.0986  0.1539  0.1601  0.3109   \n",
       "1    0.0453  0.0523  0.0843  0.0689  0.1183  0.2583  0.2156  0.3481  0.3337   \n",
       "2    0.0262  0.0582  0.1099  0.1083  0.0974  0.2280  0.2431  0.3771  0.5598   \n",
       "3    0.0100  0.0171  0.0623  0.0205  0.0205  0.0368  0.1098  0.1276  0.0598   \n",
       "4    0.0762  0.0666  0.0481  0.0394  0.0590  0.0649  0.1209  0.2467  0.3564   \n",
       "..      ...     ...     ...     ...     ...     ...     ...     ...     ...   \n",
       "203  0.0187  0.0346  0.0168  0.0177  0.0393  0.1630  0.2028  0.1694  0.2328   \n",
       "204  0.0323  0.0101  0.0298  0.0564  0.0760  0.0958  0.0990  0.1018  0.1030   \n",
       "205  0.0522  0.0437  0.0180  0.0292  0.0351  0.1171  0.1257  0.1178  0.1258   \n",
       "206  0.0303  0.0353  0.0490  0.0608  0.0167  0.1354  0.1465  0.1123  0.1945   \n",
       "207  0.0260  0.0363  0.0136  0.0272  0.0214  0.0338  0.0655  0.1400  0.1843   \n",
       "\n",
       "         9   ...      51      52      53      54      55      56      57  \\\n",
       "0    0.2111  ...  0.0027  0.0065  0.0159  0.0072  0.0167  0.0180  0.0084   \n",
       "1    0.2872  ...  0.0084  0.0089  0.0048  0.0094  0.0191  0.0140  0.0049   \n",
       "2    0.6194  ...  0.0232  0.0166  0.0095  0.0180  0.0244  0.0316  0.0164   \n",
       "3    0.1264  ...  0.0121  0.0036  0.0150  0.0085  0.0073  0.0050  0.0044   \n",
       "4    0.4459  ...  0.0031  0.0054  0.0105  0.0110  0.0015  0.0072  0.0048   \n",
       "..      ...  ...     ...     ...     ...     ...     ...     ...     ...   \n",
       "203  0.2684  ...  0.0116  0.0098  0.0199  0.0033  0.0101  0.0065  0.0115   \n",
       "204  0.2154  ...  0.0061  0.0093  0.0135  0.0063  0.0063  0.0034  0.0032   \n",
       "205  0.2529  ...  0.0160  0.0029  0.0051  0.0062  0.0089  0.0140  0.0138   \n",
       "206  0.2354  ...  0.0086  0.0046  0.0126  0.0036  0.0035  0.0034  0.0079   \n",
       "207  0.2354  ...  0.0146  0.0129  0.0047  0.0039  0.0061  0.0040  0.0036   \n",
       "\n",
       "         58      59  60  \n",
       "0    0.0090  0.0032   R  \n",
       "1    0.0052  0.0044   R  \n",
       "2    0.0095  0.0078   R  \n",
       "3    0.0040  0.0117   R  \n",
       "4    0.0107  0.0094   R  \n",
       "..      ...     ...  ..  \n",
       "203  0.0193  0.0157   M  \n",
       "204  0.0062  0.0067   M  \n",
       "205  0.0077  0.0031   M  \n",
       "206  0.0036  0.0048   M  \n",
       "207  0.0061  0.0115   M  \n",
       "\n",
       "[208 rows x 61 columns]"
      ]
     },
     "execution_count": 3,
     "metadata": {},
     "output_type": "execute_result"
    }
   ],
   "source": [
    "df"
   ]
  },
  {
   "cell_type": "code",
   "execution_count": 4,
   "id": "c95abbb4",
   "metadata": {},
   "outputs": [],
   "source": [
    "x = df.iloc[:,:-1]"
   ]
  },
  {
   "cell_type": "code",
   "execution_count": 5,
   "id": "e897d3ae",
   "metadata": {},
   "outputs": [
    {
     "data": {
      "text/plain": [
       "(208, 60)"
      ]
     },
     "execution_count": 5,
     "metadata": {},
     "output_type": "execute_result"
    }
   ],
   "source": [
    "x.shape"
   ]
  },
  {
   "cell_type": "code",
   "execution_count": 6,
   "id": "12ea8df9",
   "metadata": {},
   "outputs": [],
   "source": [
    "y = df.iloc[:,-1]"
   ]
  },
  {
   "cell_type": "code",
   "execution_count": 7,
   "id": "831a109f",
   "metadata": {},
   "outputs": [
    {
     "data": {
      "text/plain": [
       "(208,)"
      ]
     },
     "execution_count": 7,
     "metadata": {},
     "output_type": "execute_result"
    }
   ],
   "source": [
    "y.shape"
   ]
  },
  {
   "cell_type": "code",
   "execution_count": 8,
   "id": "0726c4b9",
   "metadata": {},
   "outputs": [],
   "source": [
    "from sklearn.preprocessing import LabelEncoder\n",
    "le = LabelEncoder()"
   ]
  },
  {
   "cell_type": "code",
   "execution_count": 9,
   "id": "0b6f32e5",
   "metadata": {},
   "outputs": [],
   "source": [
    "y = le.fit_transform(y)"
   ]
  },
  {
   "cell_type": "code",
   "execution_count": 10,
   "id": "28162d56",
   "metadata": {},
   "outputs": [
    {
     "data": {
      "text/plain": [
       "array([1, 1, 1, 1, 1])"
      ]
     },
     "execution_count": 10,
     "metadata": {},
     "output_type": "execute_result"
    }
   ],
   "source": [
    "y[:5]"
   ]
  },
  {
   "cell_type": "code",
   "execution_count": 11,
   "id": "9773815a",
   "metadata": {},
   "outputs": [],
   "source": [
    "from sklearn.model_selection import train_test_split"
   ]
  },
  {
   "cell_type": "code",
   "execution_count": 12,
   "id": "4aeee77a",
   "metadata": {},
   "outputs": [],
   "source": [
    "x_train,x_test,y_train,y_test = train_test_split(x,y,random_state=8,test_size=0.15)"
   ]
  },
  {
   "cell_type": "code",
   "execution_count": 13,
   "id": "a3440f65",
   "metadata": {},
   "outputs": [
    {
     "data": {
      "text/plain": [
       "((176, 60), (176,), (32, 60), (32,))"
      ]
     },
     "execution_count": 13,
     "metadata": {},
     "output_type": "execute_result"
    }
   ],
   "source": [
    "x_train.shape,y_train.shape,x_test.shape,y_test.shape"
   ]
  },
  {
   "cell_type": "code",
   "execution_count": 14,
   "id": "053f4adf",
   "metadata": {},
   "outputs": [
    {
     "name": "stderr",
     "output_type": "stream",
     "text": [
      "2021-12-28 10:58:17.225407: W tensorflow/stream_executor/platform/default/dso_loader.cc:64] Could not load dynamic library 'libcudart.so.11.0'; dlerror: libcudart.so.11.0: cannot open shared object file: No such file or directory\n",
      "2021-12-28 10:58:17.225447: I tensorflow/stream_executor/cuda/cudart_stub.cc:29] Ignore above cudart dlerror if you do not have a GPU set up on your machine.\n"
     ]
    }
   ],
   "source": [
    "import keras\n",
    "from keras.models import Sequential\n",
    "from keras.layers import Dense,Dropout\n"
   ]
  },
  {
   "cell_type": "code",
   "execution_count": 15,
   "id": "ddd3689d",
   "metadata": {},
   "outputs": [
    {
     "data": {
      "text/plain": [
       "16.0"
      ]
     },
     "execution_count": 15,
     "metadata": {},
     "output_type": "execute_result"
    }
   ],
   "source": [
    "(31+1)/2"
   ]
  },
  {
   "cell_type": "code",
   "execution_count": 16,
   "id": "0890ff06",
   "metadata": {},
   "outputs": [
    {
     "name": "stderr",
     "output_type": "stream",
     "text": [
      "2021-12-28 10:58:32.033826: W tensorflow/stream_executor/platform/default/dso_loader.cc:64] Could not load dynamic library 'libcuda.so.1'; dlerror: libcuda.so.1: cannot open shared object file: No such file or directory\n",
      "2021-12-28 10:58:32.033859: W tensorflow/stream_executor/cuda/cuda_driver.cc:269] failed call to cuInit: UNKNOWN ERROR (303)\n",
      "2021-12-28 10:58:32.033879: I tensorflow/stream_executor/cuda/cuda_diagnostics.cc:156] kernel driver does not appear to be running on this host (IG154): /proc/driver/nvidia/version does not exist\n",
      "2021-12-28 10:58:32.034058: I tensorflow/core/platform/cpu_feature_guard.cc:142] This TensorFlow binary is optimized with oneAPI Deep Neural Network Library (oneDNN) to use the following CPU instructions in performance-critical operations:  AVX2 AVX512F FMA\n",
      "To enable them in other operations, rebuild TensorFlow with the appropriate compiler flags.\n"
     ]
    }
   ],
   "source": [
    "model = Sequential()\n",
    "model.add(Dense(units=32,activation='relu',kernel_initializer='uniform',input_dim=60))\n",
    "model.add(Dense(units=32,activation='relu',kernel_initializer='uniform'))\n",
    "model.add(Dropout(0.25))\n",
    "model.add(Dense(units=16,activation='relu',kernel_initializer='uniform'))\n",
    "model.add(Dropout(0.25))\n",
    "model.add(Dense(units=1,activation='sigmoid',kernel_initializer='uniform'))"
   ]
  },
  {
   "cell_type": "code",
   "execution_count": 19,
   "id": "4fb45452",
   "metadata": {},
   "outputs": [],
   "source": [
    "model.compile(\n",
    "loss = 'binary_crossentropy',\n",
    "#optimizer = 'SGD',\n",
    "metrics = 'Accuracy')"
   ]
  },
  {
   "cell_type": "code",
   "execution_count": 20,
   "id": "cf6ac209",
   "metadata": {},
   "outputs": [
    {
     "name": "stdout",
     "output_type": "stream",
     "text": [
      "Epoch 1/100\n",
      "88/88 [==============================] - 1s 1ms/step - loss: 0.6933 - Accuracy: 0.5057\n",
      "Epoch 2/100\n",
      "88/88 [==============================] - 0s 1ms/step - loss: 0.6931 - Accuracy: 0.5114\n",
      "Epoch 3/100\n",
      "88/88 [==============================] - 0s 1ms/step - loss: 0.6922 - Accuracy: 0.5057\n",
      "Epoch 4/100\n",
      "88/88 [==============================] - 0s 1ms/step - loss: 0.6887 - Accuracy: 0.6080\n",
      "Epoch 5/100\n",
      "88/88 [==============================] - 0s 1ms/step - loss: 0.6810 - Accuracy: 0.6477\n",
      "Epoch 6/100\n",
      "88/88 [==============================] - 0s 1ms/step - loss: 0.6641 - Accuracy: 0.7102\n",
      "Epoch 7/100\n",
      "88/88 [==============================] - 0s 2ms/step - loss: 0.6354 - Accuracy: 0.7045\n",
      "Epoch 8/100\n",
      "88/88 [==============================] - 0s 1ms/step - loss: 0.5759 - Accuracy: 0.7386\n",
      "Epoch 9/100\n",
      "88/88 [==============================] - 0s 1ms/step - loss: 0.5677 - Accuracy: 0.7557\n",
      "Epoch 10/100\n",
      "88/88 [==============================] - 0s 1ms/step - loss: 0.5374 - Accuracy: 0.7670\n",
      "Epoch 11/100\n",
      "88/88 [==============================] - 0s 1ms/step - loss: 0.4915 - Accuracy: 0.7670\n",
      "Epoch 12/100\n",
      "88/88 [==============================] - 0s 1ms/step - loss: 0.4711 - Accuracy: 0.7727\n",
      "Epoch 13/100\n",
      "88/88 [==============================] - 0s 1ms/step - loss: 0.4420 - Accuracy: 0.7898\n",
      "Epoch 14/100\n",
      "88/88 [==============================] - 0s 1ms/step - loss: 0.4745 - Accuracy: 0.7727\n",
      "Epoch 15/100\n",
      "88/88 [==============================] - 0s 1ms/step - loss: 0.4204 - Accuracy: 0.8295\n",
      "Epoch 16/100\n",
      "88/88 [==============================] - 0s 1ms/step - loss: 0.4289 - Accuracy: 0.8011\n",
      "Epoch 17/100\n",
      "88/88 [==============================] - 0s 2ms/step - loss: 0.4385 - Accuracy: 0.8295\n",
      "Epoch 18/100\n",
      "88/88 [==============================] - 0s 2ms/step - loss: 0.4213 - Accuracy: 0.8239\n",
      "Epoch 19/100\n",
      "88/88 [==============================] - 0s 2ms/step - loss: 0.4598 - Accuracy: 0.7955\n",
      "Epoch 20/100\n",
      "88/88 [==============================] - 0s 2ms/step - loss: 0.4400 - Accuracy: 0.8011\n",
      "Epoch 21/100\n",
      "88/88 [==============================] - 0s 2ms/step - loss: 0.4283 - Accuracy: 0.7898\n",
      "Epoch 22/100\n",
      "88/88 [==============================] - 0s 1ms/step - loss: 0.4164 - Accuracy: 0.7955\n",
      "Epoch 23/100\n",
      "88/88 [==============================] - 0s 1ms/step - loss: 0.3839 - Accuracy: 0.8580\n",
      "Epoch 24/100\n",
      "88/88 [==============================] - 0s 2ms/step - loss: 0.4031 - Accuracy: 0.8352\n",
      "Epoch 25/100\n",
      "88/88 [==============================] - 0s 2ms/step - loss: 0.4125 - Accuracy: 0.7784\n",
      "Epoch 26/100\n",
      "88/88 [==============================] - 0s 1ms/step - loss: 0.3796 - Accuracy: 0.8352\n",
      "Epoch 27/100\n",
      "88/88 [==============================] - 0s 1ms/step - loss: 0.3594 - Accuracy: 0.8523\n",
      "Epoch 28/100\n",
      "88/88 [==============================] - 0s 1ms/step - loss: 0.4051 - Accuracy: 0.8125\n",
      "Epoch 29/100\n",
      "88/88 [==============================] - 0s 2ms/step - loss: 0.3709 - Accuracy: 0.8466\n",
      "Epoch 30/100\n",
      "88/88 [==============================] - 0s 2ms/step - loss: 0.4012 - Accuracy: 0.8295\n",
      "Epoch 31/100\n",
      "88/88 [==============================] - 0s 1ms/step - loss: 0.3922 - Accuracy: 0.8239\n",
      "Epoch 32/100\n",
      "88/88 [==============================] - 0s 1ms/step - loss: 0.3542 - Accuracy: 0.8295\n",
      "Epoch 33/100\n",
      "88/88 [==============================] - 0s 1ms/step - loss: 0.3752 - Accuracy: 0.8523\n",
      "Epoch 34/100\n",
      "88/88 [==============================] - 0s 1ms/step - loss: 0.3933 - Accuracy: 0.8409\n",
      "Epoch 35/100\n",
      "88/88 [==============================] - 0s 1ms/step - loss: 0.3809 - Accuracy: 0.8523\n",
      "Epoch 36/100\n",
      "88/88 [==============================] - 0s 1ms/step - loss: 0.3572 - Accuracy: 0.8466\n",
      "Epoch 37/100\n",
      "88/88 [==============================] - 0s 1ms/step - loss: 0.3701 - Accuracy: 0.8409\n",
      "Epoch 38/100\n",
      "88/88 [==============================] - 0s 1ms/step - loss: 0.3733 - Accuracy: 0.8352\n",
      "Epoch 39/100\n",
      "88/88 [==============================] - 0s 1ms/step - loss: 0.3424 - Accuracy: 0.8409\n",
      "Epoch 40/100\n",
      "88/88 [==============================] - 0s 1ms/step - loss: 0.3470 - Accuracy: 0.8580\n",
      "Epoch 41/100\n",
      "88/88 [==============================] - 0s 1ms/step - loss: 0.3440 - Accuracy: 0.8580\n",
      "Epoch 42/100\n",
      "88/88 [==============================] - 0s 1ms/step - loss: 0.3658 - Accuracy: 0.8182\n",
      "Epoch 43/100\n",
      "88/88 [==============================] - 0s 1ms/step - loss: 0.3307 - Accuracy: 0.8580\n",
      "Epoch 44/100\n",
      "88/88 [==============================] - 0s 1ms/step - loss: 0.3357 - Accuracy: 0.8295\n",
      "Epoch 45/100\n",
      "88/88 [==============================] - 0s 1ms/step - loss: 0.3480 - Accuracy: 0.8466\n",
      "Epoch 46/100\n",
      "88/88 [==============================] - 0s 1ms/step - loss: 0.3557 - Accuracy: 0.8523\n",
      "Epoch 47/100\n",
      "88/88 [==============================] - 0s 1ms/step - loss: 0.3290 - Accuracy: 0.8693\n",
      "Epoch 48/100\n",
      "88/88 [==============================] - 0s 1ms/step - loss: 0.3394 - Accuracy: 0.8409\n",
      "Epoch 49/100\n",
      "88/88 [==============================] - 0s 1ms/step - loss: 0.3211 - Accuracy: 0.8466\n",
      "Epoch 50/100\n",
      "88/88 [==============================] - 0s 1ms/step - loss: 0.3385 - Accuracy: 0.8466\n",
      "Epoch 51/100\n",
      "88/88 [==============================] - 0s 1ms/step - loss: 0.3245 - Accuracy: 0.8580\n",
      "Epoch 52/100\n",
      "88/88 [==============================] - 0s 1ms/step - loss: 0.3419 - Accuracy: 0.8807\n",
      "Epoch 53/100\n",
      "88/88 [==============================] - 0s 1ms/step - loss: 0.3227 - Accuracy: 0.8580\n",
      "Epoch 54/100\n",
      "88/88 [==============================] - 0s 1ms/step - loss: 0.3272 - Accuracy: 0.8807\n",
      "Epoch 55/100\n",
      "88/88 [==============================] - 0s 1ms/step - loss: 0.3083 - Accuracy: 0.8807\n",
      "Epoch 56/100\n",
      "88/88 [==============================] - 0s 1ms/step - loss: 0.3272 - Accuracy: 0.8693\n",
      "Epoch 57/100\n",
      "88/88 [==============================] - 0s 1ms/step - loss: 0.2945 - Accuracy: 0.8523\n",
      "Epoch 58/100\n",
      "88/88 [==============================] - 0s 1ms/step - loss: 0.3066 - Accuracy: 0.8750\n",
      "Epoch 59/100\n",
      "88/88 [==============================] - 0s 1ms/step - loss: 0.2887 - Accuracy: 0.8750\n",
      "Epoch 60/100\n",
      "88/88 [==============================] - 0s 1ms/step - loss: 0.3306 - Accuracy: 0.8807\n",
      "Epoch 61/100\n",
      "88/88 [==============================] - 0s 1ms/step - loss: 0.3336 - Accuracy: 0.8523\n",
      "Epoch 62/100\n",
      "88/88 [==============================] - 0s 2ms/step - loss: 0.2586 - Accuracy: 0.8693\n",
      "Epoch 63/100\n",
      "88/88 [==============================] - 0s 1ms/step - loss: 0.2672 - Accuracy: 0.8750\n",
      "Epoch 64/100\n",
      "88/88 [==============================] - 0s 1ms/step - loss: 0.2974 - Accuracy: 0.8807\n",
      "Epoch 65/100\n",
      "88/88 [==============================] - 0s 1ms/step - loss: 0.2640 - Accuracy: 0.8750\n",
      "Epoch 66/100\n",
      "88/88 [==============================] - 0s 1ms/step - loss: 0.2707 - Accuracy: 0.8920\n",
      "Epoch 67/100\n",
      "88/88 [==============================] - 0s 1ms/step - loss: 0.2713 - Accuracy: 0.8750\n",
      "Epoch 68/100\n",
      "88/88 [==============================] - 0s 1ms/step - loss: 0.2550 - Accuracy: 0.8864\n",
      "Epoch 69/100\n",
      "88/88 [==============================] - 0s 1ms/step - loss: 0.2499 - Accuracy: 0.9034\n",
      "Epoch 70/100\n",
      "88/88 [==============================] - 0s 1ms/step - loss: 0.2637 - Accuracy: 0.9034\n",
      "Epoch 71/100\n",
      "88/88 [==============================] - 0s 1ms/step - loss: 0.2261 - Accuracy: 0.8864\n",
      "Epoch 72/100\n",
      "88/88 [==============================] - 0s 1ms/step - loss: 0.2527 - Accuracy: 0.8807\n",
      "Epoch 73/100\n",
      "88/88 [==============================] - 0s 1ms/step - loss: 0.2537 - Accuracy: 0.8864\n",
      "Epoch 74/100\n",
      "88/88 [==============================] - 0s 1ms/step - loss: 0.2382 - Accuracy: 0.8977\n",
      "Epoch 75/100\n",
      "88/88 [==============================] - 0s 1ms/step - loss: 0.2471 - Accuracy: 0.9034\n",
      "Epoch 76/100\n",
      "88/88 [==============================] - 0s 1ms/step - loss: 0.2274 - Accuracy: 0.9034\n",
      "Epoch 77/100\n",
      "88/88 [==============================] - 0s 1ms/step - loss: 0.2167 - Accuracy: 0.9148\n",
      "Epoch 78/100\n",
      "88/88 [==============================] - 0s 1ms/step - loss: 0.2699 - Accuracy: 0.8864\n",
      "Epoch 79/100\n",
      "88/88 [==============================] - 0s 1ms/step - loss: 0.2371 - Accuracy: 0.8920\n",
      "Epoch 80/100\n",
      "88/88 [==============================] - 0s 1ms/step - loss: 0.2160 - Accuracy: 0.9034\n",
      "Epoch 81/100\n",
      "88/88 [==============================] - 0s 2ms/step - loss: 0.2471 - Accuracy: 0.9034\n",
      "Epoch 82/100\n",
      "88/88 [==============================] - 0s 2ms/step - loss: 0.2271 - Accuracy: 0.9034\n",
      "Epoch 83/100\n"
     ]
    },
    {
     "name": "stdout",
     "output_type": "stream",
     "text": [
      "88/88 [==============================] - 0s 1ms/step - loss: 0.1938 - Accuracy: 0.9091\n",
      "Epoch 84/100\n",
      "88/88 [==============================] - 0s 1ms/step - loss: 0.2044 - Accuracy: 0.9148\n",
      "Epoch 85/100\n",
      "88/88 [==============================] - 0s 1ms/step - loss: 0.2153 - Accuracy: 0.8977\n",
      "Epoch 86/100\n",
      "88/88 [==============================] - 0s 1ms/step - loss: 0.2123 - Accuracy: 0.8977\n",
      "Epoch 87/100\n",
      "88/88 [==============================] - 0s 1ms/step - loss: 0.2237 - Accuracy: 0.9091\n",
      "Epoch 88/100\n",
      "88/88 [==============================] - 0s 1ms/step - loss: 0.2366 - Accuracy: 0.9148\n",
      "Epoch 89/100\n",
      "88/88 [==============================] - 0s 1ms/step - loss: 0.1867 - Accuracy: 0.9205\n",
      "Epoch 90/100\n",
      "88/88 [==============================] - 0s 1ms/step - loss: 0.1832 - Accuracy: 0.9318\n",
      "Epoch 91/100\n",
      "88/88 [==============================] - 0s 1ms/step - loss: 0.2012 - Accuracy: 0.9318\n",
      "Epoch 92/100\n",
      "88/88 [==============================] - 0s 1ms/step - loss: 0.1983 - Accuracy: 0.9091\n",
      "Epoch 93/100\n",
      "88/88 [==============================] - 0s 1ms/step - loss: 0.1751 - Accuracy: 0.9148\n",
      "Epoch 94/100\n",
      "88/88 [==============================] - 0s 1ms/step - loss: 0.2190 - Accuracy: 0.9261\n",
      "Epoch 95/100\n",
      "88/88 [==============================] - 0s 1ms/step - loss: 0.1948 - Accuracy: 0.9148\n",
      "Epoch 96/100\n",
      "88/88 [==============================] - 0s 1ms/step - loss: 0.1871 - Accuracy: 0.9205\n",
      "Epoch 97/100\n",
      "88/88 [==============================] - 0s 1ms/step - loss: 0.1890 - Accuracy: 0.8977\n",
      "Epoch 98/100\n",
      "88/88 [==============================] - 0s 1ms/step - loss: 0.1724 - Accuracy: 0.9091\n",
      "Epoch 99/100\n",
      "88/88 [==============================] - 0s 1ms/step - loss: 0.1903 - Accuracy: 0.9318\n",
      "Epoch 100/100\n",
      "88/88 [==============================] - 0s 1ms/step - loss: 0.1671 - Accuracy: 0.9318\n"
     ]
    },
    {
     "data": {
      "text/plain": [
       "<keras.callbacks.History at 0x7f0abc23aeb0>"
      ]
     },
     "execution_count": 20,
     "metadata": {},
     "output_type": "execute_result"
    }
   ],
   "source": [
    "model.fit(x_train,y_train,verbose=True,epochs=100,batch_size=2)"
   ]
  },
  {
   "cell_type": "code",
   "execution_count": 21,
   "id": "5ab0c114",
   "metadata": {},
   "outputs": [
    {
     "data": {
      "text/plain": [
       "array([[3.24448109e-01],\n",
       "       [4.01949774e-06],\n",
       "       [1.09108686e-02],\n",
       "       [4.17214632e-03],\n",
       "       [3.49124966e-05],\n",
       "       [9.99947309e-01],\n",
       "       [1.00000000e+00],\n",
       "       [3.32629681e-03],\n",
       "       [4.73550558e-02],\n",
       "       [1.23658776e-03],\n",
       "       [8.94212961e-01],\n",
       "       [6.41420215e-08],\n",
       "       [4.83616233e-01],\n",
       "       [2.29775906e-03],\n",
       "       [9.98038769e-01],\n",
       "       [1.04728341e-03],\n",
       "       [1.34340525e-02],\n",
       "       [2.12180912e-02],\n",
       "       [1.31815672e-03],\n",
       "       [1.00000000e+00],\n",
       "       [1.29899383e-03],\n",
       "       [9.99941587e-01],\n",
       "       [9.99374568e-01],\n",
       "       [3.32318377e-05],\n",
       "       [5.89758158e-04],\n",
       "       [8.06897879e-04],\n",
       "       [2.01431194e-05],\n",
       "       [6.20552301e-01],\n",
       "       [9.19966894e-08],\n",
       "       [3.47757518e-01],\n",
       "       [1.00000000e+00],\n",
       "       [4.83761132e-02]], dtype=float32)"
      ]
     },
     "execution_count": 21,
     "metadata": {},
     "output_type": "execute_result"
    }
   ],
   "source": [
    "y_pred = model.predict(x_test)\n",
    "y_pred"
   ]
  },
  {
   "cell_type": "code",
   "execution_count": 22,
   "id": "1a3512a7",
   "metadata": {},
   "outputs": [
    {
     "data": {
      "text/plain": [
       "M    111\n",
       "R     97\n",
       "Name: 60, dtype: int64"
      ]
     },
     "execution_count": 22,
     "metadata": {},
     "output_type": "execute_result"
    }
   ],
   "source": [
    "df.iloc[:,-1].value_counts()"
   ]
  },
  {
   "cell_type": "code",
   "execution_count": 23,
   "id": "a3de7ea5",
   "metadata": {},
   "outputs": [
    {
     "data": {
      "text/plain": [
       "0    111\n",
       "1     97\n",
       "dtype: int64"
      ]
     },
     "execution_count": 23,
     "metadata": {},
     "output_type": "execute_result"
    }
   ],
   "source": [
    "pd.DataFrame(y).value_counts()"
   ]
  },
  {
   "cell_type": "code",
   "execution_count": 24,
   "id": "2768d03b",
   "metadata": {},
   "outputs": [],
   "source": [
    "y_pred = y_pred.astype(int)"
   ]
  },
  {
   "cell_type": "code",
   "execution_count": 25,
   "id": "aab518dd",
   "metadata": {},
   "outputs": [],
   "source": [
    "from sklearn.metrics import confusion_matrix,accuracy_score"
   ]
  },
  {
   "cell_type": "code",
   "execution_count": 26,
   "id": "7b1d81f4",
   "metadata": {},
   "outputs": [
    {
     "data": {
      "text/plain": [
       "array([[22,  0],\n",
       "       [ 7,  3]])"
      ]
     },
     "execution_count": 26,
     "metadata": {},
     "output_type": "execute_result"
    }
   ],
   "source": [
    "confusion_matrix(y_test,y_pred)"
   ]
  },
  {
   "cell_type": "code",
   "execution_count": 27,
   "id": "5039532d",
   "metadata": {},
   "outputs": [
    {
     "data": {
      "text/plain": [
       "0.78125"
      ]
     },
     "execution_count": 27,
     "metadata": {},
     "output_type": "execute_result"
    }
   ],
   "source": [
    "accuracy_score(y_test,y_pred)"
   ]
  },
  {
   "cell_type": "code",
   "execution_count": null,
   "id": "6d86427a",
   "metadata": {},
   "outputs": [],
   "source": []
  }
 ],
 "metadata": {
  "kernelspec": {
   "display_name": "Python 3 (ipykernel)",
   "language": "python",
   "name": "python3"
  },
  "language_info": {
   "codemirror_mode": {
    "name": "ipython",
    "version": 3
   },
   "file_extension": ".py",
   "mimetype": "text/x-python",
   "name": "python",
   "nbconvert_exporter": "python",
   "pygments_lexer": "ipython3",
   "version": "3.8.10"
  }
 },
 "nbformat": 4,
 "nbformat_minor": 5
}
