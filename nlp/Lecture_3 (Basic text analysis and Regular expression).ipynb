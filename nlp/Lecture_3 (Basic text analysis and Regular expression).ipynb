{
 "cells": [
  {
   "cell_type": "markdown",
   "metadata": {
    "id": "Ex4hIftWeILb"
   },
   "source": [
    "# Basic Text Manipulatioon\n",
    "Day 3 includes all the practical implementation of the basic text manipulation and Regular expressions"
   ]
  },
  {
   "cell_type": "code",
   "execution_count": 2,
   "metadata": {
    "colab": {
     "base_uri": "https://localhost:8080/"
    },
    "executionInfo": {
     "elapsed": 375,
     "status": "ok",
     "timestamp": 1636695761558,
     "user": {
      "displayName": "Gurjot Singh",
      "photoUrl": "https://lh3.googleusercontent.com/a/default-user=s64",
      "userId": "01928984876269574971"
     },
     "user_tz": -330
    },
    "id": "syLTQpT8eRxa",
    "outputId": "e8f4ddce-b337-4033-97c7-5e11aaf61b9a"
   },
   "outputs": [
    {
     "name": "stdout",
     "output_type": "stream",
     "text": [
      "not equal\n"
     ]
    }
   ],
   "source": [
    "x = 'gurjot'\n",
    "y = 'gurjot_1'\n",
    "if (x==y):\n",
    "  print(\"both strings are equal\")\n",
    "else:\n",
    "  print(\"not equal\")"
   ]
  },
  {
   "cell_type": "code",
   "execution_count": 14,
   "metadata": {
    "colab": {
     "base_uri": "https://localhost:8080/"
    },
    "executionInfo": {
     "elapsed": 379,
     "status": "ok",
     "timestamp": 1636696139343,
     "user": {
      "displayName": "Gurjot Singh",
      "photoUrl": "https://lh3.googleusercontent.com/a/default-user=s64",
      "userId": "01928984876269574971"
     },
     "user_tz": -330
    },
    "id": "GEH7OfjQq6-p",
    "outputId": "bdea4fea-ff36-49f4-fe02-4b3f6f45ecb2"
   },
   "outputs": [
    {
     "name": "stdout",
     "output_type": "stream",
     "text": [
      "my \n",
      "name \n",
      "is gurjot\n",
      "['my ', 'name ', 'is gurjot']\n",
      "my \n",
      "am\n"
     ]
    }
   ],
   "source": [
    "multiline = \"\"\"my \n",
    "name \n",
    "is gurjot\"\"\"\n",
    "print(multiline)\n",
    "\n",
    "line = multiline.split(\"\\n\")\n",
    "print(line)\n",
    "print(line[0])\n",
    "print(line[1][1:3])"
   ]
  },
  {
   "cell_type": "code",
   "execution_count": 15,
   "metadata": {
    "executionInfo": {
     "elapsed": 362,
     "status": "ok",
     "timestamp": 1636696187428,
     "user": {
      "displayName": "Gurjot Singh",
      "photoUrl": "https://lh3.googleusercontent.com/a/default-user=s64",
      "userId": "01928984876269574971"
     },
     "user_tz": -330
    },
    "id": "tKhb5f1CsWhm"
   },
   "outputs": [],
   "source": [
    "fox = 'the Quick Brown fox JUMPS the CAge'"
   ]
  },
  {
   "cell_type": "code",
   "execution_count": 21,
   "metadata": {
    "colab": {
     "base_uri": "https://localhost:8080/"
    },
    "executionInfo": {
     "elapsed": 537,
     "status": "ok",
     "timestamp": 1636696346876,
     "user": {
      "displayName": "Gurjot Singh",
      "photoUrl": "https://lh3.googleusercontent.com/a/default-user=s64",
      "userId": "01928984876269574971"
     },
     "user_tz": -330
    },
    "id": "ic2p73mcseub",
    "outputId": "77855859-8243-4b77-f369-8bbbe640c9ac"
   },
   "outputs": [
    {
     "name": "stdout",
     "output_type": "stream",
     "text": [
      "THE QUICK BROWN FOX JUMPS THE CAGE\n",
      "the quick brown fox jumps the cage\n",
      "The quick brown fox jumps the cage\n",
      "THE qUICK bROWN FOX jumps THE caGE\n",
      "The Quick Brown Fox Jumps The Cage\n"
     ]
    }
   ],
   "source": [
    "print(fox.upper())\n",
    "print(fox.lower())\n",
    "print(fox.capitalize())\n",
    "print(fox.swapcase())\n",
    "print(fox.title())"
   ]
  },
  {
   "cell_type": "code",
   "execution_count": 22,
   "metadata": {
    "executionInfo": {
     "elapsed": 566,
     "status": "ok",
     "timestamp": 1636696403352,
     "user": {
      "displayName": "Gurjot Singh",
      "photoUrl": "https://lh3.googleusercontent.com/a/default-user=s64",
      "userId": "01928984876269574971"
     },
     "user_tz": -330
    },
    "id": "omo9d-A9tNqi"
   },
   "outputs": [],
   "source": [
    "line = \"                    my company is Infognana               \""
   ]
  },
  {
   "cell_type": "code",
   "execution_count": 25,
   "metadata": {
    "colab": {
     "base_uri": "https://localhost:8080/"
    },
    "executionInfo": {
     "elapsed": 385,
     "status": "ok",
     "timestamp": 1636696445376,
     "user": {
      "displayName": "Gurjot Singh",
      "photoUrl": "https://lh3.googleusercontent.com/a/default-user=s64",
      "userId": "01928984876269574971"
     },
     "user_tz": -330
    },
    "id": "fT2RhORTtTH6",
    "outputId": "27d974ba-365e-49e9-8dc4-ac5e55583c61"
   },
   "outputs": [
    {
     "name": "stdout",
     "output_type": "stream",
     "text": [
      "my company is Infognana\n",
      "                    my company is Infognana\n",
      "my company is Infognana               \n"
     ]
    }
   ],
   "source": [
    "print(line.strip()) # strip all spaces from right and left side of string\n",
    "print(line.rstrip()) # strip all spaces from right side of string\n",
    "print(line.lstrip()) # strip all spaces from left side of string"
   ]
  },
  {
   "cell_type": "code",
   "execution_count": 33,
   "metadata": {
    "colab": {
     "base_uri": "https://localhost:8080/"
    },
    "executionInfo": {
     "elapsed": 513,
     "status": "ok",
     "timestamp": 1636697401102,
     "user": {
      "displayName": "Gurjot Singh",
      "photoUrl": "https://lh3.googleusercontent.com/a/default-user=s64",
      "userId": "01928984876269574971"
     },
     "user_tz": -330
    },
    "id": "YZWQPAd8teP_",
    "outputId": "34a5888f-1efc-4008-f738-0f81ad2aa1a1"
   },
   "outputs": [
    {
     "name": "stdout",
     "output_type": "stream",
     "text": [
      "000000011\n",
      "999999999999999111111111\n",
      "999999999999999000000gur\n",
      "999999999999999gurgur011\n",
      "999999999999999gur000011\n"
     ]
    }
   ],
   "source": [
    "number = \"999999999999999000000011\"\n",
    "print(number.strip('9')) # strip all 9 in number string\n",
    "print(number.replace('0','1')) # Replace all 0 with 1\n",
    "print(number.replace('011','gur')) # Replace 001 with gur\n",
    "print(number.replace('000','gur')) # Replace all match of 000\n",
    "print(number.replace(\"000\",\"gur\",1)) # Replaces only the first match"
   ]
  },
  {
   "cell_type": "code",
   "execution_count": 1,
   "metadata": {
    "colab": {
     "base_uri": "https://localhost:8080/"
    },
    "executionInfo": {
     "elapsed": 377,
     "status": "ok",
     "timestamp": 1636699373518,
     "user": {
      "displayName": "Gurjot Singh",
      "photoUrl": "https://lh3.googleusercontent.com/a/default-user=s64",
      "userId": "01928984876269574971"
     },
     "user_tz": -330
    },
    "id": "QOXAqzm3xU-c",
    "outputId": "e882265e-5d17-4666-9c55-b994bdd60c84"
   },
   "outputs": [
    {
     "name": "stdout",
     "output_type": "stream",
     "text": [
      "15\n",
      "999999999999999gur000011\n",
      "15\n",
      "9999vijayoppppp000000011\n"
     ]
    }
   ],
   "source": [
    "number = \"999999999999999000000011\"\n",
    "# Replace first appearance of 000 using index\n",
    "index = number.find('000')\n",
    "print(index)\n",
    "replace = 'gur'\n",
    "number = number[:index] + \"gur\" + number[index+len(replace):]\n",
    "print(number)\n",
    "# Replace user defined string with \n",
    "# character appearing before first 000 using index\n",
    "number = \"999999999999888000000011\"\n",
    "index = number.find('000')\n",
    "print(index)\n",
    "u_d_string = 'vijayoppppp'\n",
    "number = number[:index-len(u_d_string)] + u_d_string + number[index:]\n",
    "print(number)"
   ]
  },
  {
   "cell_type": "code",
   "execution_count": 47,
   "metadata": {
    "colab": {
     "base_uri": "https://localhost:8080/",
     "height": 201
    },
    "executionInfo": {
     "elapsed": 365,
     "status": "error",
     "timestamp": 1636699522269,
     "user": {
      "displayName": "Gurjot Singh",
      "photoUrl": "https://lh3.googleusercontent.com/a/default-user=s64",
      "userId": "01928984876269574971"
     },
     "user_tz": -330
    },
    "id": "cSg5khkW43Pg",
    "outputId": "196dc948-0b82-414d-c86e-78e3fe2b543d"
   },
   "outputs": [
    {
     "name": "stdout",
     "output_type": "stream",
     "text": [
      "-1\n"
     ]
    },
    {
     "ename": "ValueError",
     "evalue": "ignored",
     "output_type": "error",
     "traceback": [
      "\u001b[0;31m---------------------------------------------------------------------------\u001b[0m",
      "\u001b[0;31mValueError\u001b[0m                                Traceback (most recent call last)",
      "\u001b[0;32m<ipython-input-47-61683bddaf51>\u001b[0m in \u001b[0;36m<module>\u001b[0;34m()\u001b[0m\n\u001b[1;32m      1\u001b[0m \u001b[0mprint\u001b[0m\u001b[0;34m(\u001b[0m\u001b[0mnumber\u001b[0m\u001b[0;34m.\u001b[0m\u001b[0mfind\u001b[0m\u001b[0;34m(\u001b[0m\u001b[0;34m'55'\u001b[0m\u001b[0;34m)\u001b[0m\u001b[0;34m)\u001b[0m\u001b[0;34m\u001b[0m\u001b[0;34m\u001b[0m\u001b[0m\n\u001b[0;32m----> 2\u001b[0;31m \u001b[0mprint\u001b[0m\u001b[0;34m(\u001b[0m\u001b[0mnumber\u001b[0m\u001b[0;34m.\u001b[0m\u001b[0mindex\u001b[0m\u001b[0;34m(\u001b[0m\u001b[0;34m'55'\u001b[0m\u001b[0;34m)\u001b[0m\u001b[0;34m)\u001b[0m\u001b[0;34m\u001b[0m\u001b[0;34m\u001b[0m\u001b[0m\n\u001b[0m",
      "\u001b[0;31mValueError\u001b[0m: substring not found"
     ]
    }
   ],
   "source": [
    "print(number.find('55')) # gives -1 as return value if string is not found\n",
    "print(number.index('55')) # gives error if string is not found"
   ]
  },
  {
   "cell_type": "code",
   "execution_count": 50,
   "metadata": {
    "colab": {
     "base_uri": "https://localhost:8080/"
    },
    "executionInfo": {
     "elapsed": 358,
     "status": "ok",
     "timestamp": 1636699741017,
     "user": {
      "displayName": "Gurjot Singh",
      "photoUrl": "https://lh3.googleusercontent.com/a/default-user=s64",
      "userId": "01928984876269574971"
     },
     "user_tz": -330
    },
    "id": "1DEwRECU5m16",
    "outputId": "d9718cca-753c-48b0-ef21-bf68a28bcf4a"
   },
   "outputs": [
    {
     "name": "stdout",
     "output_type": "stream",
     "text": [
      "1\n",
      "7\n",
      "7\n"
     ]
    }
   ],
   "source": [
    "string = 'infognana'\n",
    "print(string.find('n'))\n",
    "print(string.rfind('n')) # find from right side of string\n",
    "print(string.rindex('n')) # index from right side of string"
   ]
  },
  {
   "cell_type": "code",
   "execution_count": 54,
   "metadata": {
    "colab": {
     "base_uri": "https://localhost:8080/"
    },
    "executionInfo": {
     "elapsed": 383,
     "status": "ok",
     "timestamp": 1636699845741,
     "user": {
      "displayName": "Gurjot Singh",
      "photoUrl": "https://lh3.googleusercontent.com/a/default-user=s64",
      "userId": "01928984876269574971"
     },
     "user_tz": -330
    },
    "id": "cnqqDpZ36Chl",
    "outputId": "c2790ddc-8035-4a0e-cf1b-5b2d6d387305"
   },
   "outputs": [
    {
     "name": "stdout",
     "output_type": "stream",
     "text": [
      "True\n",
      "True\n"
     ]
    }
   ],
   "source": [
    "line = 'the back fox is running'\n",
    "print(line.endswith('ing'))\n",
    "print(line.startswith('the'))"
   ]
  },
  {
   "cell_type": "code",
   "execution_count": 59,
   "metadata": {
    "colab": {
     "base_uri": "https://localhost:8080/"
    },
    "executionInfo": {
     "elapsed": 372,
     "status": "ok",
     "timestamp": 1636700175993,
     "user": {
      "displayName": "Gurjot Singh",
      "photoUrl": "https://lh3.googleusercontent.com/a/default-user=s64",
      "userId": "01928984876269574971"
     },
     "user_tz": -330
    },
    "id": "nMw58Aso6kj-",
    "outputId": "da151910-a379-4133-e8f0-e249566b33dd"
   },
   "outputs": [
    {
     "name": "stdout",
     "output_type": "stream",
     "text": [
      "('the back ', 'fox', ' is running')\n",
      "['the back ', ' is running']\n",
      "['the back ', 'fox', ' is running']\n"
     ]
    }
   ],
   "source": [
    "print(line.partition('fox')) # partition using fox and keep the word using which you are spliting\n",
    "print(line.split('fox')) # split using fox and negate the string using which you are spliting\n",
    "a = line.partition('fox')\n",
    "new_list = list(a)\n",
    "print(new_list)"
   ]
  },
  {
   "cell_type": "code",
   "execution_count": 64,
   "metadata": {
    "colab": {
     "base_uri": "https://localhost:8080/"
    },
    "executionInfo": {
     "elapsed": 377,
     "status": "ok",
     "timestamp": 1636700333901,
     "user": {
      "displayName": "Gurjot Singh",
      "photoUrl": "https://lh3.googleusercontent.com/a/default-user=s64",
      "userId": "01928984876269574971"
     },
     "user_tz": -330
    },
    "id": "lyg6CfH670Sn",
    "outputId": "4b117889-9130-4e2d-f60d-4fd5880476ba"
   },
   "outputs": [
    {
     "name": "stdout",
     "output_type": "stream",
     "text": [
      "['my company ', 'name ', 'is ', 'ifognana']\n"
     ]
    }
   ],
   "source": [
    "multi_line = '''my company \n",
    "name \n",
    "is \n",
    "ifognana'''\n",
    "string_list = multi_line.splitlines()\n",
    "print(string_list) #-----"
   ]
  },
  {
   "cell_type": "code",
   "execution_count": 66,
   "metadata": {
    "colab": {
     "base_uri": "https://localhost:8080/",
     "height": 35
    },
    "executionInfo": {
     "elapsed": 364,
     "status": "ok",
     "timestamp": 1636700532462,
     "user": {
      "displayName": "Gurjot Singh",
      "photoUrl": "https://lh3.googleusercontent.com/a/default-user=s64",
      "userId": "01928984876269574971"
     },
     "user_tz": -330
    },
    "id": "DGAC8z-Q79Ka",
    "outputId": "1192e658-2548-4fff-d52f-3a1d5345d479"
   },
   "outputs": [
    {
     "data": {
      "application/vnd.google.colaboratory.intrinsic+json": {
       "type": "string"
      },
      "text/plain": [
       "'my company --name --is --ifognana'"
      ]
     },
     "execution_count": 66,
     "metadata": {},
     "output_type": "execute_result"
    }
   ],
   "source": [
    "\"--\".join(string_list)"
   ]
  },
  {
   "cell_type": "markdown",
   "metadata": {
    "id": "ziA2YSyv9Fy4"
   },
   "source": [
    "# Regular Expressions\n",
    "Basic Regular expression functions"
   ]
  },
  {
   "cell_type": "code",
   "execution_count": 74,
   "metadata": {
    "colab": {
     "base_uri": "https://localhost:8080/"
    },
    "executionInfo": {
     "elapsed": 371,
     "status": "ok",
     "timestamp": 1636701017106,
     "user": {
      "displayName": "Gurjot Singh",
      "photoUrl": "https://lh3.googleusercontent.com/a/default-user=s64",
      "userId": "01928984876269574971"
     },
     "user_tz": -330
    },
    "id": "w-zKxn4q9FJr",
    "outputId": "73d2c2dd-cac9-4b54-8b5e-cdf7acfeaf38"
   },
   "outputs": [
    {
     "data": {
      "text/plain": [
       "['the', 'quick', 'brown', 'fox', 'jumped', 'fox', 'over', 'a', 'lazy', 'dog']"
      ]
     },
     "execution_count": 74,
     "metadata": {},
     "output_type": "execute_result"
    }
   ],
   "source": [
    "line = 'the quick brown     fox jumped     fox over    a lazy dog'\n",
    "import re\n",
    "pattern = r'\\s+'\n",
    "regex  = re.compile(pattern)\n",
    "regex.split(line)"
   ]
  },
  {
   "cell_type": "code",
   "execution_count": 80,
   "metadata": {
    "colab": {
     "base_uri": "https://localhost:8080/"
    },
    "executionInfo": {
     "elapsed": 347,
     "status": "ok",
     "timestamp": 1636701680062,
     "user": {
      "displayName": "Gurjot Singh",
      "photoUrl": "https://lh3.googleusercontent.com/a/default-user=s64",
      "userId": "01928984876269574971"
     },
     "user_tz": -330
    },
    "id": "t5Z-v7Ds-5sb",
    "outputId": "c98ce89a-8d3f-415a-eedd-b29e50c6299b"
   },
   "outputs": [
    {
     "data": {
      "text/plain": [
       "20"
      ]
     },
     "execution_count": 80,
     "metadata": {},
     "output_type": "execute_result"
    }
   ],
   "source": [
    "regex = re.compile('fox')\n",
    "match = regex.search(line)\n",
    "match.start()"
   ]
  },
  {
   "cell_type": "code",
   "execution_count": 86,
   "metadata": {
    "colab": {
     "base_uri": "https://localhost:8080/",
     "height": 35
    },
    "executionInfo": {
     "elapsed": 355,
     "status": "ok",
     "timestamp": 1636701808995,
     "user": {
      "displayName": "Gurjot Singh",
      "photoUrl": "https://lh3.googleusercontent.com/a/default-user=s64",
      "userId": "01928984876269574971"
     },
     "user_tz": -330
    },
    "id": "V3MUMURjBdco",
    "outputId": "6f6812e9-bcad-4da6-a744-daff4e357523"
   },
   "outputs": [
    {
     "data": {
      "application/vnd.google.colaboratory.intrinsic+json": {
       "type": "string"
      },
      "text/plain": [
       "'the quick brown     fooooox jumped     fooooox over    a lazy dog'"
      ]
     },
     "execution_count": 86,
     "metadata": {},
     "output_type": "execute_result"
    }
   ],
   "source": [
    "line = 'the quick brown     fox jumped     fox over    a lazy dog'\n",
    "regex = re.compile('fox')\n",
    "regex.sub('fooooox', line)"
   ]
  },
  {
   "cell_type": "code",
   "execution_count": 3,
   "metadata": {},
   "outputs": [],
   "source": [
    "import re"
   ]
  },
  {
   "cell_type": "code",
   "execution_count": 6,
   "metadata": {
    "executionInfo": {
     "elapsed": 344,
     "status": "ok",
     "timestamp": 1636702563342,
     "user": {
      "displayName": "Gurjot Singh",
      "photoUrl": "https://lh3.googleusercontent.com/a/default-user=s64",
      "userId": "01928984876269574971"
     },
     "user_tz": -330
    },
    "id": "872kiAX2B-wy"
   },
   "outputs": [
    {
     "data": {
      "text/plain": [
       "['gur.j_ot@crossml.com', 'vijay@infognana.com']"
      ]
     },
     "execution_count": 6,
     "metadata": {},
     "output_type": "execute_result"
    }
   ],
   "source": [
    "line = 'gur.j_ot@crossml.com is my mail id and vijay@infognana.com is vijay id'\n",
    "#pattern = r'[a-zA_Z0-9._]+@\\w+.[a-z]{3}'\n",
    "pattern = r'[\\w\\._]+@\\w+\\.[a-z]{3}'\n",
    "regex = re.compile(pattern)\n",
    "emails = regex.findall(line)\n",
    "emails"
   ]
  },
  {
   "cell_type": "code",
   "execution_count": 102,
   "metadata": {
    "colab": {
     "base_uri": "https://localhost:8080/"
    },
    "executionInfo": {
     "elapsed": 384,
     "status": "ok",
     "timestamp": 1636702601618,
     "user": {
      "displayName": "Gurjot Singh",
      "photoUrl": "https://lh3.googleusercontent.com/a/default-user=s64",
      "userId": "01928984876269574971"
     },
     "user_tz": -330
    },
    "id": "bxzHTcieEduZ",
    "outputId": "31b59218-2d79-4e0b-c0d0-43d548d43377"
   },
   "outputs": [
    {
     "name": "stdout",
     "output_type": "stream",
     "text": [
      "['--@--.com', '--@--.com']\n"
     ]
    }
   ],
   "source": [
    "new_list = []\n",
    "for email in emails:\n",
    "  new_list.append(regex.sub('--@--.com', email))\n",
    "print(new_list)"
   ]
  },
  {
   "cell_type": "code",
   "execution_count": 105,
   "metadata": {
    "colab": {
     "base_uri": "https://localhost:8080/"
    },
    "executionInfo": {
     "elapsed": 516,
     "status": "ok",
     "timestamp": 1636703044145,
     "user": {
      "displayName": "Gurjot Singh",
      "photoUrl": "https://lh3.googleusercontent.com/a/default-user=s64",
      "userId": "01928984876269574971"
     },
     "user_tz": -330
    },
    "id": "1IrELUmYFC8W",
    "outputId": "b0b0ef51-d127-4ce9-9835-9f9953af26a5"
   },
   "outputs": [
    {
     "name": "stdout",
     "output_type": "stream",
     "text": [
      "['This is a 30', ' This is 40', ' The father gave me 10', '']\n",
      "[['30'], ['40'], ['10']]\n"
     ]
    }
   ],
   "source": [
    "text = 'This is a 30. This is 40. The father gave me 10.'\n",
    "pattern = r'\\.'\n",
    "regex = re.compile(pattern)\n",
    "sent_list = regex.split(text)\n",
    "print(sent_list) \n",
    "\n",
    "pattern = r'.{2}$'\n",
    "regex = re.compile(pattern)\n",
    "\n",
    "digits = []\n",
    "for line in sent_list:\n",
    "  if line != '':\n",
    "    digits.append(regex.findall(line))\n",
    "\n",
    "print(digits)\n",
    "  "
   ]
  },
  {
   "cell_type": "code",
   "execution_count": 106,
   "metadata": {
    "colab": {
     "base_uri": "https://localhost:8080/"
    },
    "executionInfo": {
     "elapsed": 365,
     "status": "ok",
     "timestamp": 1636703185121,
     "user": {
      "displayName": "Gurjot Singh",
      "photoUrl": "https://lh3.googleusercontent.com/a/default-user=s64",
      "userId": "01928984876269574971"
     },
     "user_tz": -330
    },
    "id": "1GvZE6RCG3xS",
    "outputId": "f9b726b5-25a4-4d02-8782-a26e0e94bb48"
   },
   "outputs": [
    {
     "data": {
      "text/plain": [
       "['e 9', 'g 1']"
      ]
     },
     "execution_count": 106,
     "metadata": {},
     "output_type": "execute_result"
    }
   ],
   "source": [
    "line = 'the 90 is having 100'\n",
    "pattern = r'\\w\\s\\d'\n",
    "regex = re.compile(pattern)\n",
    "regex.findall(line)"
   ]
  },
  {
   "cell_type": "code",
   "execution_count": 109,
   "metadata": {
    "colab": {
     "base_uri": "https://localhost:8080/"
    },
    "executionInfo": {
     "elapsed": 367,
     "status": "ok",
     "timestamp": 1636703580099,
     "user": {
      "displayName": "Gurjot Singh",
      "photoUrl": "https://lh3.googleusercontent.com/a/default-user=s64",
      "userId": "01928984876269574971"
     },
     "user_tz": -330
    },
    "id": "JZbR4WFYHMCu",
    "outputId": "b834b817-cc3e-4470-ba83-22c010244437"
   },
   "outputs": [
    {
     "data": {
      "text/plain": [
       "['name', 'work', 'desg', 'data']"
      ]
     },
     "execution_count": 109,
     "metadata": {},
     "output_type": "execute_result"
    }
   ],
   "source": [
    "line = 'my name is gurjot. i work in crossml. my desg in data scientist'\n",
    "pattern = r'\\b([a-z]{4})\\b'\n",
    "regex = re.compile(pattern)\n",
    "regex.findall(line)"
   ]
  },
  {
   "cell_type": "code",
   "execution_count": 116,
   "metadata": {
    "colab": {
     "base_uri": "https://localhost:8080/"
    },
    "executionInfo": {
     "elapsed": 359,
     "status": "ok",
     "timestamp": 1636703976982,
     "user": {
      "displayName": "Gurjot Singh",
      "photoUrl": "https://lh3.googleusercontent.com/a/default-user=s64",
      "userId": "01928984876269574971"
     },
     "user_tz": -330
    },
    "id": "aZkzE7JRJU5J",
    "outputId": "56d8ab89-a583-4524-cce8-47e05f2a51d0"
   },
   "outputs": [
    {
     "name": "stdout",
     "output_type": "stream",
     "text": [
      "['gur.j_ot@crossml.au', 'vijay@infognana.com']\n"
     ]
    }
   ],
   "source": [
    "line = 'gur.j_ot@crossml.au is my mail id and vijay@infognana.com is vijay id'\n",
    "pattern = r'[\\w\\._]+@\\w+\\.[a-z]{2,}'\n",
    "regex = re.compile(pattern)\n",
    "emails = regex.findall(line)\n",
    "print(emails)"
   ]
  },
  {
   "cell_type": "code",
   "execution_count": 119,
   "metadata": {
    "colab": {
     "base_uri": "https://localhost:8080/"
    },
    "executionInfo": {
     "elapsed": 404,
     "status": "ok",
     "timestamp": 1636704107724,
     "user": {
      "displayName": "Gurjot Singh",
      "photoUrl": "https://lh3.googleusercontent.com/a/default-user=s64",
      "userId": "01928984876269574971"
     },
     "user_tz": -330
    },
    "id": "xwn2KXhKKPP7",
    "outputId": "6fc406af-1b39-44e3-acfb-761c726ea6cf"
   },
   "outputs": [
    {
     "name": "stdout",
     "output_type": "stream",
     "text": [
      "['na']\n",
      "['wo']\n",
      "['de']\n",
      "['da']\n"
     ]
    }
   ],
   "source": [
    "line = 'my name is gurjot. i work in crossml. my desg in data scientist'\n",
    "pattern = r'\\b([a-z]{4})\\b'\n",
    "regex = re.compile(pattern)\n",
    "word_4 = regex.findall(line)\n",
    "\n",
    "pattern = r'^.{2}'\n",
    "regex = re.compile(pattern)\n",
    "for word in word_4:\n",
    "  print(regex.findall(word))"
   ]
  }
 ],
 "metadata": {
  "colab": {
   "authorship_tag": "ABX9TyOveIYPoEwGlFfh4B/RiqcS",
   "name": "Lecture_3.ipynb",
   "provenance": []
  },
  "kernelspec": {
   "display_name": "Python 3 (ipykernel)",
   "language": "python",
   "name": "python3"
  },
  "language_info": {
   "codemirror_mode": {
    "name": "ipython",
    "version": 3
   },
   "file_extension": ".py",
   "mimetype": "text/x-python",
   "name": "python",
   "nbconvert_exporter": "python",
   "pygments_lexer": "ipython3",
   "version": "3.8.10"
  }
 },
 "nbformat": 4,
 "nbformat_minor": 1
}
