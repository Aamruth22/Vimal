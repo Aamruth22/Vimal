{
 "cells": [
  {
   "cell_type": "code",
   "execution_count": 6,
   "id": "df9a8f5a",
   "metadata": {},
   "outputs": [],
   "source": [
    "import os\n",
    "from keras.preprocessing.image import load_img,img_to_array\n",
    "import matplotlib.pyplot as plt\n",
    "from tensorflow.keras.preprocessing import image\n",
    "import keras\n",
    "import numpy as np\n",
    "import pandas as pd"
   ]
  },
  {
   "cell_type": "code",
   "execution_count": null,
   "id": "16d97580",
   "metadata": {},
   "outputs": [],
   "source": []
  },
  {
   "cell_type": "code",
   "execution_count": 7,
   "id": "89f533b7",
   "metadata": {},
   "outputs": [
    {
     "name": "stderr",
     "output_type": "stream",
     "text": [
      "2022-04-27 16:15:44.991252: W tensorflow/core/framework/cpu_allocator_impl.cc:80] Allocation of 50466816 exceeds 10% of free system memory.\n",
      "2022-04-27 16:15:45.068872: W tensorflow/core/framework/cpu_allocator_impl.cc:80] Allocation of 50466816 exceeds 10% of free system memory.\n",
      "2022-04-27 16:15:45.077849: W tensorflow/core/framework/cpu_allocator_impl.cc:80] Allocation of 50466816 exceeds 10% of free system memory.\n",
      "2022-04-27 16:15:46.015678: W tensorflow/core/framework/cpu_allocator_impl.cc:80] Allocation of 50466816 exceeds 10% of free system memory.\n",
      "2022-04-27 16:15:46.064875: W tensorflow/core/framework/cpu_allocator_impl.cc:80] Allocation of 50466816 exceeds 10% of free system memory.\n"
     ]
    }
   ],
   "source": [
    "model = keras.models.load_model('/home/vimalkumar/Documents/Python_new_1/SOFTCO/CNN Model/Invoice_model_6.h5')\n"
   ]
  },
  {
   "cell_type": "code",
   "execution_count": 8,
   "id": "37815c86",
   "metadata": {},
   "outputs": [
    {
     "data": {
      "image/png": "[encoded data removed]",
      "text/plain": [
       "<Figure size 432x288 with 1 Axes>"
      ]
     },
     "metadata": {
      "needs_background": "light"
     },
     "output_type": "display_data"
    },
    {
     "name": "stdout",
     "output_type": "stream",
     "text": [
      "[[0.99016285 0.01180014]]\n"
     ]
    },
    {
     "ename": "NameError",
     "evalue": "name 'dic' is not defined",
     "output_type": "error",
     "traceback": [
      "\u001b[0;31m---------------------------------------------------------------------------\u001b[0m",
      "\u001b[0;31mNameError\u001b[0m                                 Traceback (most recent call last)",
      "\u001b[0;32m/tmp/ipykernel_22088/72921018.py\u001b[0m in \u001b[0;36m<module>\u001b[0;34m\u001b[0m\n\u001b[1;32m     13\u001b[0m \u001b[0;34m\u001b[0m\u001b[0m\n\u001b[1;32m     14\u001b[0m \u001b[0ma\u001b[0m\u001b[0;34m=\u001b[0m\u001b[0mnp\u001b[0m\u001b[0;34m.\u001b[0m\u001b[0margmax\u001b[0m\u001b[0;34m(\u001b[0m\u001b[0mval\u001b[0m\u001b[0;34m,\u001b[0m\u001b[0maxis\u001b[0m\u001b[0;34m=\u001b[0m\u001b[0;36m1\u001b[0m\u001b[0;34m)\u001b[0m\u001b[0;34m\u001b[0m\u001b[0;34m\u001b[0m\u001b[0m\n\u001b[0;32m---> 15\u001b[0;31m \u001b[0mprint\u001b[0m\u001b[0;34m(\u001b[0m\u001b[0mdic\u001b[0m\u001b[0;34m[\u001b[0m\u001b[0ma\u001b[0m\u001b[0;34m[\u001b[0m\u001b[0;36m0\u001b[0m\u001b[0;34m]\u001b[0m\u001b[0;34m]\u001b[0m\u001b[0;34m)\u001b[0m\u001b[0;34m\u001b[0m\u001b[0;34m\u001b[0m\u001b[0m\n\u001b[0m",
      "\u001b[0;31mNameError\u001b[0m: name 'dic' is not defined"
     ]
    }
   ],
   "source": [
    "path = '/home/vimalkumar/Downloads/1.png'\n",
    "img = image.load_img(path, \n",
    "                     target_size=(224,224))\n",
    "plt.imshow(img)\n",
    "plt.show()\n",
    "\n",
    "x = image.img_to_array(img)\n",
    "x = x/255\n",
    "x = np.expand_dims(x,axis=0)\n",
    "images = np.vstack([x])\n",
    "val = model.predict(images)\n",
    "print(val)\n",
    "    \n",
    "a=np.argmax(val,axis=1)\n",
    "print(dic[a[0]])"
   ]
  },
  {
   "cell_type": "code",
   "execution_count": null,
   "id": "25f6e845",
   "metadata": {},
   "outputs": [],
   "source": []
  },
  {
   "cell_type": "code",
   "execution_count": null,
   "id": "6f193308",
   "metadata": {},
   "outputs": [],
   "source": []
  },
  {
   "cell_type": "code",
   "execution_count": null,
   "id": "69c5ba44",
   "metadata": {},
   "outputs": [],
   "source": []
  }
 ],
 "metadata": {
  "kernelspec": {
   "display_name": "Python 3 (ipykernel)",
   "language": "python",
   "name": "python3"
  },
  "language_info": {
   "codemirror_mode": {
    "name": "ipython",
    "version": 3
   },
   "file_extension": ".py",
   "mimetype": "text/x-python",
   "name": "python",
   "nbconvert_exporter": "python",
   "pygments_lexer": "ipython3",
   "version": "3.8.10"
  }
 },
 "nbformat": 4,
 "nbformat_minor": 5
}
