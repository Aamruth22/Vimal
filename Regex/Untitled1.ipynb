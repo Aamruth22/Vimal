{
 "cells": [
  {
   "cell_type": "code",
   "execution_count": 2,
   "id": "3b046f88",
   "metadata": {},
   "outputs": [],
   "source": [
    "import re"
   ]
  },
  {
   "cell_type": "markdown",
   "id": "e44b5fd7",
   "metadata": {},
   "source": [
    "# .             One character except new line"
   ]
  },
  {
   "cell_type": "code",
   "execution_count": 33,
   "id": "e30105c5",
   "metadata": {},
   "outputs": [
    {
     "name": "stdout",
     "output_type": "stream",
     "text": [
      "['R', 'e', 'g', 'u', 'l', 'a', 'r', 'E', 'x', 'p', 'r', 'e', 's', 's', 'i', 'o', 'n', 's', 'E', 'x', 'a', 'm', 'p', 'l', 'e', 's', '.', ',', 'c', 'o', 'm']\n"
     ]
    }
   ],
   "source": [
    "text = 'RegularExpressionsExamples.,com'\n",
    "a1 = re.findall('.',text)\n",
    "print(a1)"
   ]
  },
  {
   "cell_type": "code",
   "execution_count": 34,
   "id": "fad89721",
   "metadata": {},
   "outputs": [
    {
     "data": {
      "text/plain": [
       "['Reg']"
      ]
     },
     "execution_count": 34,
     "metadata": {},
     "output_type": "execute_result"
    }
   ],
   "source": [
    "re.findall('^...',text)\n"
   ]
  },
  {
   "cell_type": "code",
   "execution_count": 35,
   "id": "db684cca",
   "metadata": {},
   "outputs": [
    {
     "data": {
      "text/plain": [
       "['Reg', 'ula', 'rEx', 'pre', 'ssi', 'ons', 'Exa', 'mpl', 'es.', ',co']"
      ]
     },
     "execution_count": 35,
     "metadata": {},
     "output_type": "execute_result"
    }
   ],
   "source": [
    "re.findall('...' , text)"
   ]
  },
  {
   "cell_type": "markdown",
   "id": "278e5e22",
   "metadata": {},
   "source": [
    "# \\.            A period. \\ escapes a special character."
   ]
  },
  {
   "cell_type": "code",
   "execution_count": 36,
   "id": "c8c1250b",
   "metadata": {},
   "outputs": [
    {
     "name": "stdout",
     "output_type": "stream",
     "text": [
      "['R', 'e', 'g', 'u', 'l', 'a', 'r', 'E', 'x', 'p', 'r', 'e', 's', 's', 'i', 'o', 'n', 's', 'E', 'x', 'a', 'm', 'p', 'l', 'e', 's', ',', 'c', 'o', 'm']\n"
     ]
    }
   ],
   "source": [
    "print(re.findall('[^\\.]' , text ))"
   ]
  },
  {
   "cell_type": "code",
   "execution_count": 37,
   "id": "d2aaddc1",
   "metadata": {},
   "outputs": [
    {
     "name": "stdout",
     "output_type": "stream",
     "text": [
      "['R', 'e', 'g', 'u', 'l', 'a', 'r', 'E', 'x', 'p', 'r', 'e', 's', 's', 'i', 'o', 'n', 's', 'E', 'x', 'a', 'm', 'p', 'l', 'e', 's', ',', 'c', 'o', 'm']\n"
     ]
    }
   ],
   "source": [
    "print(re.findall('[^\\.]' , text ))"
   ]
  },
  {
   "cell_type": "markdown",
   "id": "fa36336a",
   "metadata": {},
   "source": [
    "# \\d            One digit"
   ]
  },
  {
   "cell_type": "code",
   "execution_count": 38,
   "id": "a4799c01",
   "metadata": {},
   "outputs": [],
   "source": [
    "text = '01, Jan 2015'"
   ]
  },
  {
   "cell_type": "code",
   "execution_count": 39,
   "id": "105e878a",
   "metadata": {},
   "outputs": [
    {
     "name": "stdout",
     "output_type": "stream",
     "text": [
      "['0', '1', '2', '0', '1', '5']\n"
     ]
    }
   ],
   "source": [
    "print(re.findall('\\d',text))"
   ]
  },
  {
   "cell_type": "code",
   "execution_count": 40,
   "id": "dc792975",
   "metadata": {},
   "outputs": [
    {
     "name": "stdout",
     "output_type": "stream",
     "text": [
      "['01', '2015']\n"
     ]
    }
   ],
   "source": [
    "print(re.findall('\\d+',text))"
   ]
  },
  {
   "cell_type": "code",
   "execution_count": 41,
   "id": "28257467",
   "metadata": {},
   "outputs": [
    {
     "name": "stdout",
     "output_type": "stream",
     "text": [
      "['01', '', '', '', '', '', '', '2015', '']\n"
     ]
    }
   ],
   "source": [
    "print(re.findall('\\d*',text))"
   ]
  },
  {
   "cell_type": "code",
   "execution_count": 42,
   "id": "924ebb81",
   "metadata": {},
   "outputs": [
    {
     "name": "stdout",
     "output_type": "stream",
     "text": [
      "[',', ' ', 'J', 'a', 'n', ' ']\n"
     ]
    }
   ],
   "source": [
    "print(re.findall('\\D',text))"
   ]
  },
  {
   "cell_type": "code",
   "execution_count": 43,
   "id": "e7752c9a",
   "metadata": {},
   "outputs": [
    {
     "name": "stdout",
     "output_type": "stream",
     "text": [
      "[', Jan ']\n"
     ]
    }
   ],
   "source": [
    "print(re.findall('\\D+',text))"
   ]
  },
  {
   "cell_type": "code",
   "execution_count": 44,
   "id": "60fa085a",
   "metadata": {},
   "outputs": [
    {
     "name": "stdout",
     "output_type": "stream",
     "text": [
      "['', '', ', Jan ', '', '', '', '', '']\n"
     ]
    }
   ],
   "source": [
    "print(re.findall('\\D*',text))"
   ]
  },
  {
   "cell_type": "code",
   "execution_count": null,
   "id": "c2e09b71",
   "metadata": {},
   "outputs": [],
   "source": []
  },
  {
   "cell_type": "code",
   "execution_count": null,
   "id": "a326c801",
   "metadata": {},
   "outputs": [],
   "source": []
  },
  {
   "cell_type": "code",
   "execution_count": 1,
   "id": "71eb7b74",
   "metadata": {},
   "outputs": [],
   "source": [
    "import re"
   ]
  },
  {
   "cell_type": "code",
   "execution_count": 21,
   "id": "5361265c",
   "metadata": {},
   "outputs": [],
   "source": [
    "text = \"India, officially the Republic of India (Hindi: Bhārat Gaṇarājya),[23] is a country in South Asia. It is the seventh-largest country by area, the second-most populous country, and the most populous democracy in the world. Bounded by the Indian Ocean on the south, the Arabian Sea on the southwest, and the Bay of Bengal on the southeast, it shares land borders with Pakistan to (the west;[f]) (China), Nepal, and (Bhutan) to the north; and Bangladesh and Myanmar to the (east). In the Indian Ocean, (India) is in the vicinity of (Sri Lanka) and the Maldives; its Andaman and Nicobar (Islands) share a maritime (border) india with Thailand, Myanmar and Indonesia.\"\n"
   ]
  },
  {
   "cell_type": "code",
   "execution_count": 22,
   "id": "811d7a4a",
   "metadata": {},
   "outputs": [
    {
     "data": {
      "text/plain": [
       "['[23]', '[f]']"
      ]
     },
     "execution_count": 22,
     "metadata": {},
     "output_type": "execute_result"
    }
   ],
   "source": [
    "re.findall('\\[\\w*]',text)"
   ]
  },
  {
   "cell_type": "code",
   "execution_count": 25,
   "id": "815297b3",
   "metadata": {},
   "outputs": [
    {
     "data": {
      "text/plain": [
       "['(Hindi: Bhārat Gaṇarājya)',\n",
       " '(the west;[f])',\n",
       " '(China)',\n",
       " '(Bhutan)',\n",
       " '(east)',\n",
       " '(India)',\n",
       " '(Sri Lanka)',\n",
       " '(Islands)',\n",
       " '(border)']"
      ]
     },
     "execution_count": 25,
     "metadata": {},
     "output_type": "execute_result"
    }
   ],
   "source": [
    "re.findall('\\(.*?\\)', text)"
   ]
  },
  {
   "cell_type": "code",
   "execution_count": 26,
   "id": "569115d0",
   "metadata": {},
   "outputs": [
    {
     "data": {
      "text/plain": [
       "['(Hindi: Bhārat Gaṇarājya)',\n",
       " '[23]',\n",
       " '(the west;[f])',\n",
       " '(China)',\n",
       " '(Bhutan)',\n",
       " '(east)',\n",
       " '(India)',\n",
       " '(Sri Lanka)',\n",
       " '(Islands)',\n",
       " '(border)']"
      ]
     },
     "execution_count": 26,
     "metadata": {},
     "output_type": "execute_result"
    }
   ],
   "source": [
    "re.findall('\\(.*?\\)|\\[\\w*]', text)"
   ]
  },
  {
   "cell_type": "code",
   "execution_count": null,
   "id": "d354dc98",
   "metadata": {},
   "outputs": [],
   "source": []
  }
 ],
 "metadata": {
  "kernelspec": {
   "display_name": "Python 3 (ipykernel)",
   "language": "python",
   "name": "python3"
  },
  "language_info": {
   "codemirror_mode": {
    "name": "ipython",
    "version": 3
   },
   "file_extension": ".py",
   "mimetype": "text/x-python",
   "name": "python",
   "nbconvert_exporter": "python",
   "pygments_lexer": "ipython3",
   "version": "3.8.10"
  }
 },
 "nbformat": 4,
 "nbformat_minor": 5
}
