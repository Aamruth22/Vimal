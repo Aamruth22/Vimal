{
 "cells": [
  {
   "cell_type": "code",
   "execution_count": 58,
   "id": "2a904230",
   "metadata": {},
   "outputs": [],
   "source": [
    "x = 'marks score in english -51 and in math 56 and sci +999555 and lan -85541'"
   ]
  },
  {
   "cell_type": "code",
   "execution_count": 2,
   "id": "b2a67660",
   "metadata": {},
   "outputs": [],
   "source": [
    "import re"
   ]
  },
  {
   "cell_type": "code",
   "execution_count": 60,
   "id": "b660ab2e",
   "metadata": {},
   "outputs": [],
   "source": [
    "reg = re.compile(r'[\\d*\\-]+')"
   ]
  },
  {
   "cell_type": "code",
   "execution_count": 67,
   "id": "3a1720f8",
   "metadata": {},
   "outputs": [],
   "source": [
    "reg = re.compile(r'[-+]*\\d+')"
   ]
  },
  {
   "cell_type": "code",
   "execution_count": 68,
   "id": "80afc733",
   "metadata": {},
   "outputs": [
    {
     "data": {
      "text/plain": [
       "re.compile(r'[-+]*\\d+', re.UNICODE)"
      ]
     },
     "execution_count": 68,
     "metadata": {},
     "output_type": "execute_result"
    }
   ],
   "source": [
    "reg"
   ]
  },
  {
   "cell_type": "code",
   "execution_count": 69,
   "id": "aa455439",
   "metadata": {},
   "outputs": [
    {
     "data": {
      "text/plain": [
       "['-51', '56', '+999555', '-85541']"
      ]
     },
     "execution_count": 69,
     "metadata": {},
     "output_type": "execute_result"
    }
   ],
   "source": [
    "pattern = reg.findall(x)\n",
    "pattern"
   ]
  },
  {
   "cell_type": "code",
   "execution_count": 70,
   "id": "a55b0e14",
   "metadata": {},
   "outputs": [],
   "source": [
    "import pytesseract"
   ]
  },
  {
   "cell_type": "code",
   "execution_count": null,
   "id": "8b560c2a",
   "metadata": {},
   "outputs": [],
   "source": [
    "import cv2\n",
    "import numpy \n",
    "import pytesseract\n",
    "\n",
    "import cv2\n",
    "import numpy as np\n",
    "cropping = False\n",
    "x_start, y_start, x_end, y_end = 0, 0, 0, 0\n",
    "image = cv2.imread('/home/vimalkumar/Documents/Back up/Backup images/1/Vimal/Handwritten/0497543000.tif')\n",
    "oriImage = image.copy()\n",
    "def mouse_crop(event, x, y, flags, param):\n",
    "    # grab references to the global variables\n",
    "    global x_start, y_start, x_end, y_end, cropping\n",
    "    # if the left mouse button was DOWN, start RECORDING\n",
    "    # (x, y) coordinates and indicate that cropping is being\n",
    "    if event == cv2.EVENT_LBUTTONDOWN:\n",
    "        x_start, y_start, x_end, y_end = x, y, x, y\n",
    "        cropping = True\n",
    "    # Mouse is Moving\n",
    "    elif event == cv2.EVENT_MOUSEMOVE:\n",
    "        if cropping == True:\n",
    "            x_end, y_end = x, y\n",
    "    # if the left mouse button was released\n",
    "    elif event == cv2.EVENT_LBUTTONUP:\n",
    "        # record the ending (x, y) coordinates\n",
    "        x_end, y_end = x, y\n",
    "        print(x_end,y_end)\n",
    "        cropping = False # cropping is finished\n",
    "        refPoint = [(x_start, y_start), (x_end, y_end)]\n",
    "        if len(refPoint) == 2: #when two points were found\n",
    "            roi = oriImage[refPoint[0][1]:refPoint[1][1], refPoint[0][0]:refPoint[1][0]]\n",
    "            cv2.imshow(\"Cropped\", roi)\n",
    "            cv2.imwrite('/home/vimalkumar/Documents/images/Interview/out/cropped_image.jpeg',roi)\n",
    "            imm = cv2.imread('/home/vimalkumar/Documents/images/Interview/out/cropped_image.jpeg')\n",
    "            im = pytesseract.image_to_string(imm)\n",
    "            print(im)\n",
    "\n",
    "            with open('/home/vimalkumar/Documents/images/Interview/out/readme.txt', 'w') as f:\n",
    "                f.write(im)\n",
    "cv2.namedWindow(\"image\",cv2.WINDOW_AUTOSIZE)\n",
    "cv2.setMouseCallback(\"image\", mouse_crop)\n",
    "while True:\n",
    "    i = image.copy()\n",
    "    if not cropping:\n",
    "        cv2.imshow(\"image\", image)\n",
    "    elif cropping:\n",
    "        cv2.rectangle(i, (x_start, y_start), (x_end, y_end), (255, 0, 0), 2)\n",
    "        \n",
    "        cv2.imshow(\"image\", i)\n",
    "\n",
    "    cv2.waitKey(1)\n",
    "# close all open windows\n",
    "cv2.destroyAllWindows()\n",
    "\n"
   ]
  },
  {
   "cell_type": "code",
   "execution_count": null,
   "id": "6ff79d86",
   "metadata": {},
   "outputs": [],
   "source": [
    "/home/vimalkumar/Documents/images/Interview"
   ]
  },
  {
   "cell_type": "code",
   "execution_count": null,
   "id": "6269fb87",
   "metadata": {},
   "outputs": [],
   "source": [
    "import cv2\n",
    "cv2.namedWindow(\"output\", cv2.WINDOW_AUTOSIZE)        # Create window with freedom of dimensions\n",
    "im = cv2.imread(\"/home/vimalkumar/Documents/images/Interview/image_1.jpg\")                        # Read image\n",
    "imS = cv2.resize(im, (960, 540))                    # Resize image\n",
    "cv2.imshow(\"output\", imS)                            # Show image\n",
    "cv2.waitKey(0)"
   ]
  },
  {
   "cell_type": "code",
   "execution_count": null,
   "id": "59e4125d",
   "metadata": {},
   "outputs": [],
   "source": []
  }
 ],
 "metadata": {
  "kernelspec": {
   "display_name": "Python 3 (ipykernel)",
   "language": "python",
   "name": "python3"
  },
  "language_info": {
   "codemirror_mode": {
    "name": "ipython",
    "version": 3
   },
   "file_extension": ".py",
   "mimetype": "text/x-python",
   "name": "python",
   "nbconvert_exporter": "python",
   "pygments_lexer": "ipython3",
   "version": "3.8.10"
  }
 },
 "nbformat": 4,
 "nbformat_minor": 5
}
