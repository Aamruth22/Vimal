{
 "cells": [
  {
   "cell_type": "code",
   "execution_count": 1,
   "id": "4d671002",
   "metadata": {},
   "outputs": [
    {
     "name": "stderr",
     "output_type": "stream",
     "text": [
      "Using CPU. Note: This module is much faster with a GPU.\n"
     ]
    },
    {
     "name": "stdout",
     "output_type": "stream",
     "text": [
      "['esc', 'tab', '\"val', 'Camlin', 'WKITEBOARD', 'MARKER PEN', '4', 'Sir82924t0']\n",
      "69.95578026771545\n"
     ]
    }
   ],
   "source": [
    "import cv2\n",
    "import time\n",
    "import numpy as np\n",
    "import easyocr\n",
    "from PIL import Image\n",
    "import warnings\n",
    "warnings.filterwarnings(\"ignore\")\n",
    "\n",
    "start = time.time()\n",
    "\n",
    "reader = easyocr.Reader(['en'],gpu = False)\n",
    "image = cv2.imread('/home/vimalkumar/Downloads/MicrosoftTeams-image (1).jpeg')\n",
    "\n",
    "gray = cv2.cvtColor(image, cv2.COLOR_BGR2GRAY)\n",
    "sharpen_kernel = np.array([[-1,-1,-1], [-1,9,-1], [-1,-1,-1]])\n",
    "sharpen = cv2.filter2D(gray, -1, sharpen_kernel)\n",
    "thresh = cv2.threshold(sharpen, 0, 255, cv2.THRESH_BINARY_INV + cv2.THRESH_OTSU)[1]\n",
    "r_easy_ocr=reader.readtext(thresh,detail=0)\n",
    "print(r_easy_ocr)\n",
    "\n",
    "end = time.time()\n",
    "\n",
    "time = end - start\n",
    "print(time)"
   ]
  },
  {
   "cell_type": "code",
   "execution_count": null,
   "id": "2ba4a191",
   "metadata": {},
   "outputs": [],
   "source": []
  },
  {
   "cell_type": "code",
   "execution_count": 2,
   "id": "021db1f8",
   "metadata": {},
   "outputs": [
    {
     "name": "stdout",
     "output_type": "stream",
     "text": [
      "he\n",
      "\n",
      "xh\n",
      "\n",
      "ce\n",
      "\n",
      "oy\n",
      "\n",
      "My\n",
      "\n",
      "i\n",
      "\n",
      "Ge\n",
      "\n",
      "4\n",
      "\n",
      "eee *\n",
      "\n",
      "esc\n",
      "\n",
      "=\n",
      "\n",
      "StH\n",
      "\n",
      "\\\n",
      "\n",
      "phere\n",
      "\n",
      "ieee\n",
      "\n",
      "Satie\n",
      "\n",
      "fo\n",
      "\n",
      "SS eee\n",
      "\n",
      "Gsice\n",
      "\n",
      "[=\n",
      "\n",
      "rab\n",
      "\n",
      "Mis i\n",
      "\n",
      "py\n",
      "\n",
      "|\n",
      "\n",
      "WHITEBOARD\n",
      "\n",
      "VL\n",
      "\n",
      "Camlin\n",
      "\n",
      "MARKER PEN\n",
      "\n",
      "—\n",
      "\n",
      "iy\n",
      "\n",
      "J\n",
      "\n",
      "i F\n",
      "\n",
      "—\n",
      "\n",
      "ya\n",
      "\n",
      "es\n",
      "\n",
      "fl , 7) ‘\n",
      "\n",
      "A\n",
      "\n",
      "5:\n",
      "\n",
      "{\n",
      "\n",
      "Li\n",
      "\n",
      "I]\n",
      "\n",
      "ed\n",
      "\n",
      "ON\n",
      "\n",
      "ro\n",
      "\n",
      "Ss\n",
      "\f",
      "\n"
     ]
    }
   ],
   "source": [
    "import pytesseract\n",
    "import cv2\n",
    "\n",
    "img = cv2.imread('/home/vimalkumar/Downloads/MicrosoftTeams-image (1).jpeg',0)\n",
    "\n",
    "data = pytesseract.image_to_string(img,\n",
    "                                   config=\"--psm 11\")\n",
    "                                  \n",
    "print(data)"
   ]
  },
  {
   "cell_type": "code",
   "execution_count": 3,
   "id": "55dd330a",
   "metadata": {},
   "outputs": [],
   "source": [
    "import jovian"
   ]
  },
  {
   "cell_type": "code",
   "execution_count": 4,
   "id": "15e89803",
   "metadata": {},
   "outputs": [
    {
     "data": {
      "application/javascript": [
       "window.require && require([\"base/js/namespace\"],function(Jupyter){Jupyter.notebook.save_checkpoint()})"
      ],
      "text/plain": [
       "<IPython.core.display.Javascript object>"
      ]
     },
     "metadata": {},
     "output_type": "display_data"
    },
    {
     "name": "stdout",
     "output_type": "stream",
     "text": [
      "[jovian] Committed successfully! https://jovian.ai/vimalmadhan218-v2/untitled-7b0c7\u001b[0m\n"
     ]
    },
    {
     "data": {
      "text/plain": [
       "'https://jovian.ai/vimalmadhan218-v2/untitled-7b0c7'"
      ]
     },
     "execution_count": 4,
     "metadata": {},
     "output_type": "execute_result"
    }
   ],
   "source": [
    "jovian.commit()"
   ]
  },
  {
   "cell_type": "code",
   "execution_count": 6,
   "id": "4371d3f7",
   "metadata": {},
   "outputs": [
    {
     "name": "stdout",
     "output_type": "stream",
     "text": [
      "1\n",
      "2\n",
      "3\n",
      "4\n",
      "5\n",
      "7\n",
      "8\n",
      "9\n"
     ]
    }
   ],
   "source": [
    "for i in range(1,10):\n",
    "    #print(i)\n",
    "    if i == 6:\n",
    "        continue\n",
    "        \n",
    "    print(i)\n",
    "        "
   ]
  },
  {
   "cell_type": "code",
   "execution_count": null,
   "id": "ad087838",
   "metadata": {},
   "outputs": [],
   "source": []
  },
  {
   "cell_type": "code",
   "execution_count": null,
   "id": "ecd70679",
   "metadata": {},
   "outputs": [],
   "source": []
  },
  {
   "cell_type": "code",
   "execution_count": null,
   "id": "1433a637",
   "metadata": {},
   "outputs": [],
   "source": []
  },
  {
   "cell_type": "code",
   "execution_count": null,
   "id": "6871ca6e",
   "metadata": {},
   "outputs": [],
   "source": []
  }
 ],
 "metadata": {
  "kernelspec": {
   "display_name": "Python 3 (ipykernel)",
   "language": "python",
   "name": "python3"
  },
  "language_info": {
   "codemirror_mode": {
    "name": "ipython",
    "version": 3
   },
   "file_extension": ".py",
   "mimetype": "text/x-python",
   "name": "python",
   "nbconvert_exporter": "python",
   "pygments_lexer": "ipython3",
   "version": "3.8.10"
  }
 },
 "nbformat": 4,
 "nbformat_minor": 5
}
