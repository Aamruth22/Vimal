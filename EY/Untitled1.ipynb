{
 "cells": [
  {
   "cell_type": "code",
   "execution_count": 1,
   "id": "2800d79b",
   "metadata": {},
   "outputs": [],
   "source": [
    "import pandas as pd\n",
    "import numpy as np"
   ]
  },
  {
   "cell_type": "code",
   "execution_count": 3,
   "id": "9cefdb1e",
   "metadata": {},
   "outputs": [],
   "source": [
    "data = pd.DataFrame({'category':['a','b','c'],\n",
    "       'sales':[500,600,550]})"
   ]
  },
  {
   "cell_type": "code",
   "execution_count": 4,
   "id": "54682c62",
   "metadata": {},
   "outputs": [
    {
     "data": {
      "text/html": [
       "<div>\n",
       "<style scoped>\n",
       "    .dataframe tbody tr th:only-of-type {\n",
       "        vertical-align: middle;\n",
       "    }\n",
       "\n",
       "    .dataframe tbody tr th {\n",
       "        vertical-align: top;\n",
       "    }\n",
       "\n",
       "    .dataframe thead th {\n",
       "        text-align: right;\n",
       "    }\n",
       "</style>\n",
       "<table border=\"1\" class=\"dataframe\">\n",
       "  <thead>\n",
       "    <tr style=\"text-align: right;\">\n",
       "      <th></th>\n",
       "      <th>category</th>\n",
       "      <th>sales</th>\n",
       "    </tr>\n",
       "  </thead>\n",
       "  <tbody>\n",
       "    <tr>\n",
       "      <th>0</th>\n",
       "      <td>a</td>\n",
       "      <td>500</td>\n",
       "    </tr>\n",
       "    <tr>\n",
       "      <th>1</th>\n",
       "      <td>b</td>\n",
       "      <td>600</td>\n",
       "    </tr>\n",
       "    <tr>\n",
       "      <th>2</th>\n",
       "      <td>c</td>\n",
       "      <td>550</td>\n",
       "    </tr>\n",
       "  </tbody>\n",
       "</table>\n",
       "</div>"
      ],
      "text/plain": [
       "  category  sales\n",
       "0        a    500\n",
       "1        b    600\n",
       "2        c    550"
      ]
     },
     "execution_count": 4,
     "metadata": {},
     "output_type": "execute_result"
    }
   ],
   "source": [
    "data"
   ]
  },
  {
   "cell_type": "code",
   "execution_count": 5,
   "id": "14accaad",
   "metadata": {},
   "outputs": [],
   "source": [
    "data['sales_10%'] = data['sales']*0.1"
   ]
  },
  {
   "cell_type": "code",
   "execution_count": 6,
   "id": "b282bdaa",
   "metadata": {},
   "outputs": [
    {
     "data": {
      "text/html": [
       "<div>\n",
       "<style scoped>\n",
       "    .dataframe tbody tr th:only-of-type {\n",
       "        vertical-align: middle;\n",
       "    }\n",
       "\n",
       "    .dataframe tbody tr th {\n",
       "        vertical-align: top;\n",
       "    }\n",
       "\n",
       "    .dataframe thead th {\n",
       "        text-align: right;\n",
       "    }\n",
       "</style>\n",
       "<table border=\"1\" class=\"dataframe\">\n",
       "  <thead>\n",
       "    <tr style=\"text-align: right;\">\n",
       "      <th></th>\n",
       "      <th>category</th>\n",
       "      <th>sales</th>\n",
       "      <th>sales_10%</th>\n",
       "    </tr>\n",
       "  </thead>\n",
       "  <tbody>\n",
       "    <tr>\n",
       "      <th>0</th>\n",
       "      <td>a</td>\n",
       "      <td>500</td>\n",
       "      <td>50.0</td>\n",
       "    </tr>\n",
       "    <tr>\n",
       "      <th>1</th>\n",
       "      <td>b</td>\n",
       "      <td>600</td>\n",
       "      <td>60.0</td>\n",
       "    </tr>\n",
       "    <tr>\n",
       "      <th>2</th>\n",
       "      <td>c</td>\n",
       "      <td>550</td>\n",
       "      <td>55.0</td>\n",
       "    </tr>\n",
       "  </tbody>\n",
       "</table>\n",
       "</div>"
      ],
      "text/plain": [
       "  category  sales  sales_10%\n",
       "0        a    500       50.0\n",
       "1        b    600       60.0\n",
       "2        c    550       55.0"
      ]
     },
     "execution_count": 6,
     "metadata": {},
     "output_type": "execute_result"
    }
   ],
   "source": [
    "data"
   ]
  },
  {
   "cell_type": "code",
   "execution_count": 7,
   "id": "ce6f5162",
   "metadata": {},
   "outputs": [],
   "source": [
    "def sales_predict(data):\n",
    "    data_values = data*0.1\n",
    "    print(data_values)"
   ]
  },
  {
   "cell_type": "code",
   "execution_count": 22,
   "id": "4a620407",
   "metadata": {},
   "outputs": [],
   "source": [
    "def sales_predict(data,percent):\n",
    "    data_values = data*percent\n",
    "    print(data_values)"
   ]
  },
  {
   "cell_type": "code",
   "execution_count": 25,
   "id": "b9d5ff72",
   "metadata": {},
   "outputs": [
    {
     "name": "stdout",
     "output_type": "stream",
     "text": [
      "0    150.0\n",
      "1    180.0\n",
      "2    165.0\n",
      "Name: sales, dtype: float64\n"
     ]
    }
   ],
   "source": [
    "sales_predict(data['sales'],0.3)"
   ]
  },
  {
   "cell_type": "code",
   "execution_count": 9,
   "id": "957c5cac",
   "metadata": {},
   "outputs": [],
   "source": [
    "search = 'nokia 8gb gold'"
   ]
  },
  {
   "cell_type": "code",
   "execution_count": 11,
   "id": "efc92f7f",
   "metadata": {},
   "outputs": [
    {
     "data": {
      "text/plain": [
       "['nokia', '8gb', 'gold']"
      ]
     },
     "execution_count": 11,
     "metadata": {},
     "output_type": "execute_result"
    }
   ],
   "source": [
    "search_list = search.split(' ')"
   ]
  },
  {
   "cell_type": "code",
   "execution_count": null,
   "id": "97ca82ad",
   "metadata": {},
   "outputs": [],
   "source": []
  },
  {
   "cell_type": "code",
   "execution_count": null,
   "id": "4b2a4185",
   "metadata": {},
   "outputs": [],
   "source": []
  },
  {
   "cell_type": "code",
   "execution_count": 1,
   "id": "b471cecf",
   "metadata": {},
   "outputs": [],
   "source": [
    "\n",
    "\n",
    "def search_path(search):\n",
    "    search_list = search.split(' ')\n",
    "    product = ['iphone','nokia','samsung']\n",
    "    ram = ['8gb','16gb','64gb']\n",
    "    colour = ['silver','gold']\n",
    "    \n",
    "    for i in search_list:\n",
    "        if i in product:\n",
    "            print('product :',i)\n",
    "            \n",
    "    for i in search_list:\n",
    "        if i in ram:\n",
    "            print('brand :',i)\n",
    "            \n",
    "    for i in search_list:\n",
    "        if i in colour:\n",
    "            print('colour :',i)\n",
    "              \n",
    "    \n"
   ]
  },
  {
   "cell_type": "code",
   "execution_count": 2,
   "id": "9ace0a05",
   "metadata": {},
   "outputs": [
    {
     "name": "stdout",
     "output_type": "stream",
     "text": [
      "product : nokia\n",
      "brand : 8gb\n",
      "colour : gold\n"
     ]
    }
   ],
   "source": [
    "search = 'nokia 8gb gold'\n",
    "search_path(search)"
   ]
  },
  {
   "cell_type": "code",
   "execution_count": null,
   "id": "d3c9df4e",
   "metadata": {},
   "outputs": [],
   "source": []
  },
  {
   "cell_type": "code",
   "execution_count": 3,
   "id": "2b65b95e",
   "metadata": {},
   "outputs": [
    {
     "name": "stdout",
     "output_type": "stream",
     "text": [
      "product : iphone\n",
      "brand : 16gb\n"
     ]
    }
   ],
   "source": [
    "search = 'iphone 16gb green'\n",
    "search_path(search)"
   ]
  },
  {
   "cell_type": "code",
   "execution_count": null,
   "id": "58ea4dd0",
   "metadata": {},
   "outputs": [],
   "source": []
  }
 ],
 "metadata": {
  "kernelspec": {
   "display_name": "Python 3 (ipykernel)",
   "language": "python",
   "name": "python3"
  },
  "language_info": {
   "codemirror_mode": {
    "name": "ipython",
    "version": 3
   },
   "file_extension": ".py",
   "mimetype": "text/x-python",
   "name": "python",
   "nbconvert_exporter": "python",
   "pygments_lexer": "ipython3",
   "version": "3.8.10"
  }
 },
 "nbformat": 4,
 "nbformat_minor": 5
}
